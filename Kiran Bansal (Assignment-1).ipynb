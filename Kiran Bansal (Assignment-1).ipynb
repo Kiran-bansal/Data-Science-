{
 "cells": [
  {
   "cell_type": "code",
   "execution_count": 2,
   "id": "ec150d1a",
   "metadata": {},
   "outputs": [
    {
     "name": "stdout",
     "output_type": "stream",
     "text": [
      "Lower Triangular Pattern:\n",
      "* \n",
      "* * \n",
      "* * * \n",
      "* * * * \n",
      "* * * * * \n",
      "Upper Triangular Pattern:\n",
      "* * * * * \n",
      "* * * * \n",
      "* * * \n",
      "* * \n",
      "* \n",
      "Pyramid Pattern:\n",
      "    * \n",
      "   * * \n",
      "  * * * \n",
      " * * * * \n",
      "* * * * * \n"
     ]
    }
   ],
   "source": [
    "n = 5\n",
    "print(\"Lower Triangular Pattern:\")\n",
    "for i in range(1, n + 1):\n",
    "    print(\"* \" * i)\n",
    "\n",
    "print(\"Upper Triangular Pattern:\")\n",
    "for i in range(n, 0, -1):\n",
    "    print(\"* \" * i)\n",
    "    \n",
    "print(\"Pyramid Pattern:\")\n",
    "for i in range(1, n + 1):\n",
    "    print(\" \" * (n - i), end=\"\")\n",
    "    print(\"* \" * i)\n"
   ]
  },
  {
   "cell_type": "code",
   "execution_count": null,
   "id": "d96550e9",
   "metadata": {},
   "outputs": [],
   "source": []
  }
 ],
 "metadata": {
  "kernelspec": {
   "display_name": "Python 3 (ipykernel)",
   "language": "python",
   "name": "python3"
  },
  "language_info": {
   "codemirror_mode": {
    "name": "ipython",
    "version": 3
   },
   "file_extension": ".py",
   "mimetype": "text/x-python",
   "name": "python",
   "nbconvert_exporter": "python",
   "pygments_lexer": "ipython3",
   "version": "3.11.5"
  }
 },
 "nbformat": 4,
 "nbformat_minor": 5
}
