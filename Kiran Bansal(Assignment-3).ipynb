{
 "cells": [
  {
   "cell_type": "code",
   "execution_count": 1,
   "id": "223ab9e8",
   "metadata": {},
   "outputs": [
    {
     "name": "stdout",
     "output_type": "stream",
     "text": [
      "Collecting tensorflow\n",
      "  Obtaining dependency information for tensorflow from https://files.pythonhosted.org/packages/ed/b6/62345568cd07de5d9254fcf64d7e44aacbb6abde11ea953b3cb320e58d19/tensorflow-2.17.0-cp311-cp311-win_amd64.whl.metadata\n",
      "  Using cached tensorflow-2.17.0-cp311-cp311-win_amd64.whl.metadata (3.2 kB)\n",
      "Collecting tensorflow-intel==2.17.0 (from tensorflow)\n",
      "  Obtaining dependency information for tensorflow-intel==2.17.0 from https://files.pythonhosted.org/packages/66/03/5c447feceb72f5a38ac2aa79d306fa5b5772f982c2b480c1329c7e382900/tensorflow_intel-2.17.0-cp311-cp311-win_amd64.whl.metadata\n",
      "  Using cached tensorflow_intel-2.17.0-cp311-cp311-win_amd64.whl.metadata (5.0 kB)\n",
      "Collecting absl-py>=1.0.0 (from tensorflow-intel==2.17.0->tensorflow)\n",
      "  Obtaining dependency information for absl-py>=1.0.0 from https://files.pythonhosted.org/packages/a2/ad/e0d3c824784ff121c03cc031f944bc7e139a8f1870ffd2845cc2dd76f6c4/absl_py-2.1.0-py3-none-any.whl.metadata\n",
      "  Using cached absl_py-2.1.0-py3-none-any.whl.metadata (2.3 kB)\n",
      "Collecting astunparse>=1.6.0 (from tensorflow-intel==2.17.0->tensorflow)\n",
      "  Obtaining dependency information for astunparse>=1.6.0 from https://files.pythonhosted.org/packages/2b/03/13dde6512ad7b4557eb792fbcf0c653af6076b81e5941d36ec61f7ce6028/astunparse-1.6.3-py2.py3-none-any.whl.metadata\n",
      "  Using cached astunparse-1.6.3-py2.py3-none-any.whl.metadata (4.4 kB)\n",
      "Collecting flatbuffers>=24.3.25 (from tensorflow-intel==2.17.0->tensorflow)\n",
      "  Obtaining dependency information for flatbuffers>=24.3.25 from https://files.pythonhosted.org/packages/41/f0/7e988a019bc54b2dbd0ad4182ef2d53488bb02e58694cd79d61369e85900/flatbuffers-24.3.25-py2.py3-none-any.whl.metadata\n",
      "  Using cached flatbuffers-24.3.25-py2.py3-none-any.whl.metadata (850 bytes)\n",
      "Collecting gast!=0.5.0,!=0.5.1,!=0.5.2,>=0.2.1 (from tensorflow-intel==2.17.0->tensorflow)\n",
      "  Obtaining dependency information for gast!=0.5.0,!=0.5.1,!=0.5.2,>=0.2.1 from https://files.pythonhosted.org/packages/a3/61/8001b38461d751cd1a0c3a6ae84346796a5758123f3ed97a1b121dfbf4f3/gast-0.6.0-py3-none-any.whl.metadata\n",
      "  Using cached gast-0.6.0-py3-none-any.whl.metadata (1.3 kB)\n",
      "Collecting google-pasta>=0.1.1 (from tensorflow-intel==2.17.0->tensorflow)\n",
      "  Obtaining dependency information for google-pasta>=0.1.1 from https://files.pythonhosted.org/packages/a3/de/c648ef6835192e6e2cc03f40b19eeda4382c49b5bafb43d88b931c4c74ac/google_pasta-0.2.0-py3-none-any.whl.metadata\n",
      "  Using cached google_pasta-0.2.0-py3-none-any.whl.metadata (814 bytes)\n",
      "Collecting h5py>=3.10.0 (from tensorflow-intel==2.17.0->tensorflow)\n",
      "  Obtaining dependency information for h5py>=3.10.0 from https://files.pythonhosted.org/packages/d8/5e/b7b83cfe60504cc4d24746aed04353af7ea8ec104e597e5ae71b8d0390cb/h5py-3.11.0-cp311-cp311-win_amd64.whl.metadata\n",
      "  Using cached h5py-3.11.0-cp311-cp311-win_amd64.whl.metadata (2.5 kB)\n",
      "Collecting libclang>=13.0.0 (from tensorflow-intel==2.17.0->tensorflow)\n",
      "  Obtaining dependency information for libclang>=13.0.0 from https://files.pythonhosted.org/packages/0b/2d/3f480b1e1d31eb3d6de5e3ef641954e5c67430d5ac93b7fa7e07589576c7/libclang-18.1.1-py2.py3-none-win_amd64.whl.metadata\n",
      "  Using cached libclang-18.1.1-py2.py3-none-win_amd64.whl.metadata (5.3 kB)\n",
      "Collecting ml-dtypes<0.5.0,>=0.3.1 (from tensorflow-intel==2.17.0->tensorflow)\n",
      "  Obtaining dependency information for ml-dtypes<0.5.0,>=0.3.1 from https://files.pythonhosted.org/packages/f0/36/290745178e5776f7416818abc1334c1b19afb93c7c87fd1bef3cc99f84ca/ml_dtypes-0.4.0-cp311-cp311-win_amd64.whl.metadata\n",
      "  Using cached ml_dtypes-0.4.0-cp311-cp311-win_amd64.whl.metadata (20 kB)\n",
      "Collecting opt-einsum>=2.3.2 (from tensorflow-intel==2.17.0->tensorflow)\n",
      "  Obtaining dependency information for opt-einsum>=2.3.2 from https://files.pythonhosted.org/packages/bc/19/404708a7e54ad2798907210462fd950c3442ea51acc8790f3da48d2bee8b/opt_einsum-3.3.0-py3-none-any.whl.metadata\n",
      "  Using cached opt_einsum-3.3.0-py3-none-any.whl.metadata (6.5 kB)\n",
      "Requirement already satisfied: packaging in c:\\users\\hp\\anaconda3\\lib\\site-packages (from tensorflow-intel==2.17.0->tensorflow) (23.1)\n",
      "Collecting protobuf!=4.21.0,!=4.21.1,!=4.21.2,!=4.21.3,!=4.21.4,!=4.21.5,<5.0.0dev,>=3.20.3 (from tensorflow-intel==2.17.0->tensorflow)\n",
      "  Obtaining dependency information for protobuf!=4.21.0,!=4.21.1,!=4.21.2,!=4.21.3,!=4.21.4,!=4.21.5,<5.0.0dev,>=3.20.3 from https://files.pythonhosted.org/packages/0c/d4/589d673ada9c4c62d5f155218d7ff7ac796efb9c6af95b0bd29d438ae16e/protobuf-4.25.4-cp310-abi3-win_amd64.whl.metadata\n",
      "  Using cached protobuf-4.25.4-cp310-abi3-win_amd64.whl.metadata (541 bytes)\n",
      "Requirement already satisfied: requests<3,>=2.21.0 in c:\\users\\hp\\anaconda3\\lib\\site-packages (from tensorflow-intel==2.17.0->tensorflow) (2.31.0)\n",
      "Requirement already satisfied: setuptools in c:\\users\\hp\\anaconda3\\lib\\site-packages (from tensorflow-intel==2.17.0->tensorflow) (68.0.0)\n",
      "Requirement already satisfied: six>=1.12.0 in c:\\users\\hp\\anaconda3\\lib\\site-packages (from tensorflow-intel==2.17.0->tensorflow) (1.16.0)\n",
      "Collecting termcolor>=1.1.0 (from tensorflow-intel==2.17.0->tensorflow)\n",
      "  Obtaining dependency information for termcolor>=1.1.0 from https://files.pythonhosted.org/packages/d9/5f/8c716e47b3a50cbd7c146f45881e11d9414def768b7cd9c5e6650ec2a80a/termcolor-2.4.0-py3-none-any.whl.metadata\n",
      "  Using cached termcolor-2.4.0-py3-none-any.whl.metadata (6.1 kB)\n",
      "Requirement already satisfied: typing-extensions>=3.6.6 in c:\\users\\hp\\anaconda3\\lib\\site-packages (from tensorflow-intel==2.17.0->tensorflow) (4.7.1)\n",
      "Requirement already satisfied: wrapt>=1.11.0 in c:\\users\\hp\\anaconda3\\lib\\site-packages (from tensorflow-intel==2.17.0->tensorflow) (1.14.1)\n",
      "Collecting grpcio<2.0,>=1.24.3 (from tensorflow-intel==2.17.0->tensorflow)\n",
      "  Obtaining dependency information for grpcio<2.0,>=1.24.3 from https://files.pythonhosted.org/packages/74/12/257ab1687ab913aa39330092a9816014bfcf108557f05869a4d40e01ece1/grpcio-1.65.4-cp311-cp311-win_amd64.whl.metadata\n",
      "  Using cached grpcio-1.65.4-cp311-cp311-win_amd64.whl.metadata (3.4 kB)\n",
      "Collecting tensorboard<2.18,>=2.17 (from tensorflow-intel==2.17.0->tensorflow)\n",
      "  Obtaining dependency information for tensorboard<2.18,>=2.17 from https://files.pythonhosted.org/packages/0a/32/2e8545fb0592f33e3aca5951e8b01008b76d61b440658cbdc37b4eaebf0b/tensorboard-2.17.0-py3-none-any.whl.metadata\n",
      "  Using cached tensorboard-2.17.0-py3-none-any.whl.metadata (1.6 kB)\n",
      "Collecting keras>=3.2.0 (from tensorflow-intel==2.17.0->tensorflow)\n",
      "  Obtaining dependency information for keras>=3.2.0 from https://files.pythonhosted.org/packages/46/43/03fa53f027e78af4a6bee3564d05cb34d9f5b924dc69c85f8ef5cb950ff1/keras-3.4.1-py3-none-any.whl.metadata\n",
      "  Using cached keras-3.4.1-py3-none-any.whl.metadata (5.8 kB)\n",
      "Collecting tensorflow-io-gcs-filesystem>=0.23.1 (from tensorflow-intel==2.17.0->tensorflow)\n",
      "  Obtaining dependency information for tensorflow-io-gcs-filesystem>=0.23.1 from https://files.pythonhosted.org/packages/ac/4e/9566a313927be582ca99455a9523a097c7888fc819695bdc08415432b202/tensorflow_io_gcs_filesystem-0.31.0-cp311-cp311-win_amd64.whl.metadata\n",
      "  Using cached tensorflow_io_gcs_filesystem-0.31.0-cp311-cp311-win_amd64.whl.metadata (14 kB)\n",
      "Requirement already satisfied: numpy<2.0.0,>=1.23.5 in c:\\users\\hp\\anaconda3\\lib\\site-packages (from tensorflow-intel==2.17.0->tensorflow) (1.24.3)\n",
      "Requirement already satisfied: wheel<1.0,>=0.23.0 in c:\\users\\hp\\anaconda3\\lib\\site-packages (from astunparse>=1.6.0->tensorflow-intel==2.17.0->tensorflow) (0.38.4)\n",
      "Collecting rich (from keras>=3.2.0->tensorflow-intel==2.17.0->tensorflow)\n",
      "  Obtaining dependency information for rich from https://files.pythonhosted.org/packages/87/67/a37f6214d0e9fe57f6ae54b2956d550ca8365857f42a1ce0392bb21d9410/rich-13.7.1-py3-none-any.whl.metadata\n",
      "  Using cached rich-13.7.1-py3-none-any.whl.metadata (18 kB)\n",
      "Collecting namex (from keras>=3.2.0->tensorflow-intel==2.17.0->tensorflow)\n",
      "  Obtaining dependency information for namex from https://files.pythonhosted.org/packages/73/59/7854fbfb59f8ae35483ce93493708be5942ebb6328cd85b3a609df629736/namex-0.0.8-py3-none-any.whl.metadata\n",
      "  Using cached namex-0.0.8-py3-none-any.whl.metadata (246 bytes)\n",
      "Collecting optree (from keras>=3.2.0->tensorflow-intel==2.17.0->tensorflow)\n",
      "  Obtaining dependency information for optree from https://files.pythonhosted.org/packages/12/26/ce14a11c328bfcf29341da42342cc48e4d65fb44e4e559c9e4036a88b750/optree-0.12.1-cp311-cp311-win_amd64.whl.metadata\n",
      "  Using cached optree-0.12.1-cp311-cp311-win_amd64.whl.metadata (48 kB)\n",
      "Requirement already satisfied: charset-normalizer<4,>=2 in c:\\users\\hp\\anaconda3\\lib\\site-packages (from requests<3,>=2.21.0->tensorflow-intel==2.17.0->tensorflow) (2.0.4)\n",
      "Requirement already satisfied: idna<4,>=2.5 in c:\\users\\hp\\anaconda3\\lib\\site-packages (from requests<3,>=2.21.0->tensorflow-intel==2.17.0->tensorflow) (3.4)\n",
      "Requirement already satisfied: urllib3<3,>=1.21.1 in c:\\users\\hp\\anaconda3\\lib\\site-packages (from requests<3,>=2.21.0->tensorflow-intel==2.17.0->tensorflow) (1.26.16)\n",
      "Requirement already satisfied: certifi>=2017.4.17 in c:\\users\\hp\\anaconda3\\lib\\site-packages (from requests<3,>=2.21.0->tensorflow-intel==2.17.0->tensorflow) (2023.7.22)\n",
      "Requirement already satisfied: markdown>=2.6.8 in c:\\users\\hp\\anaconda3\\lib\\site-packages (from tensorboard<2.18,>=2.17->tensorflow-intel==2.17.0->tensorflow) (3.4.1)\n",
      "Collecting tensorboard-data-server<0.8.0,>=0.7.0 (from tensorboard<2.18,>=2.17->tensorflow-intel==2.17.0->tensorflow)\n",
      "  Obtaining dependency information for tensorboard-data-server<0.8.0,>=0.7.0 from https://files.pythonhosted.org/packages/7a/13/e503968fefabd4c6b2650af21e110aa8466fe21432cd7c43a84577a89438/tensorboard_data_server-0.7.2-py3-none-any.whl.metadata\n",
      "  Using cached tensorboard_data_server-0.7.2-py3-none-any.whl.metadata (1.1 kB)\n",
      "Requirement already satisfied: werkzeug>=1.0.1 in c:\\users\\hp\\anaconda3\\lib\\site-packages (from tensorboard<2.18,>=2.17->tensorflow-intel==2.17.0->tensorflow) (2.2.3)\n",
      "Requirement already satisfied: MarkupSafe>=2.1.1 in c:\\users\\hp\\anaconda3\\lib\\site-packages (from werkzeug>=1.0.1->tensorboard<2.18,>=2.17->tensorflow-intel==2.17.0->tensorflow) (2.1.1)\n",
      "Requirement already satisfied: markdown-it-py>=2.2.0 in c:\\users\\hp\\anaconda3\\lib\\site-packages (from rich->keras>=3.2.0->tensorflow-intel==2.17.0->tensorflow) (2.2.0)\n",
      "Requirement already satisfied: pygments<3.0.0,>=2.13.0 in c:\\users\\hp\\anaconda3\\lib\\site-packages (from rich->keras>=3.2.0->tensorflow-intel==2.17.0->tensorflow) (2.15.1)\n",
      "Requirement already satisfied: mdurl~=0.1 in c:\\users\\hp\\anaconda3\\lib\\site-packages (from markdown-it-py>=2.2.0->rich->keras>=3.2.0->tensorflow-intel==2.17.0->tensorflow) (0.1.0)\n",
      "Using cached tensorflow-2.17.0-cp311-cp311-win_amd64.whl (2.0 kB)\n",
      "Using cached tensorflow_intel-2.17.0-cp311-cp311-win_amd64.whl (385.0 MB)\n",
      "Downloading absl_py-2.1.0-py3-none-any.whl (133 kB)\n",
      "   ---------------------------------------- 0.0/133.7 kB ? eta -:--:--\n",
      "   --------- ------------------------------ 30.7/133.7 kB ? eta -:--:--\n",
      "   --------------------------- ------------ 92.2/133.7 kB 1.7 MB/s eta 0:00:01\n",
      "   --------------------------- ------------ 92.2/133.7 kB 1.7 MB/s eta 0:00:01\n",
      "   --------------------------- ------------ 92.2/133.7 kB 1.7 MB/s eta 0:00:01\n",
      "   --------------------------- ------------ 92.2/133.7 kB 1.7 MB/s eta 0:00:01\n",
      "   -------------------------------------  133.1/133.7 kB 491.5 kB/s eta 0:00:01\n",
      "   -------------------------------------- 133.7/133.7 kB 439.4 kB/s eta 0:00:00\n",
      "Downloading astunparse-1.6.3-py2.py3-none-any.whl (12 kB)\n",
      "Downloading flatbuffers-24.3.25-py2.py3-none-any.whl (26 kB)\n",
      "Downloading gast-0.6.0-py3-none-any.whl (21 kB)\n",
      "Downloading google_pasta-0.2.0-py3-none-any.whl (57 kB)\n",
      "   ---------------------------------------- 0.0/57.5 kB ? eta -:--:--\n",
      "   ----------------------------------- ---- 51.2/57.5 kB ? eta -:--:--\n",
      "   ---------------------------------------- 57.5/57.5 kB 1.0 MB/s eta 0:00:00\n",
      "Downloading grpcio-1.65.4-cp311-cp311-win_amd64.whl (4.1 MB)\n",
      "   ---------------------------------------- 0.0/4.1 MB ? eta -:--:--\n",
      "   - -------------------------------------- 0.1/4.1 MB ? eta -:--:--\n",
      "   - -------------------------------------- 0.1/4.1 MB ? eta -:--:--\n",
      "   -- ------------------------------------- 0.3/4.1 MB 2.2 MB/s eta 0:00:02\n",
      "   --- ------------------------------------ 0.4/4.1 MB 2.2 MB/s eta 0:00:02\n",
      "   ----- ---------------------------------- 0.5/4.1 MB 2.2 MB/s eta 0:00:02\n",
      "   ------- -------------------------------- 0.7/4.1 MB 2.6 MB/s eta 0:00:02\n",
      "   -------- ------------------------------- 0.9/4.1 MB 2.5 MB/s eta 0:00:02\n",
      "   --------- ------------------------------ 1.0/4.1 MB 2.7 MB/s eta 0:00:02\n",
      "   ----------- ---------------------------- 1.1/4.1 MB 2.7 MB/s eta 0:00:02\n",
      "   ----------- ---------------------------- 1.2/4.1 MB 2.6 MB/s eta 0:00:02\n",
      "   ------------- -------------------------- 1.4/4.1 MB 2.6 MB/s eta 0:00:02\n",
      "   -------------- ------------------------- 1.5/4.1 MB 2.6 MB/s eta 0:00:02\n",
      "   ---------------- ----------------------- 1.8/4.1 MB 2.8 MB/s eta 0:00:01\n",
      "   ----------------- ---------------------- 1.8/4.1 MB 2.8 MB/s eta 0:00:01\n",
      "   ----------------- ---------------------- 1.9/4.1 MB 2.6 MB/s eta 0:00:01\n",
      "   -------------------- ------------------- 2.1/4.1 MB 2.8 MB/s eta 0:00:01\n",
      "   --------------------- ------------------ 2.2/4.1 MB 2.7 MB/s eta 0:00:01\n",
      "   ----------------------- ---------------- 2.4/4.1 MB 2.8 MB/s eta 0:00:01\n",
      "   ------------------------ --------------- 2.6/4.1 MB 2.9 MB/s eta 0:00:01\n",
      "   ------------------------ --------------- 2.6/4.1 MB 2.9 MB/s eta 0:00:01\n",
      "   ------------------------ --------------- 2.6/4.1 MB 2.9 MB/s eta 0:00:01\n",
      "   --------------------------- ------------ 2.9/4.1 MB 2.7 MB/s eta 0:00:01\n",
      "   --------------------------- ------------ 2.9/4.1 MB 2.7 MB/s eta 0:00:01\n",
      "   ----------------------------- ---------- 3.1/4.1 MB 2.7 MB/s eta 0:00:01\n",
      "   ------------------------------ --------- 3.2/4.1 MB 2.7 MB/s eta 0:00:01\n",
      "   -------------------------------- ------- 3.4/4.1 MB 2.7 MB/s eta 0:00:01\n",
      "   ----------------------------------- ---- 3.7/4.1 MB 2.8 MB/s eta 0:00:01\n",
      "   ---------------------------------------  4.1/4.1 MB 3.0 MB/s eta 0:00:01\n",
      "   ---------------------------------------- 4.1/4.1 MB 2.9 MB/s eta 0:00:00\n",
      "Downloading h5py-3.11.0-cp311-cp311-win_amd64.whl (3.0 MB)\n",
      "   ---------------------------------------- 0.0/3.0 MB ? eta -:--:--\n",
      "   ---- ----------------------------------- 0.4/3.0 MB 7.4 MB/s eta 0:00:01\n",
      "   ------- -------------------------------- 0.5/3.0 MB 6.6 MB/s eta 0:00:01\n",
      "   ------- -------------------------------- 0.5/3.0 MB 6.6 MB/s eta 0:00:01\n",
      "   ------- -------------------------------- 0.5/3.0 MB 6.6 MB/s eta 0:00:01\n",
      "   ---------- ----------------------------- 0.8/3.0 MB 3.4 MB/s eta 0:00:01\n",
      "   ------------ --------------------------- 1.0/3.0 MB 3.6 MB/s eta 0:00:01\n",
      "   --------------- ------------------------ 1.1/3.0 MB 3.4 MB/s eta 0:00:01\n",
      "   ------------------ --------------------- 1.4/3.0 MB 3.7 MB/s eta 0:00:01\n",
      "   ---------------------- ----------------- 1.6/3.0 MB 3.9 MB/s eta 0:00:01\n",
      "   -------------------------- ------------- 1.9/3.0 MB 4.0 MB/s eta 0:00:01\n",
      "   ----------------------------- ---------- 2.2/3.0 MB 4.3 MB/s eta 0:00:01\n",
      "   ---------------------------------- ----- 2.5/3.0 MB 4.4 MB/s eta 0:00:01\n",
      "   ------------------------------------- -- 2.8/3.0 MB 4.6 MB/s eta 0:00:01\n",
      "   ---------------------------------------  3.0/3.0 MB 4.6 MB/s eta 0:00:01\n",
      "   ---------------------------------------- 3.0/3.0 MB 4.4 MB/s eta 0:00:00\n",
      "Downloading keras-3.4.1-py3-none-any.whl (1.1 MB)\n",
      "   ---------------------------------------- 0.0/1.1 MB ? eta -:--:--\n",
      "   ---------- ----------------------------- 0.3/1.1 MB 9.6 MB/s eta 0:00:01\n",
      "   ---------------------- ----------------- 0.6/1.1 MB 6.5 MB/s eta 0:00:01\n",
      "   -------------------------------- ------- 0.9/1.1 MB 6.5 MB/s eta 0:00:01\n",
      "   ---------------------------------------  1.1/1.1 MB 6.5 MB/s eta 0:00:01\n",
      "   ---------------------------------------  1.1/1.1 MB 6.5 MB/s eta 0:00:01\n",
      "   ---------------------------------------- 1.1/1.1 MB 4.8 MB/s eta 0:00:00\n",
      "Downloading libclang-18.1.1-py2.py3-none-win_amd64.whl (26.4 MB)\n",
      "   ---------------------------------------- 0.0/26.4 MB ? eta -:--:--\n",
      "    --------------------------------------- 0.3/26.4 MB 7.0 MB/s eta 0:00:04\n",
      "   - -------------------------------------- 0.7/26.4 MB 7.0 MB/s eta 0:00:04\n",
      "   - -------------------------------------- 1.0/26.4 MB 7.0 MB/s eta 0:00:04\n",
      "   - -------------------------------------- 1.3/26.4 MB 6.8 MB/s eta 0:00:04\n",
      "   -- ------------------------------------- 1.5/26.4 MB 6.6 MB/s eta 0:00:04\n",
      "   -- ------------------------------------- 1.5/26.4 MB 5.3 MB/s eta 0:00:05\n",
      "   -- ------------------------------------- 1.7/26.4 MB 5.1 MB/s eta 0:00:05\n",
      "   -- ------------------------------------- 1.9/26.4 MB 5.0 MB/s eta 0:00:05\n",
      "   --- ------------------------------------ 2.2/26.4 MB 5.1 MB/s eta 0:00:05\n",
      "   --- ------------------------------------ 2.5/26.4 MB 5.2 MB/s eta 0:00:05\n",
      "   ---- ----------------------------------- 2.7/26.4 MB 5.3 MB/s eta 0:00:05\n",
      "   ---- ----------------------------------- 3.1/26.4 MB 5.4 MB/s eta 0:00:05\n",
      "   ----- ---------------------------------- 3.4/26.4 MB 5.5 MB/s eta 0:00:05\n",
      "   ----- ---------------------------------- 3.6/26.4 MB 5.5 MB/s eta 0:00:05\n",
      "   ------ --------------------------------- 4.0/26.4 MB 5.6 MB/s eta 0:00:04\n",
      "   ------ --------------------------------- 4.3/26.4 MB 5.7 MB/s eta 0:00:04\n",
      "   ------ --------------------------------- 4.6/26.4 MB 5.8 MB/s eta 0:00:04\n",
      "   ------- -------------------------------- 4.9/26.4 MB 5.9 MB/s eta 0:00:04\n",
      "   ------- -------------------------------- 5.1/26.4 MB 5.7 MB/s eta 0:00:04\n",
      "   -------- ------------------------------- 5.3/26.4 MB 5.6 MB/s eta 0:00:04\n",
      "   -------- ------------------------------- 5.6/26.4 MB 5.7 MB/s eta 0:00:04\n",
      "   -------- ------------------------------- 5.9/26.4 MB 5.8 MB/s eta 0:00:04\n",
      "   --------- ------------------------------ 6.2/26.4 MB 5.8 MB/s eta 0:00:04\n",
      "   --------- ------------------------------ 6.3/26.4 MB 5.8 MB/s eta 0:00:04\n",
      "   ---------- ----------------------------- 6.8/26.4 MB 5.8 MB/s eta 0:00:04\n",
      "   ---------- ----------------------------- 7.2/26.4 MB 5.9 MB/s eta 0:00:04\n",
      "   ----------- ---------------------------- 7.5/26.4 MB 5.9 MB/s eta 0:00:04\n",
      "   ----------- ---------------------------- 7.8/26.4 MB 6.0 MB/s eta 0:00:04\n",
      "   ------------ --------------------------- 8.2/26.4 MB 6.0 MB/s eta 0:00:04\n",
      "   ------------ --------------------------- 8.5/26.4 MB 6.0 MB/s eta 0:00:03\n",
      "   ------------- -------------------------- 8.7/26.4 MB 5.9 MB/s eta 0:00:03\n",
      "   ------------- -------------------------- 8.9/26.4 MB 6.0 MB/s eta 0:00:03\n",
      "   -------------- ------------------------- 9.4/26.4 MB 6.0 MB/s eta 0:00:03\n",
      "   -------------- ------------------------- 9.7/26.4 MB 6.0 MB/s eta 0:00:03\n",
      "   --------------- ------------------------ 10.0/26.4 MB 6.1 MB/s eta 0:00:03\n",
      "   --------------- ------------------------ 10.4/26.4 MB 6.1 MB/s eta 0:00:03\n",
      "   ---------------- ----------------------- 10.7/26.4 MB 6.1 MB/s eta 0:00:03\n",
      "   ---------------- ----------------------- 11.0/26.4 MB 6.1 MB/s eta 0:00:03\n",
      "   ----------------- ---------------------- 11.3/26.4 MB 6.1 MB/s eta 0:00:03\n",
      "   ----------------- ---------------------- 11.7/26.4 MB 6.1 MB/s eta 0:00:03\n",
      "   ------------------ --------------------- 12.0/26.4 MB 6.4 MB/s eta 0:00:03\n",
      "   ------------------ --------------------- 12.3/26.4 MB 6.5 MB/s eta 0:00:03\n",
      "   ------------------- -------------------- 12.6/26.4 MB 6.5 MB/s eta 0:00:03\n",
      "   ------------------- -------------------- 12.9/26.4 MB 6.5 MB/s eta 0:00:03\n",
      "   ------------------- -------------------- 13.1/26.4 MB 6.5 MB/s eta 0:00:03\n",
      "   -------------------- ------------------- 13.5/26.4 MB 6.5 MB/s eta 0:00:02\n",
      "   -------------------- ------------------- 13.8/26.4 MB 6.5 MB/s eta 0:00:02\n",
      "   --------------------- ------------------ 14.1/26.4 MB 6.5 MB/s eta 0:00:02\n",
      "   --------------------- ------------------ 14.4/26.4 MB 6.5 MB/s eta 0:00:02\n",
      "   ---------------------- ----------------- 14.7/26.4 MB 6.5 MB/s eta 0:00:02\n",
      "   ---------------------- ----------------- 15.0/26.4 MB 6.5 MB/s eta 0:00:02\n",
      "   ----------------------- ---------------- 15.4/26.4 MB 6.6 MB/s eta 0:00:02\n",
      "   ----------------------- ---------------- 15.6/26.4 MB 6.6 MB/s eta 0:00:02\n",
      "   ------------------------ --------------- 16.0/26.4 MB 6.6 MB/s eta 0:00:02\n",
      "   ------------------------ --------------- 16.2/26.4 MB 6.6 MB/s eta 0:00:02\n",
      "   ------------------------- -------------- 16.6/26.4 MB 6.8 MB/s eta 0:00:02\n",
      "   ------------------------- -------------- 16.9/26.4 MB 6.6 MB/s eta 0:00:02\n",
      "   ------------------------- -------------- 17.1/26.4 MB 6.5 MB/s eta 0:00:02\n",
      "   -------------------------- ------------- 17.3/26.4 MB 6.5 MB/s eta 0:00:02\n",
      "   -------------------------- ------------- 17.7/26.4 MB 6.5 MB/s eta 0:00:02\n",
      "   -------------------------- ------------- 17.7/26.4 MB 6.5 MB/s eta 0:00:02\n",
      "   --------------------------- ------------ 18.3/26.4 MB 6.5 MB/s eta 0:00:02\n",
      "   ---------------------------- ----------- 18.7/26.4 MB 6.5 MB/s eta 0:00:02\n",
      "   ---------------------------- ----------- 18.7/26.4 MB 6.5 MB/s eta 0:00:02\n",
      "   ---------------------------- ----------- 18.7/26.4 MB 6.5 MB/s eta 0:00:02\n",
      "   ---------------------------- ----------- 18.7/26.4 MB 6.5 MB/s eta 0:00:02\n",
      "   ---------------------------- ----------- 18.7/26.4 MB 6.5 MB/s eta 0:00:02\n",
      "   ---------------------------- ----------- 19.0/26.4 MB 5.9 MB/s eta 0:00:02\n",
      "   ------------------------------- -------- 20.5/26.4 MB 6.5 MB/s eta 0:00:01\n",
      "   ------------------------------- -------- 20.8/26.4 MB 6.5 MB/s eta 0:00:01\n",
      "   -------------------------------- ------- 21.1/26.4 MB 6.5 MB/s eta 0:00:01\n",
      "   -------------------------------- ------- 21.5/26.4 MB 6.5 MB/s eta 0:00:01\n",
      "   --------------------------------- ------ 21.8/26.4 MB 6.5 MB/s eta 0:00:01\n",
      "   --------------------------------- ------ 22.1/26.4 MB 6.5 MB/s eta 0:00:01\n",
      "   ---------------------------------- ----- 22.5/26.4 MB 6.5 MB/s eta 0:00:01\n",
      "   ---------------------------------- ----- 22.8/26.4 MB 6.5 MB/s eta 0:00:01\n",
      "   ---------------------------------- ----- 23.1/26.4 MB 6.6 MB/s eta 0:00:01\n",
      "   ----------------------------------- ---- 23.4/26.4 MB 6.5 MB/s eta 0:00:01\n",
      "   ----------------------------------- ---- 23.8/26.4 MB 6.5 MB/s eta 0:00:01\n",
      "   ------------------------------------ --- 24.1/26.4 MB 6.6 MB/s eta 0:00:01\n",
      "   ------------------------------------ --- 24.4/26.4 MB 6.6 MB/s eta 0:00:01\n",
      "   ------------------------------------- -- 24.7/26.4 MB 6.6 MB/s eta 0:00:01\n",
      "   ------------------------------------- -- 25.0/26.4 MB 6.5 MB/s eta 0:00:01\n",
      "   -------------------------------------- - 25.3/26.4 MB 6.6 MB/s eta 0:00:01\n",
      "   -------------------------------------- - 25.7/26.4 MB 6.6 MB/s eta 0:00:01\n",
      "   ---------------------------------------  26.0/26.4 MB 6.6 MB/s eta 0:00:01\n",
      "   ---------------------------------------  26.3/26.4 MB 6.7 MB/s eta 0:00:01\n",
      "   ---------------------------------------  26.4/26.4 MB 6.7 MB/s eta 0:00:01\n",
      "   ---------------------------------------  26.4/26.4 MB 6.7 MB/s eta 0:00:01\n",
      "   ---------------------------------------  26.4/26.4 MB 6.7 MB/s eta 0:00:01\n",
      "   ---------------------------------------  26.4/26.4 MB 6.7 MB/s eta 0:00:01\n",
      "   ---------------------------------------  26.4/26.4 MB 6.7 MB/s eta 0:00:01\n",
      "   ---------------------------------------  26.4/26.4 MB 6.7 MB/s eta 0:00:01\n",
      "   ---------------------------------------  26.4/26.4 MB 6.7 MB/s eta 0:00:01\n",
      "   ---------------------------------------  26.4/26.4 MB 6.7 MB/s eta 0:00:01\n",
      "   ---------------------------------------  26.4/26.4 MB 6.7 MB/s eta 0:00:01\n",
      "   ---------------------------------------  26.4/26.4 MB 6.7 MB/s eta 0:00:01\n",
      "   ---------------------------------------  26.4/26.4 MB 6.7 MB/s eta 0:00:01\n",
      "   ---------------------------------------  26.4/26.4 MB 6.7 MB/s eta 0:00:01\n",
      "   ---------------------------------------  26.4/26.4 MB 6.7 MB/s eta 0:00:01\n",
      "   ---------------------------------------  26.4/26.4 MB 6.7 MB/s eta 0:00:01\n",
      "   ---------------------------------------  26.4/26.4 MB 6.7 MB/s eta 0:00:01\n",
      "   ---------------------------------------- 26.4/26.4 MB 4.5 MB/s eta 0:00:00\n",
      "Downloading ml_dtypes-0.4.0-cp311-cp311-win_amd64.whl (126 kB)\n",
      "   ---------------------------------------- 0.0/126.8 kB ? eta -:--:--\n",
      "   ---------------------------------------- 126.8/126.8 kB 3.8 MB/s eta 0:00:00\n",
      "Downloading opt_einsum-3.3.0-py3-none-any.whl (65 kB)\n",
      "   ---------------------------------------- 0.0/65.5 kB ? eta -:--:--\n",
      "   ---------------------------------------- 65.5/65.5 kB ? eta 0:00:00\n",
      "Downloading protobuf-4.25.4-cp310-abi3-win_amd64.whl (413 kB)\n",
      "   ---------------------------------------- 0.0/413.4 kB ? eta -:--:--\n",
      "   ------------------------ --------------- 256.0/413.4 kB 7.9 MB/s eta 0:00:01\n",
      "   ---------------------------------------  409.6/413.4 kB 8.7 MB/s eta 0:00:01\n",
      "   ---------------------------------------- 413.4/413.4 kB 3.7 MB/s eta 0:00:00\n",
      "Downloading tensorboard-2.17.0-py3-none-any.whl (5.5 MB)\n",
      "   ---------------------------------------- 0.0/5.5 MB ? eta -:--:--\n",
      "   - -------------------------------------- 0.2/5.5 MB 10.2 MB/s eta 0:00:01\n",
      "   - -------------------------------------- 0.2/5.5 MB 10.2 MB/s eta 0:00:01\n",
      "   -- ------------------------------------- 0.3/5.5 MB 2.1 MB/s eta 0:00:03\n",
      "   --- ------------------------------------ 0.5/5.5 MB 2.8 MB/s eta 0:00:02\n",
      "   ----- ---------------------------------- 0.8/5.5 MB 3.5 MB/s eta 0:00:02\n",
      "   ------- -------------------------------- 1.0/5.5 MB 3.9 MB/s eta 0:00:02\n",
      "   --------- ------------------------------ 1.3/5.5 MB 4.2 MB/s eta 0:00:01\n",
      "   ----------- ---------------------------- 1.6/5.5 MB 4.3 MB/s eta 0:00:01\n",
      "   ------------- -------------------------- 1.8/5.5 MB 4.5 MB/s eta 0:00:01\n",
      "   --------------- ------------------------ 2.1/5.5 MB 4.6 MB/s eta 0:00:01\n",
      "   ---------------- ----------------------- 2.3/5.5 MB 4.6 MB/s eta 0:00:01\n",
      "   ------------------ --------------------- 2.6/5.5 MB 4.8 MB/s eta 0:00:01\n",
      "   -------------------- ------------------- 2.9/5.5 MB 4.9 MB/s eta 0:00:01\n",
      "   ---------------------- ----------------- 3.1/5.5 MB 4.9 MB/s eta 0:00:01\n",
      "   ------------------------ --------------- 3.4/5.5 MB 4.9 MB/s eta 0:00:01\n",
      "   -------------------------- ------------- 3.7/5.5 MB 5.0 MB/s eta 0:00:01\n",
      "   ---------------------------- ----------- 3.9/5.5 MB 5.0 MB/s eta 0:00:01\n",
      "   ------------------------------ --------- 4.2/5.5 MB 5.1 MB/s eta 0:00:01\n",
      "   -------------------------------- ------- 4.5/5.5 MB 5.1 MB/s eta 0:00:01\n",
      "   ---------------------------------- ----- 4.7/5.5 MB 5.1 MB/s eta 0:00:01\n",
      "   ------------------------------------ --- 5.0/5.5 MB 5.1 MB/s eta 0:00:01\n",
      "   -------------------------------------- - 5.2/5.5 MB 5.2 MB/s eta 0:00:01\n",
      "   ---------------------------------------  5.5/5.5 MB 5.2 MB/s eta 0:00:01\n",
      "   ---------------------------------------  5.5/5.5 MB 5.2 MB/s eta 0:00:01\n",
      "   ---------------------------------------- 5.5/5.5 MB 4.8 MB/s eta 0:00:00\n",
      "Downloading tensorflow_io_gcs_filesystem-0.31.0-cp311-cp311-win_amd64.whl (1.5 MB)\n",
      "   ---------------------------------------- 0.0/1.5 MB ? eta -:--:--\n",
      "   ------- -------------------------------- 0.3/1.5 MB 5.7 MB/s eta 0:00:01\n",
      "   -------------- ------------------------- 0.5/1.5 MB 6.7 MB/s eta 0:00:01\n",
      "   ---------------------- ----------------- 0.8/1.5 MB 6.7 MB/s eta 0:00:01\n",
      "   ------------------------------ --------- 1.1/1.5 MB 6.6 MB/s eta 0:00:01\n",
      "   ---------------------------------------  1.5/1.5 MB 6.2 MB/s eta 0:00:01\n",
      "   ---------------------------------------  1.5/1.5 MB 5.9 MB/s eta 0:00:01\n",
      "   ---------------------------------------- 1.5/1.5 MB 5.0 MB/s eta 0:00:00\n",
      "Downloading termcolor-2.4.0-py3-none-any.whl (7.7 kB)\n",
      "Downloading tensorboard_data_server-0.7.2-py3-none-any.whl (2.4 kB)\n",
      "Downloading namex-0.0.8-py3-none-any.whl (5.8 kB)\n",
      "Downloading optree-0.12.1-cp311-cp311-win_amd64.whl (268 kB)\n",
      "   ---------------------------------------- 0.0/268.5 kB ? eta -:--:--\n",
      "   --------------------------------- ------ 225.3/268.5 kB 4.6 MB/s eta 0:00:01\n",
      "   ---------------------------------------- 268.5/268.5 kB 4.2 MB/s eta 0:00:00\n",
      "Downloading rich-13.7.1-py3-none-any.whl (240 kB)\n",
      "   ---------------------------------------- 0.0/240.7 kB ? eta -:--:--\n",
      "   ---------------------------------------  235.5/240.7 kB 7.3 MB/s eta 0:00:01\n",
      "   ---------------------------------------- 240.7/240.7 kB 4.9 MB/s eta 0:00:00\n",
      "Installing collected packages: namex, libclang, flatbuffers, termcolor, tensorflow-io-gcs-filesystem, tensorboard-data-server, protobuf, optree, opt-einsum, ml-dtypes, h5py, grpcio, google-pasta, gast, astunparse, absl-py, tensorboard, rich, keras, tensorflow-intel, tensorflow\n",
      "  Attempting uninstall: h5py\n",
      "    Found existing installation: h5py 3.9.0\n",
      "    Uninstalling h5py-3.9.0:\n",
      "      Successfully uninstalled h5py-3.9.0\n",
      "Successfully installed absl-py-2.1.0 astunparse-1.6.3 flatbuffers-24.3.25 gast-0.6.0 google-pasta-0.2.0 grpcio-1.65.4 h5py-3.11.0 keras-3.4.1 libclang-18.1.1 ml-dtypes-0.4.0 namex-0.0.8 opt-einsum-3.3.0 optree-0.12.1 protobuf-4.25.4 rich-13.7.1 tensorboard-2.17.0 tensorboard-data-server-0.7.2 tensorflow-2.17.0 tensorflow-intel-2.17.0 tensorflow-io-gcs-filesystem-0.31.0 termcolor-2.4.0\n"
     ]
    }
   ],
   "source": [
    "!pip install tensorflow"
   ]
  },
  {
   "cell_type": "code",
   "execution_count": 7,
   "id": "69751f90",
   "metadata": {},
   "outputs": [],
   "source": [
    "import tensorflow as tf\n",
    "import os\n",
    "import pandas as pd\n",
    "import numpy as np"
   ]
  },
  {
   "cell_type": "code",
   "execution_count": 8,
   "id": "74c80dfd",
   "metadata": {},
   "outputs": [
    {
     "name": "stdout",
     "output_type": "stream",
     "text": [
      "Downloading data from https://storage.googleapis.com/tensorflow/tf-keras-datasets/jena_climate_2009_2016.csv.zip\n",
      "\u001b[1m13568290/13568290\u001b[0m \u001b[32m━━━━━━━━━━━━━━━━━━━━\u001b[0m\u001b[37m\u001b[0m \u001b[1m6s\u001b[0m 0us/step\n"
     ]
    }
   ],
   "source": [
    "zip_path = tf.keras.utils.get_file(\n",
    "    origin='https://storage.googleapis.com/tensorflow/tf-keras-datasets/jena_climate_2009_2016.csv.zip',\n",
    "    fname='jena_climate_2009_2016.csv.zip',\n",
    "    extract=True)\n",
    "csv_path, _ = os.path.splitext(zip_path)"
   ]
  },
  {
   "cell_type": "code",
   "execution_count": 9,
   "id": "8c30cf56",
   "metadata": {},
   "outputs": [
    {
     "data": {
      "text/html": [
       "<div>\n",
       "<style scoped>\n",
       "    .dataframe tbody tr th:only-of-type {\n",
       "        vertical-align: middle;\n",
       "    }\n",
       "\n",
       "    .dataframe tbody tr th {\n",
       "        vertical-align: top;\n",
       "    }\n",
       "\n",
       "    .dataframe thead th {\n",
       "        text-align: right;\n",
       "    }\n",
       "</style>\n",
       "<table border=\"1\" class=\"dataframe\">\n",
       "  <thead>\n",
       "    <tr style=\"text-align: right;\">\n",
       "      <th></th>\n",
       "      <th>Date Time</th>\n",
       "      <th>p (mbar)</th>\n",
       "      <th>T (degC)</th>\n",
       "      <th>Tpot (K)</th>\n",
       "      <th>Tdew (degC)</th>\n",
       "      <th>rh (%)</th>\n",
       "      <th>VPmax (mbar)</th>\n",
       "      <th>VPact (mbar)</th>\n",
       "      <th>VPdef (mbar)</th>\n",
       "      <th>sh (g/kg)</th>\n",
       "      <th>H2OC (mmol/mol)</th>\n",
       "      <th>rho (g/m**3)</th>\n",
       "      <th>wv (m/s)</th>\n",
       "      <th>max. wv (m/s)</th>\n",
       "      <th>wd (deg)</th>\n",
       "    </tr>\n",
       "  </thead>\n",
       "  <tbody>\n",
       "    <tr>\n",
       "      <th>0</th>\n",
       "      <td>01.01.2009 00:10:00</td>\n",
       "      <td>996.52</td>\n",
       "      <td>-8.02</td>\n",
       "      <td>265.40</td>\n",
       "      <td>-8.90</td>\n",
       "      <td>93.30</td>\n",
       "      <td>3.33</td>\n",
       "      <td>3.11</td>\n",
       "      <td>0.22</td>\n",
       "      <td>1.94</td>\n",
       "      <td>3.12</td>\n",
       "      <td>1307.75</td>\n",
       "      <td>1.03</td>\n",
       "      <td>1.75</td>\n",
       "      <td>152.3</td>\n",
       "    </tr>\n",
       "    <tr>\n",
       "      <th>1</th>\n",
       "      <td>01.01.2009 00:20:00</td>\n",
       "      <td>996.57</td>\n",
       "      <td>-8.41</td>\n",
       "      <td>265.01</td>\n",
       "      <td>-9.28</td>\n",
       "      <td>93.40</td>\n",
       "      <td>3.23</td>\n",
       "      <td>3.02</td>\n",
       "      <td>0.21</td>\n",
       "      <td>1.89</td>\n",
       "      <td>3.03</td>\n",
       "      <td>1309.80</td>\n",
       "      <td>0.72</td>\n",
       "      <td>1.50</td>\n",
       "      <td>136.1</td>\n",
       "    </tr>\n",
       "    <tr>\n",
       "      <th>2</th>\n",
       "      <td>01.01.2009 00:30:00</td>\n",
       "      <td>996.53</td>\n",
       "      <td>-8.51</td>\n",
       "      <td>264.91</td>\n",
       "      <td>-9.31</td>\n",
       "      <td>93.90</td>\n",
       "      <td>3.21</td>\n",
       "      <td>3.01</td>\n",
       "      <td>0.20</td>\n",
       "      <td>1.88</td>\n",
       "      <td>3.02</td>\n",
       "      <td>1310.24</td>\n",
       "      <td>0.19</td>\n",
       "      <td>0.63</td>\n",
       "      <td>171.6</td>\n",
       "    </tr>\n",
       "    <tr>\n",
       "      <th>3</th>\n",
       "      <td>01.01.2009 00:40:00</td>\n",
       "      <td>996.51</td>\n",
       "      <td>-8.31</td>\n",
       "      <td>265.12</td>\n",
       "      <td>-9.07</td>\n",
       "      <td>94.20</td>\n",
       "      <td>3.26</td>\n",
       "      <td>3.07</td>\n",
       "      <td>0.19</td>\n",
       "      <td>1.92</td>\n",
       "      <td>3.08</td>\n",
       "      <td>1309.19</td>\n",
       "      <td>0.34</td>\n",
       "      <td>0.50</td>\n",
       "      <td>198.0</td>\n",
       "    </tr>\n",
       "    <tr>\n",
       "      <th>4</th>\n",
       "      <td>01.01.2009 00:50:00</td>\n",
       "      <td>996.51</td>\n",
       "      <td>-8.27</td>\n",
       "      <td>265.15</td>\n",
       "      <td>-9.04</td>\n",
       "      <td>94.10</td>\n",
       "      <td>3.27</td>\n",
       "      <td>3.08</td>\n",
       "      <td>0.19</td>\n",
       "      <td>1.92</td>\n",
       "      <td>3.09</td>\n",
       "      <td>1309.00</td>\n",
       "      <td>0.32</td>\n",
       "      <td>0.63</td>\n",
       "      <td>214.3</td>\n",
       "    </tr>\n",
       "    <tr>\n",
       "      <th>...</th>\n",
       "      <td>...</td>\n",
       "      <td>...</td>\n",
       "      <td>...</td>\n",
       "      <td>...</td>\n",
       "      <td>...</td>\n",
       "      <td>...</td>\n",
       "      <td>...</td>\n",
       "      <td>...</td>\n",
       "      <td>...</td>\n",
       "      <td>...</td>\n",
       "      <td>...</td>\n",
       "      <td>...</td>\n",
       "      <td>...</td>\n",
       "      <td>...</td>\n",
       "      <td>...</td>\n",
       "    </tr>\n",
       "    <tr>\n",
       "      <th>420546</th>\n",
       "      <td>31.12.2016 23:20:00</td>\n",
       "      <td>1000.07</td>\n",
       "      <td>-4.05</td>\n",
       "      <td>269.10</td>\n",
       "      <td>-8.13</td>\n",
       "      <td>73.10</td>\n",
       "      <td>4.52</td>\n",
       "      <td>3.30</td>\n",
       "      <td>1.22</td>\n",
       "      <td>2.06</td>\n",
       "      <td>3.30</td>\n",
       "      <td>1292.98</td>\n",
       "      <td>0.67</td>\n",
       "      <td>1.52</td>\n",
       "      <td>240.0</td>\n",
       "    </tr>\n",
       "    <tr>\n",
       "      <th>420547</th>\n",
       "      <td>31.12.2016 23:30:00</td>\n",
       "      <td>999.93</td>\n",
       "      <td>-3.35</td>\n",
       "      <td>269.81</td>\n",
       "      <td>-8.06</td>\n",
       "      <td>69.71</td>\n",
       "      <td>4.77</td>\n",
       "      <td>3.32</td>\n",
       "      <td>1.44</td>\n",
       "      <td>2.07</td>\n",
       "      <td>3.32</td>\n",
       "      <td>1289.44</td>\n",
       "      <td>1.14</td>\n",
       "      <td>1.92</td>\n",
       "      <td>234.3</td>\n",
       "    </tr>\n",
       "    <tr>\n",
       "      <th>420548</th>\n",
       "      <td>31.12.2016 23:40:00</td>\n",
       "      <td>999.82</td>\n",
       "      <td>-3.16</td>\n",
       "      <td>270.01</td>\n",
       "      <td>-8.21</td>\n",
       "      <td>67.91</td>\n",
       "      <td>4.84</td>\n",
       "      <td>3.28</td>\n",
       "      <td>1.55</td>\n",
       "      <td>2.05</td>\n",
       "      <td>3.28</td>\n",
       "      <td>1288.39</td>\n",
       "      <td>1.08</td>\n",
       "      <td>2.00</td>\n",
       "      <td>215.2</td>\n",
       "    </tr>\n",
       "    <tr>\n",
       "      <th>420549</th>\n",
       "      <td>31.12.2016 23:50:00</td>\n",
       "      <td>999.81</td>\n",
       "      <td>-4.23</td>\n",
       "      <td>268.94</td>\n",
       "      <td>-8.53</td>\n",
       "      <td>71.80</td>\n",
       "      <td>4.46</td>\n",
       "      <td>3.20</td>\n",
       "      <td>1.26</td>\n",
       "      <td>1.99</td>\n",
       "      <td>3.20</td>\n",
       "      <td>1293.56</td>\n",
       "      <td>1.49</td>\n",
       "      <td>2.16</td>\n",
       "      <td>225.8</td>\n",
       "    </tr>\n",
       "    <tr>\n",
       "      <th>420550</th>\n",
       "      <td>01.01.2017 00:00:00</td>\n",
       "      <td>999.82</td>\n",
       "      <td>-4.82</td>\n",
       "      <td>268.36</td>\n",
       "      <td>-8.42</td>\n",
       "      <td>75.70</td>\n",
       "      <td>4.27</td>\n",
       "      <td>3.23</td>\n",
       "      <td>1.04</td>\n",
       "      <td>2.01</td>\n",
       "      <td>3.23</td>\n",
       "      <td>1296.38</td>\n",
       "      <td>1.23</td>\n",
       "      <td>1.96</td>\n",
       "      <td>184.9</td>\n",
       "    </tr>\n",
       "  </tbody>\n",
       "</table>\n",
       "<p>420551 rows × 15 columns</p>\n",
       "</div>"
      ],
      "text/plain": [
       "                  Date Time  p (mbar)  T (degC)  Tpot (K)  Tdew (degC)  \\\n",
       "0       01.01.2009 00:10:00    996.52     -8.02    265.40        -8.90   \n",
       "1       01.01.2009 00:20:00    996.57     -8.41    265.01        -9.28   \n",
       "2       01.01.2009 00:30:00    996.53     -8.51    264.91        -9.31   \n",
       "3       01.01.2009 00:40:00    996.51     -8.31    265.12        -9.07   \n",
       "4       01.01.2009 00:50:00    996.51     -8.27    265.15        -9.04   \n",
       "...                     ...       ...       ...       ...          ...   \n",
       "420546  31.12.2016 23:20:00   1000.07     -4.05    269.10        -8.13   \n",
       "420547  31.12.2016 23:30:00    999.93     -3.35    269.81        -8.06   \n",
       "420548  31.12.2016 23:40:00    999.82     -3.16    270.01        -8.21   \n",
       "420549  31.12.2016 23:50:00    999.81     -4.23    268.94        -8.53   \n",
       "420550  01.01.2017 00:00:00    999.82     -4.82    268.36        -8.42   \n",
       "\n",
       "        rh (%)  VPmax (mbar)  VPact (mbar)  VPdef (mbar)  sh (g/kg)  \\\n",
       "0        93.30          3.33          3.11          0.22       1.94   \n",
       "1        93.40          3.23          3.02          0.21       1.89   \n",
       "2        93.90          3.21          3.01          0.20       1.88   \n",
       "3        94.20          3.26          3.07          0.19       1.92   \n",
       "4        94.10          3.27          3.08          0.19       1.92   \n",
       "...        ...           ...           ...           ...        ...   \n",
       "420546   73.10          4.52          3.30          1.22       2.06   \n",
       "420547   69.71          4.77          3.32          1.44       2.07   \n",
       "420548   67.91          4.84          3.28          1.55       2.05   \n",
       "420549   71.80          4.46          3.20          1.26       1.99   \n",
       "420550   75.70          4.27          3.23          1.04       2.01   \n",
       "\n",
       "        H2OC (mmol/mol)  rho (g/m**3)  wv (m/s)  max. wv (m/s)  wd (deg)  \n",
       "0                  3.12       1307.75      1.03           1.75     152.3  \n",
       "1                  3.03       1309.80      0.72           1.50     136.1  \n",
       "2                  3.02       1310.24      0.19           0.63     171.6  \n",
       "3                  3.08       1309.19      0.34           0.50     198.0  \n",
       "4                  3.09       1309.00      0.32           0.63     214.3  \n",
       "...                 ...           ...       ...            ...       ...  \n",
       "420546             3.30       1292.98      0.67           1.52     240.0  \n",
       "420547             3.32       1289.44      1.14           1.92     234.3  \n",
       "420548             3.28       1288.39      1.08           2.00     215.2  \n",
       "420549             3.20       1293.56      1.49           2.16     225.8  \n",
       "420550             3.23       1296.38      1.23           1.96     184.9  \n",
       "\n",
       "[420551 rows x 15 columns]"
      ]
     },
     "execution_count": 9,
     "metadata": {},
     "output_type": "execute_result"
    }
   ],
   "source": [
    "df = pd.read_csv(csv_path)\n",
    "df"
   ]
  },
  {
   "cell_type": "code",
   "execution_count": 10,
   "id": "99643110",
   "metadata": {},
   "outputs": [
    {
     "data": {
      "text/html": [
       "<div>\n",
       "<style scoped>\n",
       "    .dataframe tbody tr th:only-of-type {\n",
       "        vertical-align: middle;\n",
       "    }\n",
       "\n",
       "    .dataframe tbody tr th {\n",
       "        vertical-align: top;\n",
       "    }\n",
       "\n",
       "    .dataframe thead th {\n",
       "        text-align: right;\n",
       "    }\n",
       "</style>\n",
       "<table border=\"1\" class=\"dataframe\">\n",
       "  <thead>\n",
       "    <tr style=\"text-align: right;\">\n",
       "      <th></th>\n",
       "      <th>Date Time</th>\n",
       "      <th>p (mbar)</th>\n",
       "      <th>T (degC)</th>\n",
       "      <th>Tpot (K)</th>\n",
       "      <th>Tdew (degC)</th>\n",
       "      <th>rh (%)</th>\n",
       "      <th>VPmax (mbar)</th>\n",
       "      <th>VPact (mbar)</th>\n",
       "      <th>VPdef (mbar)</th>\n",
       "      <th>sh (g/kg)</th>\n",
       "      <th>H2OC (mmol/mol)</th>\n",
       "      <th>rho (g/m**3)</th>\n",
       "      <th>wv (m/s)</th>\n",
       "      <th>max. wv (m/s)</th>\n",
       "      <th>wd (deg)</th>\n",
       "    </tr>\n",
       "  </thead>\n",
       "  <tbody>\n",
       "    <tr>\n",
       "      <th>5</th>\n",
       "      <td>01.01.2009 01:00:00</td>\n",
       "      <td>996.50</td>\n",
       "      <td>-8.05</td>\n",
       "      <td>265.38</td>\n",
       "      <td>-8.78</td>\n",
       "      <td>94.40</td>\n",
       "      <td>3.33</td>\n",
       "      <td>3.14</td>\n",
       "      <td>0.19</td>\n",
       "      <td>1.96</td>\n",
       "      <td>3.15</td>\n",
       "      <td>1307.86</td>\n",
       "      <td>0.21</td>\n",
       "      <td>0.63</td>\n",
       "      <td>192.7</td>\n",
       "    </tr>\n",
       "    <tr>\n",
       "      <th>11</th>\n",
       "      <td>01.01.2009 02:00:00</td>\n",
       "      <td>996.62</td>\n",
       "      <td>-8.88</td>\n",
       "      <td>264.54</td>\n",
       "      <td>-9.77</td>\n",
       "      <td>93.20</td>\n",
       "      <td>3.12</td>\n",
       "      <td>2.90</td>\n",
       "      <td>0.21</td>\n",
       "      <td>1.81</td>\n",
       "      <td>2.91</td>\n",
       "      <td>1312.25</td>\n",
       "      <td>0.25</td>\n",
       "      <td>0.63</td>\n",
       "      <td>190.3</td>\n",
       "    </tr>\n",
       "    <tr>\n",
       "      <th>17</th>\n",
       "      <td>01.01.2009 03:00:00</td>\n",
       "      <td>996.84</td>\n",
       "      <td>-8.81</td>\n",
       "      <td>264.59</td>\n",
       "      <td>-9.66</td>\n",
       "      <td>93.50</td>\n",
       "      <td>3.13</td>\n",
       "      <td>2.93</td>\n",
       "      <td>0.20</td>\n",
       "      <td>1.83</td>\n",
       "      <td>2.94</td>\n",
       "      <td>1312.18</td>\n",
       "      <td>0.18</td>\n",
       "      <td>0.63</td>\n",
       "      <td>167.2</td>\n",
       "    </tr>\n",
       "    <tr>\n",
       "      <th>23</th>\n",
       "      <td>01.01.2009 04:00:00</td>\n",
       "      <td>996.99</td>\n",
       "      <td>-9.05</td>\n",
       "      <td>264.34</td>\n",
       "      <td>-10.02</td>\n",
       "      <td>92.60</td>\n",
       "      <td>3.07</td>\n",
       "      <td>2.85</td>\n",
       "      <td>0.23</td>\n",
       "      <td>1.78</td>\n",
       "      <td>2.85</td>\n",
       "      <td>1313.61</td>\n",
       "      <td>0.10</td>\n",
       "      <td>0.38</td>\n",
       "      <td>240.0</td>\n",
       "    </tr>\n",
       "    <tr>\n",
       "      <th>29</th>\n",
       "      <td>01.01.2009 05:00:00</td>\n",
       "      <td>997.46</td>\n",
       "      <td>-9.63</td>\n",
       "      <td>263.72</td>\n",
       "      <td>-10.65</td>\n",
       "      <td>92.20</td>\n",
       "      <td>2.94</td>\n",
       "      <td>2.71</td>\n",
       "      <td>0.23</td>\n",
       "      <td>1.69</td>\n",
       "      <td>2.71</td>\n",
       "      <td>1317.19</td>\n",
       "      <td>0.40</td>\n",
       "      <td>0.88</td>\n",
       "      <td>157.0</td>\n",
       "    </tr>\n",
       "    <tr>\n",
       "      <th>...</th>\n",
       "      <td>...</td>\n",
       "      <td>...</td>\n",
       "      <td>...</td>\n",
       "      <td>...</td>\n",
       "      <td>...</td>\n",
       "      <td>...</td>\n",
       "      <td>...</td>\n",
       "      <td>...</td>\n",
       "      <td>...</td>\n",
       "      <td>...</td>\n",
       "      <td>...</td>\n",
       "      <td>...</td>\n",
       "      <td>...</td>\n",
       "      <td>...</td>\n",
       "      <td>...</td>\n",
       "    </tr>\n",
       "    <tr>\n",
       "      <th>420521</th>\n",
       "      <td>31.12.2016 19:10:00</td>\n",
       "      <td>1002.18</td>\n",
       "      <td>-0.98</td>\n",
       "      <td>272.01</td>\n",
       "      <td>-5.36</td>\n",
       "      <td>72.00</td>\n",
       "      <td>5.69</td>\n",
       "      <td>4.09</td>\n",
       "      <td>1.59</td>\n",
       "      <td>2.54</td>\n",
       "      <td>4.08</td>\n",
       "      <td>1280.70</td>\n",
       "      <td>0.87</td>\n",
       "      <td>1.36</td>\n",
       "      <td>190.6</td>\n",
       "    </tr>\n",
       "    <tr>\n",
       "      <th>420527</th>\n",
       "      <td>31.12.2016 20:10:00</td>\n",
       "      <td>1001.40</td>\n",
       "      <td>-1.40</td>\n",
       "      <td>271.66</td>\n",
       "      <td>-6.84</td>\n",
       "      <td>66.29</td>\n",
       "      <td>5.51</td>\n",
       "      <td>3.65</td>\n",
       "      <td>1.86</td>\n",
       "      <td>2.27</td>\n",
       "      <td>3.65</td>\n",
       "      <td>1281.87</td>\n",
       "      <td>1.02</td>\n",
       "      <td>1.92</td>\n",
       "      <td>225.4</td>\n",
       "    </tr>\n",
       "    <tr>\n",
       "      <th>420533</th>\n",
       "      <td>31.12.2016 21:10:00</td>\n",
       "      <td>1001.19</td>\n",
       "      <td>-2.75</td>\n",
       "      <td>270.32</td>\n",
       "      <td>-6.90</td>\n",
       "      <td>72.90</td>\n",
       "      <td>4.99</td>\n",
       "      <td>3.64</td>\n",
       "      <td>1.35</td>\n",
       "      <td>2.26</td>\n",
       "      <td>3.63</td>\n",
       "      <td>1288.02</td>\n",
       "      <td>0.71</td>\n",
       "      <td>1.56</td>\n",
       "      <td>158.7</td>\n",
       "    </tr>\n",
       "    <tr>\n",
       "      <th>420539</th>\n",
       "      <td>31.12.2016 22:10:00</td>\n",
       "      <td>1000.65</td>\n",
       "      <td>-2.89</td>\n",
       "      <td>270.22</td>\n",
       "      <td>-7.15</td>\n",
       "      <td>72.30</td>\n",
       "      <td>4.93</td>\n",
       "      <td>3.57</td>\n",
       "      <td>1.37</td>\n",
       "      <td>2.22</td>\n",
       "      <td>3.57</td>\n",
       "      <td>1288.03</td>\n",
       "      <td>0.35</td>\n",
       "      <td>0.68</td>\n",
       "      <td>216.7</td>\n",
       "    </tr>\n",
       "    <tr>\n",
       "      <th>420545</th>\n",
       "      <td>31.12.2016 23:10:00</td>\n",
       "      <td>1000.11</td>\n",
       "      <td>-3.93</td>\n",
       "      <td>269.23</td>\n",
       "      <td>-8.09</td>\n",
       "      <td>72.60</td>\n",
       "      <td>4.56</td>\n",
       "      <td>3.31</td>\n",
       "      <td>1.25</td>\n",
       "      <td>2.06</td>\n",
       "      <td>3.31</td>\n",
       "      <td>1292.41</td>\n",
       "      <td>0.56</td>\n",
       "      <td>1.00</td>\n",
       "      <td>202.6</td>\n",
       "    </tr>\n",
       "  </tbody>\n",
       "</table>\n",
       "<p>70091 rows × 15 columns</p>\n",
       "</div>"
      ],
      "text/plain": [
       "                  Date Time  p (mbar)  T (degC)  Tpot (K)  Tdew (degC)  \\\n",
       "5       01.01.2009 01:00:00    996.50     -8.05    265.38        -8.78   \n",
       "11      01.01.2009 02:00:00    996.62     -8.88    264.54        -9.77   \n",
       "17      01.01.2009 03:00:00    996.84     -8.81    264.59        -9.66   \n",
       "23      01.01.2009 04:00:00    996.99     -9.05    264.34       -10.02   \n",
       "29      01.01.2009 05:00:00    997.46     -9.63    263.72       -10.65   \n",
       "...                     ...       ...       ...       ...          ...   \n",
       "420521  31.12.2016 19:10:00   1002.18     -0.98    272.01        -5.36   \n",
       "420527  31.12.2016 20:10:00   1001.40     -1.40    271.66        -6.84   \n",
       "420533  31.12.2016 21:10:00   1001.19     -2.75    270.32        -6.90   \n",
       "420539  31.12.2016 22:10:00   1000.65     -2.89    270.22        -7.15   \n",
       "420545  31.12.2016 23:10:00   1000.11     -3.93    269.23        -8.09   \n",
       "\n",
       "        rh (%)  VPmax (mbar)  VPact (mbar)  VPdef (mbar)  sh (g/kg)  \\\n",
       "5        94.40          3.33          3.14          0.19       1.96   \n",
       "11       93.20          3.12          2.90          0.21       1.81   \n",
       "17       93.50          3.13          2.93          0.20       1.83   \n",
       "23       92.60          3.07          2.85          0.23       1.78   \n",
       "29       92.20          2.94          2.71          0.23       1.69   \n",
       "...        ...           ...           ...           ...        ...   \n",
       "420521   72.00          5.69          4.09          1.59       2.54   \n",
       "420527   66.29          5.51          3.65          1.86       2.27   \n",
       "420533   72.90          4.99          3.64          1.35       2.26   \n",
       "420539   72.30          4.93          3.57          1.37       2.22   \n",
       "420545   72.60          4.56          3.31          1.25       2.06   \n",
       "\n",
       "        H2OC (mmol/mol)  rho (g/m**3)  wv (m/s)  max. wv (m/s)  wd (deg)  \n",
       "5                  3.15       1307.86      0.21           0.63     192.7  \n",
       "11                 2.91       1312.25      0.25           0.63     190.3  \n",
       "17                 2.94       1312.18      0.18           0.63     167.2  \n",
       "23                 2.85       1313.61      0.10           0.38     240.0  \n",
       "29                 2.71       1317.19      0.40           0.88     157.0  \n",
       "...                 ...           ...       ...            ...       ...  \n",
       "420521             4.08       1280.70      0.87           1.36     190.6  \n",
       "420527             3.65       1281.87      1.02           1.92     225.4  \n",
       "420533             3.63       1288.02      0.71           1.56     158.7  \n",
       "420539             3.57       1288.03      0.35           0.68     216.7  \n",
       "420545             3.31       1292.41      0.56           1.00     202.6  \n",
       "\n",
       "[70091 rows x 15 columns]"
      ]
     },
     "execution_count": 10,
     "metadata": {},
     "output_type": "execute_result"
    }
   ],
   "source": [
    "df = df[5::6]\n",
    "df"
   ]
  },
  {
   "cell_type": "code",
   "execution_count": 11,
   "id": "af1c02f0",
   "metadata": {},
   "outputs": [
    {
     "data": {
      "text/html": [
       "<div>\n",
       "<style scoped>\n",
       "    .dataframe tbody tr th:only-of-type {\n",
       "        vertical-align: middle;\n",
       "    }\n",
       "\n",
       "    .dataframe tbody tr th {\n",
       "        vertical-align: top;\n",
       "    }\n",
       "\n",
       "    .dataframe thead th {\n",
       "        text-align: right;\n",
       "    }\n",
       "</style>\n",
       "<table border=\"1\" class=\"dataframe\">\n",
       "  <thead>\n",
       "    <tr style=\"text-align: right;\">\n",
       "      <th></th>\n",
       "      <th>Date Time</th>\n",
       "      <th>p (mbar)</th>\n",
       "      <th>T (degC)</th>\n",
       "      <th>Tpot (K)</th>\n",
       "      <th>Tdew (degC)</th>\n",
       "      <th>rh (%)</th>\n",
       "      <th>VPmax (mbar)</th>\n",
       "      <th>VPact (mbar)</th>\n",
       "      <th>VPdef (mbar)</th>\n",
       "      <th>sh (g/kg)</th>\n",
       "      <th>H2OC (mmol/mol)</th>\n",
       "      <th>rho (g/m**3)</th>\n",
       "      <th>wv (m/s)</th>\n",
       "      <th>max. wv (m/s)</th>\n",
       "      <th>wd (deg)</th>\n",
       "    </tr>\n",
       "    <tr>\n",
       "      <th>Date Time</th>\n",
       "      <th></th>\n",
       "      <th></th>\n",
       "      <th></th>\n",
       "      <th></th>\n",
       "      <th></th>\n",
       "      <th></th>\n",
       "      <th></th>\n",
       "      <th></th>\n",
       "      <th></th>\n",
       "      <th></th>\n",
       "      <th></th>\n",
       "      <th></th>\n",
       "      <th></th>\n",
       "      <th></th>\n",
       "      <th></th>\n",
       "    </tr>\n",
       "  </thead>\n",
       "  <tbody>\n",
       "    <tr>\n",
       "      <th>2009-01-01 01:00:00</th>\n",
       "      <td>01.01.2009 01:00:00</td>\n",
       "      <td>996.50</td>\n",
       "      <td>-8.05</td>\n",
       "      <td>265.38</td>\n",
       "      <td>-8.78</td>\n",
       "      <td>94.4</td>\n",
       "      <td>3.33</td>\n",
       "      <td>3.14</td>\n",
       "      <td>0.19</td>\n",
       "      <td>1.96</td>\n",
       "      <td>3.15</td>\n",
       "      <td>1307.86</td>\n",
       "      <td>0.21</td>\n",
       "      <td>0.63</td>\n",
       "      <td>192.7</td>\n",
       "    </tr>\n",
       "    <tr>\n",
       "      <th>2009-01-01 02:00:00</th>\n",
       "      <td>01.01.2009 02:00:00</td>\n",
       "      <td>996.62</td>\n",
       "      <td>-8.88</td>\n",
       "      <td>264.54</td>\n",
       "      <td>-9.77</td>\n",
       "      <td>93.2</td>\n",
       "      <td>3.12</td>\n",
       "      <td>2.90</td>\n",
       "      <td>0.21</td>\n",
       "      <td>1.81</td>\n",
       "      <td>2.91</td>\n",
       "      <td>1312.25</td>\n",
       "      <td>0.25</td>\n",
       "      <td>0.63</td>\n",
       "      <td>190.3</td>\n",
       "    </tr>\n",
       "    <tr>\n",
       "      <th>2009-01-01 03:00:00</th>\n",
       "      <td>01.01.2009 03:00:00</td>\n",
       "      <td>996.84</td>\n",
       "      <td>-8.81</td>\n",
       "      <td>264.59</td>\n",
       "      <td>-9.66</td>\n",
       "      <td>93.5</td>\n",
       "      <td>3.13</td>\n",
       "      <td>2.93</td>\n",
       "      <td>0.20</td>\n",
       "      <td>1.83</td>\n",
       "      <td>2.94</td>\n",
       "      <td>1312.18</td>\n",
       "      <td>0.18</td>\n",
       "      <td>0.63</td>\n",
       "      <td>167.2</td>\n",
       "    </tr>\n",
       "    <tr>\n",
       "      <th>2009-01-01 04:00:00</th>\n",
       "      <td>01.01.2009 04:00:00</td>\n",
       "      <td>996.99</td>\n",
       "      <td>-9.05</td>\n",
       "      <td>264.34</td>\n",
       "      <td>-10.02</td>\n",
       "      <td>92.6</td>\n",
       "      <td>3.07</td>\n",
       "      <td>2.85</td>\n",
       "      <td>0.23</td>\n",
       "      <td>1.78</td>\n",
       "      <td>2.85</td>\n",
       "      <td>1313.61</td>\n",
       "      <td>0.10</td>\n",
       "      <td>0.38</td>\n",
       "      <td>240.0</td>\n",
       "    </tr>\n",
       "    <tr>\n",
       "      <th>2009-01-01 05:00:00</th>\n",
       "      <td>01.01.2009 05:00:00</td>\n",
       "      <td>997.46</td>\n",
       "      <td>-9.63</td>\n",
       "      <td>263.72</td>\n",
       "      <td>-10.65</td>\n",
       "      <td>92.2</td>\n",
       "      <td>2.94</td>\n",
       "      <td>2.71</td>\n",
       "      <td>0.23</td>\n",
       "      <td>1.69</td>\n",
       "      <td>2.71</td>\n",
       "      <td>1317.19</td>\n",
       "      <td>0.40</td>\n",
       "      <td>0.88</td>\n",
       "      <td>157.0</td>\n",
       "    </tr>\n",
       "    <tr>\n",
       "      <th>2009-01-01 06:00:00</th>\n",
       "      <td>01.01.2009 06:00:00</td>\n",
       "      <td>997.71</td>\n",
       "      <td>-9.67</td>\n",
       "      <td>263.66</td>\n",
       "      <td>-10.62</td>\n",
       "      <td>92.7</td>\n",
       "      <td>2.93</td>\n",
       "      <td>2.71</td>\n",
       "      <td>0.21</td>\n",
       "      <td>1.69</td>\n",
       "      <td>2.72</td>\n",
       "      <td>1317.71</td>\n",
       "      <td>0.05</td>\n",
       "      <td>0.50</td>\n",
       "      <td>146.0</td>\n",
       "    </tr>\n",
       "    <tr>\n",
       "      <th>2009-01-01 07:00:00</th>\n",
       "      <td>01.01.2009 07:00:00</td>\n",
       "      <td>998.33</td>\n",
       "      <td>-9.17</td>\n",
       "      <td>264.12</td>\n",
       "      <td>-10.10</td>\n",
       "      <td>92.9</td>\n",
       "      <td>3.04</td>\n",
       "      <td>2.83</td>\n",
       "      <td>0.22</td>\n",
       "      <td>1.76</td>\n",
       "      <td>2.83</td>\n",
       "      <td>1315.98</td>\n",
       "      <td>2.08</td>\n",
       "      <td>2.88</td>\n",
       "      <td>348.8</td>\n",
       "    </tr>\n",
       "    <tr>\n",
       "      <th>2009-01-01 08:00:00</th>\n",
       "      <td>01.01.2009 08:00:00</td>\n",
       "      <td>999.17</td>\n",
       "      <td>-8.10</td>\n",
       "      <td>265.12</td>\n",
       "      <td>-9.05</td>\n",
       "      <td>92.8</td>\n",
       "      <td>3.31</td>\n",
       "      <td>3.07</td>\n",
       "      <td>0.24</td>\n",
       "      <td>1.92</td>\n",
       "      <td>3.08</td>\n",
       "      <td>1311.65</td>\n",
       "      <td>0.72</td>\n",
       "      <td>1.25</td>\n",
       "      <td>213.9</td>\n",
       "    </tr>\n",
       "    <tr>\n",
       "      <th>2009-01-01 09:00:00</th>\n",
       "      <td>01.01.2009 09:00:00</td>\n",
       "      <td>999.69</td>\n",
       "      <td>-7.66</td>\n",
       "      <td>265.52</td>\n",
       "      <td>-8.84</td>\n",
       "      <td>91.2</td>\n",
       "      <td>3.43</td>\n",
       "      <td>3.13</td>\n",
       "      <td>0.30</td>\n",
       "      <td>1.95</td>\n",
       "      <td>3.13</td>\n",
       "      <td>1310.14</td>\n",
       "      <td>0.34</td>\n",
       "      <td>0.63</td>\n",
       "      <td>202.2</td>\n",
       "    </tr>\n",
       "    <tr>\n",
       "      <th>2009-01-01 10:00:00</th>\n",
       "      <td>01.01.2009 10:00:00</td>\n",
       "      <td>1000.27</td>\n",
       "      <td>-7.04</td>\n",
       "      <td>266.10</td>\n",
       "      <td>-8.17</td>\n",
       "      <td>91.6</td>\n",
       "      <td>3.60</td>\n",
       "      <td>3.30</td>\n",
       "      <td>0.30</td>\n",
       "      <td>2.05</td>\n",
       "      <td>3.29</td>\n",
       "      <td>1307.76</td>\n",
       "      <td>1.45</td>\n",
       "      <td>3.00</td>\n",
       "      <td>292.6</td>\n",
       "    </tr>\n",
       "    <tr>\n",
       "      <th>2009-01-01 11:00:00</th>\n",
       "      <td>01.01.2009 11:00:00</td>\n",
       "      <td>1000.87</td>\n",
       "      <td>-7.41</td>\n",
       "      <td>265.68</td>\n",
       "      <td>-8.66</td>\n",
       "      <td>90.7</td>\n",
       "      <td>3.50</td>\n",
       "      <td>3.17</td>\n",
       "      <td>0.33</td>\n",
       "      <td>1.97</td>\n",
       "      <td>3.17</td>\n",
       "      <td>1310.43</td>\n",
       "      <td>1.91</td>\n",
       "      <td>3.38</td>\n",
       "      <td>269.6</td>\n",
       "    </tr>\n",
       "    <tr>\n",
       "      <th>2009-01-01 12:00:00</th>\n",
       "      <td>01.01.2009 12:00:00</td>\n",
       "      <td>1000.30</td>\n",
       "      <td>-6.87</td>\n",
       "      <td>266.27</td>\n",
       "      <td>-8.28</td>\n",
       "      <td>89.6</td>\n",
       "      <td>3.64</td>\n",
       "      <td>3.27</td>\n",
       "      <td>0.38</td>\n",
       "      <td>2.03</td>\n",
       "      <td>3.26</td>\n",
       "      <td>1306.98</td>\n",
       "      <td>1.84</td>\n",
       "      <td>2.63</td>\n",
       "      <td>184.4</td>\n",
       "    </tr>\n",
       "    <tr>\n",
       "      <th>2009-01-01 13:00:00</th>\n",
       "      <td>01.01.2009 13:00:00</td>\n",
       "      <td>1000.03</td>\n",
       "      <td>-5.89</td>\n",
       "      <td>267.27</td>\n",
       "      <td>-7.46</td>\n",
       "      <td>88.6</td>\n",
       "      <td>3.93</td>\n",
       "      <td>3.48</td>\n",
       "      <td>0.45</td>\n",
       "      <td>2.17</td>\n",
       "      <td>3.48</td>\n",
       "      <td>1301.73</td>\n",
       "      <td>0.57</td>\n",
       "      <td>1.25</td>\n",
       "      <td>187.3</td>\n",
       "    </tr>\n",
       "    <tr>\n",
       "      <th>2009-01-01 14:00:00</th>\n",
       "      <td>01.01.2009 14:00:00</td>\n",
       "      <td>999.81</td>\n",
       "      <td>-5.94</td>\n",
       "      <td>267.24</td>\n",
       "      <td>-7.43</td>\n",
       "      <td>89.1</td>\n",
       "      <td>3.92</td>\n",
       "      <td>3.49</td>\n",
       "      <td>0.43</td>\n",
       "      <td>2.17</td>\n",
       "      <td>3.49</td>\n",
       "      <td>1301.67</td>\n",
       "      <td>1.25</td>\n",
       "      <td>2.00</td>\n",
       "      <td>144.0</td>\n",
       "    </tr>\n",
       "    <tr>\n",
       "      <th>2009-01-01 15:00:00</th>\n",
       "      <td>01.01.2009 15:00:00</td>\n",
       "      <td>999.88</td>\n",
       "      <td>-5.69</td>\n",
       "      <td>267.48</td>\n",
       "      <td>-7.00</td>\n",
       "      <td>90.4</td>\n",
       "      <td>3.99</td>\n",
       "      <td>3.61</td>\n",
       "      <td>0.38</td>\n",
       "      <td>2.25</td>\n",
       "      <td>3.61</td>\n",
       "      <td>1300.51</td>\n",
       "      <td>1.17</td>\n",
       "      <td>1.88</td>\n",
       "      <td>134.9</td>\n",
       "    </tr>\n",
       "    <tr>\n",
       "      <th>2009-01-01 16:00:00</th>\n",
       "      <td>01.01.2009 16:00:00</td>\n",
       "      <td>999.94</td>\n",
       "      <td>-5.40</td>\n",
       "      <td>267.76</td>\n",
       "      <td>-6.86</td>\n",
       "      <td>89.4</td>\n",
       "      <td>4.08</td>\n",
       "      <td>3.65</td>\n",
       "      <td>0.43</td>\n",
       "      <td>2.27</td>\n",
       "      <td>3.65</td>\n",
       "      <td>1299.17</td>\n",
       "      <td>1.40</td>\n",
       "      <td>2.13</td>\n",
       "      <td>145.5</td>\n",
       "    </tr>\n",
       "    <tr>\n",
       "      <th>2009-01-01 17:00:00</th>\n",
       "      <td>01.01.2009 17:00:00</td>\n",
       "      <td>1000.17</td>\n",
       "      <td>-5.37</td>\n",
       "      <td>267.78</td>\n",
       "      <td>-6.82</td>\n",
       "      <td>89.4</td>\n",
       "      <td>4.09</td>\n",
       "      <td>3.66</td>\n",
       "      <td>0.43</td>\n",
       "      <td>2.28</td>\n",
       "      <td>3.66</td>\n",
       "      <td>1299.27</td>\n",
       "      <td>0.85</td>\n",
       "      <td>1.63</td>\n",
       "      <td>142.2</td>\n",
       "    </tr>\n",
       "    <tr>\n",
       "      <th>2009-01-01 18:00:00</th>\n",
       "      <td>01.01.2009 18:00:00</td>\n",
       "      <td>1000.16</td>\n",
       "      <td>-5.25</td>\n",
       "      <td>267.90</td>\n",
       "      <td>-6.75</td>\n",
       "      <td>89.1</td>\n",
       "      <td>4.13</td>\n",
       "      <td>3.68</td>\n",
       "      <td>0.45</td>\n",
       "      <td>2.29</td>\n",
       "      <td>3.68</td>\n",
       "      <td>1298.68</td>\n",
       "      <td>0.55</td>\n",
       "      <td>1.00</td>\n",
       "      <td>183.7</td>\n",
       "    </tr>\n",
       "    <tr>\n",
       "      <th>2009-01-01 19:00:00</th>\n",
       "      <td>01.01.2009 19:00:00</td>\n",
       "      <td>1000.22</td>\n",
       "      <td>-5.11</td>\n",
       "      <td>268.03</td>\n",
       "      <td>-6.57</td>\n",
       "      <td>89.4</td>\n",
       "      <td>4.17</td>\n",
       "      <td>3.73</td>\n",
       "      <td>0.44</td>\n",
       "      <td>2.32</td>\n",
       "      <td>3.73</td>\n",
       "      <td>1298.07</td>\n",
       "      <td>0.41</td>\n",
       "      <td>0.75</td>\n",
       "      <td>176.7</td>\n",
       "    </tr>\n",
       "    <tr>\n",
       "      <th>2009-01-01 20:00:00</th>\n",
       "      <td>01.01.2009 20:00:00</td>\n",
       "      <td>1000.22</td>\n",
       "      <td>-4.90</td>\n",
       "      <td>268.24</td>\n",
       "      <td>-6.38</td>\n",
       "      <td>89.3</td>\n",
       "      <td>4.24</td>\n",
       "      <td>3.79</td>\n",
       "      <td>0.45</td>\n",
       "      <td>2.36</td>\n",
       "      <td>3.78</td>\n",
       "      <td>1297.05</td>\n",
       "      <td>0.68</td>\n",
       "      <td>1.13</td>\n",
       "      <td>195.2</td>\n",
       "    </tr>\n",
       "    <tr>\n",
       "      <th>2009-01-01 21:00:00</th>\n",
       "      <td>01.01.2009 21:00:00</td>\n",
       "      <td>1000.19</td>\n",
       "      <td>-4.80</td>\n",
       "      <td>268.35</td>\n",
       "      <td>-6.14</td>\n",
       "      <td>90.2</td>\n",
       "      <td>4.27</td>\n",
       "      <td>3.85</td>\n",
       "      <td>0.42</td>\n",
       "      <td>2.40</td>\n",
       "      <td>3.85</td>\n",
       "      <td>1296.45</td>\n",
       "      <td>0.44</td>\n",
       "      <td>0.75</td>\n",
       "      <td>206.3</td>\n",
       "    </tr>\n",
       "    <tr>\n",
       "      <th>2009-01-01 22:00:00</th>\n",
       "      <td>01.01.2009 22:00:00</td>\n",
       "      <td>1000.00</td>\n",
       "      <td>-4.50</td>\n",
       "      <td>268.66</td>\n",
       "      <td>-5.82</td>\n",
       "      <td>90.4</td>\n",
       "      <td>4.37</td>\n",
       "      <td>3.95</td>\n",
       "      <td>0.42</td>\n",
       "      <td>2.46</td>\n",
       "      <td>3.95</td>\n",
       "      <td>1294.72</td>\n",
       "      <td>0.33</td>\n",
       "      <td>0.63</td>\n",
       "      <td>175.7</td>\n",
       "    </tr>\n",
       "    <tr>\n",
       "      <th>2009-01-01 23:00:00</th>\n",
       "      <td>01.01.2009 23:00:00</td>\n",
       "      <td>999.77</td>\n",
       "      <td>-4.47</td>\n",
       "      <td>268.71</td>\n",
       "      <td>-5.84</td>\n",
       "      <td>90.1</td>\n",
       "      <td>4.38</td>\n",
       "      <td>3.95</td>\n",
       "      <td>0.43</td>\n",
       "      <td>2.46</td>\n",
       "      <td>3.95</td>\n",
       "      <td>1294.29</td>\n",
       "      <td>0.65</td>\n",
       "      <td>1.00</td>\n",
       "      <td>219.3</td>\n",
       "    </tr>\n",
       "    <tr>\n",
       "      <th>2009-01-02 00:00:00</th>\n",
       "      <td>02.01.2009 00:00:00</td>\n",
       "      <td>999.59</td>\n",
       "      <td>-4.54</td>\n",
       "      <td>268.65</td>\n",
       "      <td>-5.46</td>\n",
       "      <td>93.2</td>\n",
       "      <td>4.36</td>\n",
       "      <td>4.06</td>\n",
       "      <td>0.30</td>\n",
       "      <td>2.53</td>\n",
       "      <td>4.06</td>\n",
       "      <td>1294.33</td>\n",
       "      <td>0.41</td>\n",
       "      <td>0.88</td>\n",
       "      <td>155.0</td>\n",
       "    </tr>\n",
       "    <tr>\n",
       "      <th>2009-01-02 01:00:00</th>\n",
       "      <td>02.01.2009 01:00:00</td>\n",
       "      <td>999.34</td>\n",
       "      <td>-4.44</td>\n",
       "      <td>268.77</td>\n",
       "      <td>-5.19</td>\n",
       "      <td>94.4</td>\n",
       "      <td>4.39</td>\n",
       "      <td>4.15</td>\n",
       "      <td>0.25</td>\n",
       "      <td>2.58</td>\n",
       "      <td>4.15</td>\n",
       "      <td>1293.47</td>\n",
       "      <td>0.28</td>\n",
       "      <td>1.00</td>\n",
       "      <td>148.1</td>\n",
       "    </tr>\n",
       "    <tr>\n",
       "      <th>2009-01-02 02:00:00</th>\n",
       "      <td>02.01.2009 02:00:00</td>\n",
       "      <td>998.93</td>\n",
       "      <td>-4.29</td>\n",
       "      <td>268.95</td>\n",
       "      <td>-5.04</td>\n",
       "      <td>94.5</td>\n",
       "      <td>4.44</td>\n",
       "      <td>4.20</td>\n",
       "      <td>0.24</td>\n",
       "      <td>2.62</td>\n",
       "      <td>4.20</td>\n",
       "      <td>1292.22</td>\n",
       "      <td>0.49</td>\n",
       "      <td>0.88</td>\n",
       "      <td>209.8</td>\n",
       "    </tr>\n",
       "  </tbody>\n",
       "</table>\n",
       "</div>"
      ],
      "text/plain": [
       "                               Date Time  p (mbar)  T (degC)  Tpot (K)  \\\n",
       "Date Time                                                                \n",
       "2009-01-01 01:00:00  01.01.2009 01:00:00    996.50     -8.05    265.38   \n",
       "2009-01-01 02:00:00  01.01.2009 02:00:00    996.62     -8.88    264.54   \n",
       "2009-01-01 03:00:00  01.01.2009 03:00:00    996.84     -8.81    264.59   \n",
       "2009-01-01 04:00:00  01.01.2009 04:00:00    996.99     -9.05    264.34   \n",
       "2009-01-01 05:00:00  01.01.2009 05:00:00    997.46     -9.63    263.72   \n",
       "2009-01-01 06:00:00  01.01.2009 06:00:00    997.71     -9.67    263.66   \n",
       "2009-01-01 07:00:00  01.01.2009 07:00:00    998.33     -9.17    264.12   \n",
       "2009-01-01 08:00:00  01.01.2009 08:00:00    999.17     -8.10    265.12   \n",
       "2009-01-01 09:00:00  01.01.2009 09:00:00    999.69     -7.66    265.52   \n",
       "2009-01-01 10:00:00  01.01.2009 10:00:00   1000.27     -7.04    266.10   \n",
       "2009-01-01 11:00:00  01.01.2009 11:00:00   1000.87     -7.41    265.68   \n",
       "2009-01-01 12:00:00  01.01.2009 12:00:00   1000.30     -6.87    266.27   \n",
       "2009-01-01 13:00:00  01.01.2009 13:00:00   1000.03     -5.89    267.27   \n",
       "2009-01-01 14:00:00  01.01.2009 14:00:00    999.81     -5.94    267.24   \n",
       "2009-01-01 15:00:00  01.01.2009 15:00:00    999.88     -5.69    267.48   \n",
       "2009-01-01 16:00:00  01.01.2009 16:00:00    999.94     -5.40    267.76   \n",
       "2009-01-01 17:00:00  01.01.2009 17:00:00   1000.17     -5.37    267.78   \n",
       "2009-01-01 18:00:00  01.01.2009 18:00:00   1000.16     -5.25    267.90   \n",
       "2009-01-01 19:00:00  01.01.2009 19:00:00   1000.22     -5.11    268.03   \n",
       "2009-01-01 20:00:00  01.01.2009 20:00:00   1000.22     -4.90    268.24   \n",
       "2009-01-01 21:00:00  01.01.2009 21:00:00   1000.19     -4.80    268.35   \n",
       "2009-01-01 22:00:00  01.01.2009 22:00:00   1000.00     -4.50    268.66   \n",
       "2009-01-01 23:00:00  01.01.2009 23:00:00    999.77     -4.47    268.71   \n",
       "2009-01-02 00:00:00  02.01.2009 00:00:00    999.59     -4.54    268.65   \n",
       "2009-01-02 01:00:00  02.01.2009 01:00:00    999.34     -4.44    268.77   \n",
       "2009-01-02 02:00:00  02.01.2009 02:00:00    998.93     -4.29    268.95   \n",
       "\n",
       "                     Tdew (degC)  rh (%)  VPmax (mbar)  VPact (mbar)  \\\n",
       "Date Time                                                              \n",
       "2009-01-01 01:00:00        -8.78    94.4          3.33          3.14   \n",
       "2009-01-01 02:00:00        -9.77    93.2          3.12          2.90   \n",
       "2009-01-01 03:00:00        -9.66    93.5          3.13          2.93   \n",
       "2009-01-01 04:00:00       -10.02    92.6          3.07          2.85   \n",
       "2009-01-01 05:00:00       -10.65    92.2          2.94          2.71   \n",
       "2009-01-01 06:00:00       -10.62    92.7          2.93          2.71   \n",
       "2009-01-01 07:00:00       -10.10    92.9          3.04          2.83   \n",
       "2009-01-01 08:00:00        -9.05    92.8          3.31          3.07   \n",
       "2009-01-01 09:00:00        -8.84    91.2          3.43          3.13   \n",
       "2009-01-01 10:00:00        -8.17    91.6          3.60          3.30   \n",
       "2009-01-01 11:00:00        -8.66    90.7          3.50          3.17   \n",
       "2009-01-01 12:00:00        -8.28    89.6          3.64          3.27   \n",
       "2009-01-01 13:00:00        -7.46    88.6          3.93          3.48   \n",
       "2009-01-01 14:00:00        -7.43    89.1          3.92          3.49   \n",
       "2009-01-01 15:00:00        -7.00    90.4          3.99          3.61   \n",
       "2009-01-01 16:00:00        -6.86    89.4          4.08          3.65   \n",
       "2009-01-01 17:00:00        -6.82    89.4          4.09          3.66   \n",
       "2009-01-01 18:00:00        -6.75    89.1          4.13          3.68   \n",
       "2009-01-01 19:00:00        -6.57    89.4          4.17          3.73   \n",
       "2009-01-01 20:00:00        -6.38    89.3          4.24          3.79   \n",
       "2009-01-01 21:00:00        -6.14    90.2          4.27          3.85   \n",
       "2009-01-01 22:00:00        -5.82    90.4          4.37          3.95   \n",
       "2009-01-01 23:00:00        -5.84    90.1          4.38          3.95   \n",
       "2009-01-02 00:00:00        -5.46    93.2          4.36          4.06   \n",
       "2009-01-02 01:00:00        -5.19    94.4          4.39          4.15   \n",
       "2009-01-02 02:00:00        -5.04    94.5          4.44          4.20   \n",
       "\n",
       "                     VPdef (mbar)  sh (g/kg)  H2OC (mmol/mol)  rho (g/m**3)  \\\n",
       "Date Time                                                                     \n",
       "2009-01-01 01:00:00          0.19       1.96             3.15       1307.86   \n",
       "2009-01-01 02:00:00          0.21       1.81             2.91       1312.25   \n",
       "2009-01-01 03:00:00          0.20       1.83             2.94       1312.18   \n",
       "2009-01-01 04:00:00          0.23       1.78             2.85       1313.61   \n",
       "2009-01-01 05:00:00          0.23       1.69             2.71       1317.19   \n",
       "2009-01-01 06:00:00          0.21       1.69             2.72       1317.71   \n",
       "2009-01-01 07:00:00          0.22       1.76             2.83       1315.98   \n",
       "2009-01-01 08:00:00          0.24       1.92             3.08       1311.65   \n",
       "2009-01-01 09:00:00          0.30       1.95             3.13       1310.14   \n",
       "2009-01-01 10:00:00          0.30       2.05             3.29       1307.76   \n",
       "2009-01-01 11:00:00          0.33       1.97             3.17       1310.43   \n",
       "2009-01-01 12:00:00          0.38       2.03             3.26       1306.98   \n",
       "2009-01-01 13:00:00          0.45       2.17             3.48       1301.73   \n",
       "2009-01-01 14:00:00          0.43       2.17             3.49       1301.67   \n",
       "2009-01-01 15:00:00          0.38       2.25             3.61       1300.51   \n",
       "2009-01-01 16:00:00          0.43       2.27             3.65       1299.17   \n",
       "2009-01-01 17:00:00          0.43       2.28             3.66       1299.27   \n",
       "2009-01-01 18:00:00          0.45       2.29             3.68       1298.68   \n",
       "2009-01-01 19:00:00          0.44       2.32             3.73       1298.07   \n",
       "2009-01-01 20:00:00          0.45       2.36             3.78       1297.05   \n",
       "2009-01-01 21:00:00          0.42       2.40             3.85       1296.45   \n",
       "2009-01-01 22:00:00          0.42       2.46             3.95       1294.72   \n",
       "2009-01-01 23:00:00          0.43       2.46             3.95       1294.29   \n",
       "2009-01-02 00:00:00          0.30       2.53             4.06       1294.33   \n",
       "2009-01-02 01:00:00          0.25       2.58             4.15       1293.47   \n",
       "2009-01-02 02:00:00          0.24       2.62             4.20       1292.22   \n",
       "\n",
       "                     wv (m/s)  max. wv (m/s)  wd (deg)  \n",
       "Date Time                                               \n",
       "2009-01-01 01:00:00      0.21           0.63     192.7  \n",
       "2009-01-01 02:00:00      0.25           0.63     190.3  \n",
       "2009-01-01 03:00:00      0.18           0.63     167.2  \n",
       "2009-01-01 04:00:00      0.10           0.38     240.0  \n",
       "2009-01-01 05:00:00      0.40           0.88     157.0  \n",
       "2009-01-01 06:00:00      0.05           0.50     146.0  \n",
       "2009-01-01 07:00:00      2.08           2.88     348.8  \n",
       "2009-01-01 08:00:00      0.72           1.25     213.9  \n",
       "2009-01-01 09:00:00      0.34           0.63     202.2  \n",
       "2009-01-01 10:00:00      1.45           3.00     292.6  \n",
       "2009-01-01 11:00:00      1.91           3.38     269.6  \n",
       "2009-01-01 12:00:00      1.84           2.63     184.4  \n",
       "2009-01-01 13:00:00      0.57           1.25     187.3  \n",
       "2009-01-01 14:00:00      1.25           2.00     144.0  \n",
       "2009-01-01 15:00:00      1.17           1.88     134.9  \n",
       "2009-01-01 16:00:00      1.40           2.13     145.5  \n",
       "2009-01-01 17:00:00      0.85           1.63     142.2  \n",
       "2009-01-01 18:00:00      0.55           1.00     183.7  \n",
       "2009-01-01 19:00:00      0.41           0.75     176.7  \n",
       "2009-01-01 20:00:00      0.68           1.13     195.2  \n",
       "2009-01-01 21:00:00      0.44           0.75     206.3  \n",
       "2009-01-01 22:00:00      0.33           0.63     175.7  \n",
       "2009-01-01 23:00:00      0.65           1.00     219.3  \n",
       "2009-01-02 00:00:00      0.41           0.88     155.0  \n",
       "2009-01-02 01:00:00      0.28           1.00     148.1  \n",
       "2009-01-02 02:00:00      0.49           0.88     209.8  "
      ]
     },
     "execution_count": 11,
     "metadata": {},
     "output_type": "execute_result"
    }
   ],
   "source": [
    "df.index = pd.to_datetime(df['Date Time'], format='%d.%m.%Y %H:%M:%S')\n",
    "df[:26]"
   ]
  },
  {
   "cell_type": "code",
   "execution_count": 12,
   "id": "0fdcef49",
   "metadata": {},
   "outputs": [
    {
     "data": {
      "text/plain": [
       "<Axes: xlabel='Date Time'>"
      ]
     },
     "execution_count": 12,
     "metadata": {},
     "output_type": "execute_result"
    },
    {
     "data": {
      "image/png": "[encoded data removed]",
      "text/plain": [
       "<Figure size 640x480 with 1 Axes>"
      ]
     },
     "metadata": {},
     "output_type": "display_data"
    }
   ],
   "source": [
    "temp = df['T (degC)']\n",
    "temp.plot()"
   ]
  },
  {
   "cell_type": "code",
   "execution_count": 13,
   "id": "faa22fcf",
   "metadata": {},
   "outputs": [],
   "source": [
    "def df_to_X_y(df, window_size=5):\n",
    "    df_as_np = df.to_numpy()\n",
    "    X = []\n",
    "    y = []\n",
    "    for i in range(len(df_as_np)-window_size):\n",
    "        row = [[a] for a in df_as_np[i:i+window_size]]\n",
    "        X.append(row)\n",
    "        label = df_as_np[i+window_size]\n",
    "        y.append(label)\n",
    "    return np.array(X), np.array(y)"
   ]
  },
  {
   "cell_type": "code",
   "execution_count": 14,
   "id": "9b87625f",
   "metadata": {},
   "outputs": [
    {
     "data": {
      "text/plain": [
       "((70086, 5, 1), (70086,))"
      ]
     },
     "execution_count": 14,
     "metadata": {},
     "output_type": "execute_result"
    }
   ],
   "source": [
    "WINDOW_SIZE = 5\n",
    "X1, y1 = df_to_X_y(temp, WINDOW_SIZE)\n",
    "X1.shape, y1.shape"
   ]
  },
  {
   "cell_type": "code",
   "execution_count": 15,
   "id": "aa7ffd5a",
   "metadata": {},
   "outputs": [
    {
     "data": {
      "text/plain": [
       "((60000, 5, 1), (60000,), (5000, 5, 1), (5000,), (5086, 5, 1), (5086,))"
      ]
     },
     "execution_count": 15,
     "metadata": {},
     "output_type": "execute_result"
    }
   ],
   "source": [
    "X_train1, y_train1 = X1[:60000], y1[:60000]\n",
    "X_val1, y_val1 = X1[60000:65000], y1[60000:65000]\n",
    "X_test1, y_test1 = X1[65000:], y1[65000:]\n",
    "X_train1.shape, y_train1.shape, X_val1.shape, y_val1.shape, X_test1.shape, y_test1.shape"
   ]
  },
  {
   "cell_type": "code",
   "execution_count": 22,
   "id": "ac9fa4b0",
   "metadata": {},
   "outputs": [
    {
     "data": {
      "text/html": [
       "<pre style=\"white-space:pre;overflow-x:auto;line-height:normal;font-family:Menlo,'DejaVu Sans Mono',consolas,'Courier New',monospace\"><span style=\"font-weight: bold\">Model: \"sequential_1\"</span>\n",
       "</pre>\n"
      ],
      "text/plain": [
       "\u001b[1mModel: \"sequential_1\"\u001b[0m\n"
      ]
     },
     "metadata": {},
     "output_type": "display_data"
    },
    {
     "data": {
      "text/html": [
       "<pre style=\"white-space:pre;overflow-x:auto;line-height:normal;font-family:Menlo,'DejaVu Sans Mono',consolas,'Courier New',monospace\">┏━━━━━━━━━━━━━━━━━━━━━━━━━━━━━━━━━━━━━━┳━━━━━━━━━━━━━━━━━━━━━━━━━━━━━┳━━━━━━━━━━━━━━━━━┓\n",
       "┃<span style=\"font-weight: bold\"> Layer (type)                         </span>┃<span style=\"font-weight: bold\"> Output Shape                </span>┃<span style=\"font-weight: bold\">         Param # </span>┃\n",
       "┡━━━━━━━━━━━━━━━━━━━━━━━━━━━━━━━━━━━━━━╇━━━━━━━━━━━━━━━━━━━━━━━━━━━━━╇━━━━━━━━━━━━━━━━━┩\n",
       "│ lstm_1 (<span style=\"color: #0087ff; text-decoration-color: #0087ff\">LSTM</span>)                        │ (<span style=\"color: #00d7ff; text-decoration-color: #00d7ff\">None</span>, <span style=\"color: #00af00; text-decoration-color: #00af00\">64</span>)                  │          <span style=\"color: #00af00; text-decoration-color: #00af00\">16,896</span> │\n",
       "├──────────────────────────────────────┼─────────────────────────────┼─────────────────┤\n",
       "│ dense_2 (<span style=\"color: #0087ff; text-decoration-color: #0087ff\">Dense</span>)                      │ (<span style=\"color: #00d7ff; text-decoration-color: #00d7ff\">None</span>, <span style=\"color: #00af00; text-decoration-color: #00af00\">8</span>)                   │             <span style=\"color: #00af00; text-decoration-color: #00af00\">520</span> │\n",
       "├──────────────────────────────────────┼─────────────────────────────┼─────────────────┤\n",
       "│ dense_3 (<span style=\"color: #0087ff; text-decoration-color: #0087ff\">Dense</span>)                      │ (<span style=\"color: #00d7ff; text-decoration-color: #00d7ff\">None</span>, <span style=\"color: #00af00; text-decoration-color: #00af00\">1</span>)                   │               <span style=\"color: #00af00; text-decoration-color: #00af00\">9</span> │\n",
       "└──────────────────────────────────────┴─────────────────────────────┴─────────────────┘\n",
       "</pre>\n"
      ],
      "text/plain": [
       "┏━━━━━━━━━━━━━━━━━━━━━━━━━━━━━━━━━━━━━━┳━━━━━━━━━━━━━━━━━━━━━━━━━━━━━┳━━━━━━━━━━━━━━━━━┓\n",
       "┃\u001b[1m \u001b[0m\u001b[1mLayer (type)                        \u001b[0m\u001b[1m \u001b[0m┃\u001b[1m \u001b[0m\u001b[1mOutput Shape               \u001b[0m\u001b[1m \u001b[0m┃\u001b[1m \u001b[0m\u001b[1m        Param #\u001b[0m\u001b[1m \u001b[0m┃\n",
       "┡━━━━━━━━━━━━━━━━━━━━━━━━━━━━━━━━━━━━━━╇━━━━━━━━━━━━━━━━━━━━━━━━━━━━━╇━━━━━━━━━━━━━━━━━┩\n",
       "│ lstm_1 (\u001b[38;5;33mLSTM\u001b[0m)                        │ (\u001b[38;5;45mNone\u001b[0m, \u001b[38;5;34m64\u001b[0m)                  │          \u001b[38;5;34m16,896\u001b[0m │\n",
       "├──────────────────────────────────────┼─────────────────────────────┼─────────────────┤\n",
       "│ dense_2 (\u001b[38;5;33mDense\u001b[0m)                      │ (\u001b[38;5;45mNone\u001b[0m, \u001b[38;5;34m8\u001b[0m)                   │             \u001b[38;5;34m520\u001b[0m │\n",
       "├──────────────────────────────────────┼─────────────────────────────┼─────────────────┤\n",
       "│ dense_3 (\u001b[38;5;33mDense\u001b[0m)                      │ (\u001b[38;5;45mNone\u001b[0m, \u001b[38;5;34m1\u001b[0m)                   │               \u001b[38;5;34m9\u001b[0m │\n",
       "└──────────────────────────────────────┴─────────────────────────────┴─────────────────┘\n"
      ]
     },
     "metadata": {},
     "output_type": "display_data"
    },
    {
     "data": {
      "text/html": [
       "<pre style=\"white-space:pre;overflow-x:auto;line-height:normal;font-family:Menlo,'DejaVu Sans Mono',consolas,'Courier New',monospace\"><span style=\"font-weight: bold\"> Total params: </span><span style=\"color: #00af00; text-decoration-color: #00af00\">17,425</span> (68.07 KB)\n",
       "</pre>\n"
      ],
      "text/plain": [
       "\u001b[1m Total params: \u001b[0m\u001b[38;5;34m17,425\u001b[0m (68.07 KB)\n"
      ]
     },
     "metadata": {},
     "output_type": "display_data"
    },
    {
     "data": {
      "text/html": [
       "<pre style=\"white-space:pre;overflow-x:auto;line-height:normal;font-family:Menlo,'DejaVu Sans Mono',consolas,'Courier New',monospace\"><span style=\"font-weight: bold\"> Trainable params: </span><span style=\"color: #00af00; text-decoration-color: #00af00\">17,425</span> (68.07 KB)\n",
       "</pre>\n"
      ],
      "text/plain": [
       "\u001b[1m Trainable params: \u001b[0m\u001b[38;5;34m17,425\u001b[0m (68.07 KB)\n"
      ]
     },
     "metadata": {},
     "output_type": "display_data"
    },
    {
     "data": {
      "text/html": [
       "<pre style=\"white-space:pre;overflow-x:auto;line-height:normal;font-family:Menlo,'DejaVu Sans Mono',consolas,'Courier New',monospace\"><span style=\"font-weight: bold\"> Non-trainable params: </span><span style=\"color: #00af00; text-decoration-color: #00af00\">0</span> (0.00 B)\n",
       "</pre>\n"
      ],
      "text/plain": [
       "\u001b[1m Non-trainable params: \u001b[0m\u001b[38;5;34m0\u001b[0m (0.00 B)\n"
      ]
     },
     "metadata": {},
     "output_type": "display_data"
    }
   ],
   "source": [
    "import tensorflow as tf\n",
    "from tensorflow.keras.models import Sequential\n",
    "from tensorflow.keras.layers import *\n",
    "from tensorflow.keras.callbacks import ModelCheckpoint\n",
    "from tensorflow.keras.losses import MeanSquaredError\n",
    "from tensorflow.keras.metrics import RootMeanSquaredError\n",
    "from tensorflow.keras.optimizers import Adam\n",
    "\n",
    "model1 = Sequential()\n",
    "model1.add(InputLayer((5, 1)))\n",
    "model1.add(LSTM(64))\n",
    "model1.add(Dense(8, 'relu'))\n",
    "model1.add(Dense(1, 'linear'))\n",
    "\n",
    "model1.summary()"
   ]
  },
  {
   "cell_type": "code",
   "execution_count": 26,
   "id": "60bee62e",
   "metadata": {},
   "outputs": [],
   "source": [
    "cp1 = ModelCheckpoint('model1/model1.keras',save_best_only=True)\n",
    "model1.compile(loss=MeanSquaredError(), \n",
    "               optimizer=Adam(learning_rate=0.0001), \n",
    "               metrics=[RootMeanSquaredError()])"
   ]
  },
  {
   "cell_type": "code",
   "execution_count": 27,
   "id": "a07ced76",
   "metadata": {},
   "outputs": [
    {
     "name": "stdout",
     "output_type": "stream",
     "text": [
      "Epoch 1/10\n",
      "\u001b[1m1875/1875\u001b[0m \u001b[32m━━━━━━━━━━━━━━━━━━━━\u001b[0m\u001b[37m\u001b[0m \u001b[1m15s\u001b[0m 6ms/step - loss: 112.8922 - root_mean_squared_error: 10.5206 - val_loss: 3.5618 - val_root_mean_squared_error: 1.8873\n",
      "Epoch 2/10\n",
      "\u001b[1m1875/1875\u001b[0m \u001b[32m━━━━━━━━━━━━━━━━━━━━\u001b[0m\u001b[37m\u001b[0m \u001b[1m10s\u001b[0m 5ms/step - loss: 9.5991 - root_mean_squared_error: 3.0774 - val_loss: 0.8034 - val_root_mean_squared_error: 0.8963\n",
      "Epoch 3/10\n",
      "\u001b[1m1875/1875\u001b[0m \u001b[32m━━━━━━━━━━━━━━━━━━━━\u001b[0m\u001b[37m\u001b[0m \u001b[1m10s\u001b[0m 5ms/step - loss: 2.0176 - root_mean_squared_error: 1.4179 - val_loss: 0.5838 - val_root_mean_squared_error: 0.7640\n",
      "Epoch 4/10\n",
      "\u001b[1m1875/1875\u001b[0m \u001b[32m━━━━━━━━━━━━━━━━━━━━\u001b[0m\u001b[37m\u001b[0m \u001b[1m10s\u001b[0m 5ms/step - loss: 0.9887 - root_mean_squared_error: 0.9937 - val_loss: 0.5225 - val_root_mean_squared_error: 0.7228\n",
      "Epoch 5/10\n",
      "\u001b[1m1875/1875\u001b[0m \u001b[32m━━━━━━━━━━━━━━━━━━━━\u001b[0m\u001b[37m\u001b[0m \u001b[1m9s\u001b[0m 5ms/step - loss: 0.7603 - root_mean_squared_error: 0.8718 - val_loss: 0.5042 - val_root_mean_squared_error: 0.7100\n",
      "Epoch 6/10\n",
      "\u001b[1m1875/1875\u001b[0m \u001b[32m━━━━━━━━━━━━━━━━━━━━\u001b[0m\u001b[37m\u001b[0m \u001b[1m9s\u001b[0m 5ms/step - loss: 0.6908 - root_mean_squared_error: 0.8311 - val_loss: 0.5010 - val_root_mean_squared_error: 0.7078\n",
      "Epoch 7/10\n",
      "\u001b[1m1875/1875\u001b[0m \u001b[32m━━━━━━━━━━━━━━━━━━━━\u001b[0m\u001b[37m\u001b[0m \u001b[1m9s\u001b[0m 5ms/step - loss: 0.6743 - root_mean_squared_error: 0.8211 - val_loss: 0.5025 - val_root_mean_squared_error: 0.7089\n",
      "Epoch 8/10\n",
      "\u001b[1m1875/1875\u001b[0m \u001b[32m━━━━━━━━━━━━━━━━━━━━\u001b[0m\u001b[37m\u001b[0m \u001b[1m9s\u001b[0m 5ms/step - loss: 0.6449 - root_mean_squared_error: 0.8028 - val_loss: 0.4916 - val_root_mean_squared_error: 0.7012\n",
      "Epoch 9/10\n",
      "\u001b[1m1875/1875\u001b[0m \u001b[32m━━━━━━━━━━━━━━━━━━━━\u001b[0m\u001b[37m\u001b[0m \u001b[1m9s\u001b[0m 5ms/step - loss: 0.6530 - root_mean_squared_error: 0.8080 - val_loss: 0.5180 - val_root_mean_squared_error: 0.7197\n",
      "Epoch 10/10\n",
      "\u001b[1m1875/1875\u001b[0m \u001b[32m━━━━━━━━━━━━━━━━━━━━\u001b[0m\u001b[37m\u001b[0m \u001b[1m9s\u001b[0m 5ms/step - loss: 0.6586 - root_mean_squared_error: 0.8114 - val_loss: 0.4921 - val_root_mean_squared_error: 0.7015\n"
     ]
    },
    {
     "data": {
      "text/plain": [
       "<keras.src.callbacks.history.History at 0x2a3220271d0>"
      ]
     },
     "execution_count": 27,
     "metadata": {},
     "output_type": "execute_result"
    }
   ],
   "source": [
    "model1.fit(X_train1, y_train1, validation_data=(X_val1, y_val1), epochs=10, callbacks=[cp1])"
   ]
  },
  {
   "cell_type": "code",
   "execution_count": 28,
   "id": "854b5306",
   "metadata": {},
   "outputs": [],
   "source": [
    "from tensorflow.keras.models import load_model\n",
    "model1 = load_model('model1/model1.keras')"
   ]
  },
  {
   "cell_type": "code",
   "execution_count": 29,
   "id": "ee2dc4d5",
   "metadata": {},
   "outputs": [
    {
     "name": "stdout",
     "output_type": "stream",
     "text": [
      "\u001b[1m1875/1875\u001b[0m \u001b[32m━━━━━━━━━━━━━━━━━━━━\u001b[0m\u001b[37m\u001b[0m \u001b[1m7s\u001b[0m 4ms/step\n"
     ]
    },
    {
     "data": {
      "text/html": [
       "<div>\n",
       "<style scoped>\n",
       "    .dataframe tbody tr th:only-of-type {\n",
       "        vertical-align: middle;\n",
       "    }\n",
       "\n",
       "    .dataframe tbody tr th {\n",
       "        vertical-align: top;\n",
       "    }\n",
       "\n",
       "    .dataframe thead th {\n",
       "        text-align: right;\n",
       "    }\n",
       "</style>\n",
       "<table border=\"1\" class=\"dataframe\">\n",
       "  <thead>\n",
       "    <tr style=\"text-align: right;\">\n",
       "      <th></th>\n",
       "      <th>Train Predictions</th>\n",
       "      <th>Actuals</th>\n",
       "    </tr>\n",
       "  </thead>\n",
       "  <tbody>\n",
       "    <tr>\n",
       "      <th>0</th>\n",
       "      <td>-9.886255</td>\n",
       "      <td>-9.67</td>\n",
       "    </tr>\n",
       "    <tr>\n",
       "      <th>1</th>\n",
       "      <td>-9.725187</td>\n",
       "      <td>-9.17</td>\n",
       "    </tr>\n",
       "    <tr>\n",
       "      <th>2</th>\n",
       "      <td>-8.906118</td>\n",
       "      <td>-8.10</td>\n",
       "    </tr>\n",
       "    <tr>\n",
       "      <th>3</th>\n",
       "      <td>-7.498798</td>\n",
       "      <td>-7.66</td>\n",
       "    </tr>\n",
       "    <tr>\n",
       "      <th>4</th>\n",
       "      <td>-7.347355</td>\n",
       "      <td>-7.04</td>\n",
       "    </tr>\n",
       "    <tr>\n",
       "      <th>...</th>\n",
       "      <td>...</td>\n",
       "      <td>...</td>\n",
       "    </tr>\n",
       "    <tr>\n",
       "      <th>59995</th>\n",
       "      <td>5.963561</td>\n",
       "      <td>6.07</td>\n",
       "    </tr>\n",
       "    <tr>\n",
       "      <th>59996</th>\n",
       "      <td>7.156093</td>\n",
       "      <td>9.88</td>\n",
       "    </tr>\n",
       "    <tr>\n",
       "      <th>59997</th>\n",
       "      <td>12.258767</td>\n",
       "      <td>13.53</td>\n",
       "    </tr>\n",
       "    <tr>\n",
       "      <th>59998</th>\n",
       "      <td>16.017406</td>\n",
       "      <td>15.43</td>\n",
       "    </tr>\n",
       "    <tr>\n",
       "      <th>59999</th>\n",
       "      <td>16.301920</td>\n",
       "      <td>15.54</td>\n",
       "    </tr>\n",
       "  </tbody>\n",
       "</table>\n",
       "<p>60000 rows × 2 columns</p>\n",
       "</div>"
      ],
      "text/plain": [
       "       Train Predictions  Actuals\n",
       "0              -9.886255    -9.67\n",
       "1              -9.725187    -9.17\n",
       "2              -8.906118    -8.10\n",
       "3              -7.498798    -7.66\n",
       "4              -7.347355    -7.04\n",
       "...                  ...      ...\n",
       "59995           5.963561     6.07\n",
       "59996           7.156093     9.88\n",
       "59997          12.258767    13.53\n",
       "59998          16.017406    15.43\n",
       "59999          16.301920    15.54\n",
       "\n",
       "[60000 rows x 2 columns]"
      ]
     },
     "execution_count": 29,
     "metadata": {},
     "output_type": "execute_result"
    }
   ],
   "source": [
    "train_predictions = model1.predict(X_train1).flatten()\n",
    "train_results = pd.DataFrame(data={'Train Predictions':train_predictions, 'Actuals':y_train1})\n",
    "train_results"
   ]
  },
  {
   "cell_type": "code",
   "execution_count": 30,
   "id": "72f59d0e",
   "metadata": {},
   "outputs": [
    {
     "data": {
      "text/plain": [
       "[<matplotlib.lines.Line2D at 0x2a327eb1ed0>]"
      ]
     },
     "execution_count": 30,
     "metadata": {},
     "output_type": "execute_result"
    },
    {
     "data": {
      "image/png": "[encoded data removed]",
      "text/plain": [
       "<Figure size 640x480 with 1 Axes>"
      ]
     },
     "metadata": {},
     "output_type": "display_data"
    }
   ],
   "source": [
    "import matplotlib.pyplot as plt\n",
    "plt.plot(train_results['Train Predictions'][50:100])\n",
    "plt.plot(train_results['Actuals'][50:100])"
   ]
  },
  {
   "cell_type": "code",
   "execution_count": 31,
   "id": "289dca7e",
   "metadata": {},
   "outputs": [
    {
     "name": "stdout",
     "output_type": "stream",
     "text": [
      "\u001b[1m157/157\u001b[0m \u001b[32m━━━━━━━━━━━━━━━━━━━━\u001b[0m\u001b[37m\u001b[0m \u001b[1m1s\u001b[0m 6ms/step\n"
     ]
    },
    {
     "data": {
      "text/html": [
       "<div>\n",
       "<style scoped>\n",
       "    .dataframe tbody tr th:only-of-type {\n",
       "        vertical-align: middle;\n",
       "    }\n",
       "\n",
       "    .dataframe tbody tr th {\n",
       "        vertical-align: top;\n",
       "    }\n",
       "\n",
       "    .dataframe thead th {\n",
       "        text-align: right;\n",
       "    }\n",
       "</style>\n",
       "<table border=\"1\" class=\"dataframe\">\n",
       "  <thead>\n",
       "    <tr style=\"text-align: right;\">\n",
       "      <th></th>\n",
       "      <th>Val Predictions</th>\n",
       "      <th>Actuals</th>\n",
       "    </tr>\n",
       "  </thead>\n",
       "  <tbody>\n",
       "    <tr>\n",
       "      <th>0</th>\n",
       "      <td>15.409421</td>\n",
       "      <td>14.02</td>\n",
       "    </tr>\n",
       "    <tr>\n",
       "      <th>1</th>\n",
       "      <td>13.127589</td>\n",
       "      <td>13.67</td>\n",
       "    </tr>\n",
       "    <tr>\n",
       "      <th>2</th>\n",
       "      <td>12.904283</td>\n",
       "      <td>12.27</td>\n",
       "    </tr>\n",
       "    <tr>\n",
       "      <th>3</th>\n",
       "      <td>11.387541</td>\n",
       "      <td>11.19</td>\n",
       "    </tr>\n",
       "    <tr>\n",
       "      <th>4</th>\n",
       "      <td>10.315731</td>\n",
       "      <td>10.85</td>\n",
       "    </tr>\n",
       "    <tr>\n",
       "      <th>...</th>\n",
       "      <td>...</td>\n",
       "      <td>...</td>\n",
       "    </tr>\n",
       "    <tr>\n",
       "      <th>4995</th>\n",
       "      <td>17.195770</td>\n",
       "      <td>18.27</td>\n",
       "    </tr>\n",
       "    <tr>\n",
       "      <th>4996</th>\n",
       "      <td>17.237278</td>\n",
       "      <td>17.85</td>\n",
       "    </tr>\n",
       "    <tr>\n",
       "      <th>4997</th>\n",
       "      <td>17.204605</td>\n",
       "      <td>16.65</td>\n",
       "    </tr>\n",
       "    <tr>\n",
       "      <th>4998</th>\n",
       "      <td>15.798361</td>\n",
       "      <td>15.85</td>\n",
       "    </tr>\n",
       "    <tr>\n",
       "      <th>4999</th>\n",
       "      <td>14.974999</td>\n",
       "      <td>15.09</td>\n",
       "    </tr>\n",
       "  </tbody>\n",
       "</table>\n",
       "<p>5000 rows × 2 columns</p>\n",
       "</div>"
      ],
      "text/plain": [
       "      Val Predictions  Actuals\n",
       "0           15.409421    14.02\n",
       "1           13.127589    13.67\n",
       "2           12.904283    12.27\n",
       "3           11.387541    11.19\n",
       "4           10.315731    10.85\n",
       "...               ...      ...\n",
       "4995        17.195770    18.27\n",
       "4996        17.237278    17.85\n",
       "4997        17.204605    16.65\n",
       "4998        15.798361    15.85\n",
       "4999        14.974999    15.09\n",
       "\n",
       "[5000 rows x 2 columns]"
      ]
     },
     "execution_count": 31,
     "metadata": {},
     "output_type": "execute_result"
    }
   ],
   "source": [
    "val_predictions = model1.predict(X_val1).flatten()\n",
    "val_results = pd.DataFrame(data={'Val Predictions':val_predictions, 'Actuals':y_val1})\n",
    "val_results"
   ]
  },
  {
   "cell_type": "code",
   "execution_count": 32,
   "id": "dad495e4",
   "metadata": {},
   "outputs": [
    {
     "data": {
      "text/plain": [
       "[<matplotlib.lines.Line2D at 0x2a3286baf10>]"
      ]
     },
     "execution_count": 32,
     "metadata": {},
     "output_type": "execute_result"
    },
    {
     "data": {
      "image/png": "[encoded data removed]",
      "text/plain": [
       "<Figure size 640x480 with 1 Axes>"
      ]
     },
     "metadata": {},
     "output_type": "display_data"
    }
   ],
   "source": [
    "plt.plot(val_results['Val Predictions'][:100])\n",
    "plt.plot(val_results['Actuals'][:100])"
   ]
  },
  {
   "cell_type": "code",
   "execution_count": 33,
   "id": "ec7934a1",
   "metadata": {},
   "outputs": [
    {
     "name": "stdout",
     "output_type": "stream",
     "text": [
      "\u001b[1m159/159\u001b[0m \u001b[32m━━━━━━━━━━━━━━━━━━━━\u001b[0m\u001b[37m\u001b[0m \u001b[1m1s\u001b[0m 5ms/step\n"
     ]
    },
    {
     "data": {
      "text/html": [
       "<div>\n",
       "<style scoped>\n",
       "    .dataframe tbody tr th:only-of-type {\n",
       "        vertical-align: middle;\n",
       "    }\n",
       "\n",
       "    .dataframe tbody tr th {\n",
       "        vertical-align: top;\n",
       "    }\n",
       "\n",
       "    .dataframe thead th {\n",
       "        text-align: right;\n",
       "    }\n",
       "</style>\n",
       "<table border=\"1\" class=\"dataframe\">\n",
       "  <thead>\n",
       "    <tr style=\"text-align: right;\">\n",
       "      <th></th>\n",
       "      <th>Test Predictions</th>\n",
       "      <th>Actuals</th>\n",
       "    </tr>\n",
       "  </thead>\n",
       "  <tbody>\n",
       "    <tr>\n",
       "      <th>0</th>\n",
       "      <td>14.293508</td>\n",
       "      <td>13.99</td>\n",
       "    </tr>\n",
       "    <tr>\n",
       "      <th>1</th>\n",
       "      <td>13.134128</td>\n",
       "      <td>13.46</td>\n",
       "    </tr>\n",
       "    <tr>\n",
       "      <th>2</th>\n",
       "      <td>12.752934</td>\n",
       "      <td>12.93</td>\n",
       "    </tr>\n",
       "    <tr>\n",
       "      <th>3</th>\n",
       "      <td>12.362496</td>\n",
       "      <td>12.43</td>\n",
       "    </tr>\n",
       "    <tr>\n",
       "      <th>4</th>\n",
       "      <td>11.934884</td>\n",
       "      <td>12.17</td>\n",
       "    </tr>\n",
       "    <tr>\n",
       "      <th>...</th>\n",
       "      <td>...</td>\n",
       "      <td>...</td>\n",
       "    </tr>\n",
       "    <tr>\n",
       "      <th>5081</th>\n",
       "      <td>-0.947824</td>\n",
       "      <td>-0.98</td>\n",
       "    </tr>\n",
       "    <tr>\n",
       "      <th>5082</th>\n",
       "      <td>-1.513423</td>\n",
       "      <td>-1.40</td>\n",
       "    </tr>\n",
       "    <tr>\n",
       "      <th>5083</th>\n",
       "      <td>-1.687603</td>\n",
       "      <td>-2.75</td>\n",
       "    </tr>\n",
       "    <tr>\n",
       "      <th>5084</th>\n",
       "      <td>-3.609129</td>\n",
       "      <td>-2.89</td>\n",
       "    </tr>\n",
       "    <tr>\n",
       "      <th>5085</th>\n",
       "      <td>-3.425661</td>\n",
       "      <td>-3.93</td>\n",
       "    </tr>\n",
       "  </tbody>\n",
       "</table>\n",
       "<p>5086 rows × 2 columns</p>\n",
       "</div>"
      ],
      "text/plain": [
       "      Test Predictions  Actuals\n",
       "0            14.293508    13.99\n",
       "1            13.134128    13.46\n",
       "2            12.752934    12.93\n",
       "3            12.362496    12.43\n",
       "4            11.934884    12.17\n",
       "...                ...      ...\n",
       "5081         -0.947824    -0.98\n",
       "5082         -1.513423    -1.40\n",
       "5083         -1.687603    -2.75\n",
       "5084         -3.609129    -2.89\n",
       "5085         -3.425661    -3.93\n",
       "\n",
       "[5086 rows x 2 columns]"
      ]
     },
     "execution_count": 33,
     "metadata": {},
     "output_type": "execute_result"
    }
   ],
   "source": [
    "test_predictions = model1.predict(X_test1).flatten()\n",
    "test_results = pd.DataFrame(data={'Test Predictions':test_predictions, 'Actuals':y_test1})\n",
    "test_results"
   ]
  },
  {
   "cell_type": "code",
   "execution_count": 34,
   "id": "d6361808",
   "metadata": {},
   "outputs": [
    {
     "data": {
      "text/plain": [
       "[<matplotlib.lines.Line2D at 0x2a3286bbcd0>]"
      ]
     },
     "execution_count": 34,
     "metadata": {},
     "output_type": "execute_result"
    },
    {
     "data": {
      "image/png": "[encoded data removed]",
      "text/plain": [
       "<Figure size 640x480 with 1 Axes>"
      ]
     },
     "metadata": {},
     "output_type": "display_data"
    }
   ],
   "source": [
    "plt.plot(test_results['Test Predictions'][:100])\n",
    "plt.plot(test_results['Actuals'][:100])"
   ]
  },
  {
   "cell_type": "code",
   "execution_count": 35,
   "id": "5a59d5fe",
   "metadata": {},
   "outputs": [],
   "source": [
    "from sklearn.metrics import mean_squared_error as mse\n",
    "\n",
    "def plot_predictions1(model, X, y, start=0, end=100):\n",
    "    predictions = model.predict(X).flatten()\n",
    "    df = pd.DataFrame(data={'Predictions': predictions, 'Actuals':y})\n",
    "    plt.plot(df['Predictions'][start:end])\n",
    "    plt.plot(df['Actuals'][start:end])\n",
    "    return df, mse(predictions, y)"
   ]
  },
  {
   "cell_type": "code",
   "execution_count": 36,
   "id": "18754ee4",
   "metadata": {},
   "outputs": [
    {
     "name": "stdout",
     "output_type": "stream",
     "text": [
      "\u001b[1m159/159\u001b[0m \u001b[32m━━━━━━━━━━━━━━━━━━━━\u001b[0m\u001b[37m\u001b[0m \u001b[1m1s\u001b[0m 4ms/step\n"
     ]
    },
    {
     "data": {
      "text/plain": [
       "(      Predictions  Actuals\n",
       " 0       14.293508    13.99\n",
       " 1       13.134128    13.46\n",
       " 2       12.752934    12.93\n",
       " 3       12.362496    12.43\n",
       " 4       11.934884    12.17\n",
       " ...           ...      ...\n",
       " 5081    -0.947824    -0.98\n",
       " 5082    -1.513423    -1.40\n",
       " 5083    -1.687603    -2.75\n",
       " 5084    -3.609129    -2.89\n",
       " 5085    -3.425661    -3.93\n",
       " \n",
       " [5086 rows x 2 columns],\n",
       " 0.6509620666339075)"
      ]
     },
     "execution_count": 36,
     "metadata": {},
     "output_type": "execute_result"
    },
    {
     "data": {
      "image/png": "[encoded data removed]",
      "text/plain": [
       "<Figure size 640x480 with 1 Axes>"
      ]
     },
     "metadata": {},
     "output_type": "display_data"
    }
   ],
   "source": [
    "plot_predictions1(model1, X_test1, y_test1)"
   ]
  },
  {
   "cell_type": "code",
   "execution_count": 37,
   "id": "63d022bd",
   "metadata": {},
   "outputs": [
    {
     "data": {
      "text/html": [
       "<pre style=\"white-space:pre;overflow-x:auto;line-height:normal;font-family:Menlo,'DejaVu Sans Mono',consolas,'Courier New',monospace\"><span style=\"font-weight: bold\">Model: \"sequential_2\"</span>\n",
       "</pre>\n"
      ],
      "text/plain": [
       "\u001b[1mModel: \"sequential_2\"\u001b[0m\n"
      ]
     },
     "metadata": {},
     "output_type": "display_data"
    },
    {
     "data": {
      "text/html": [
       "<pre style=\"white-space:pre;overflow-x:auto;line-height:normal;font-family:Menlo,'DejaVu Sans Mono',consolas,'Courier New',monospace\">┏━━━━━━━━━━━━━━━━━━━━━━━━━━━━━━━━━━━━━━┳━━━━━━━━━━━━━━━━━━━━━━━━━━━━━┳━━━━━━━━━━━━━━━━━┓\n",
       "┃<span style=\"font-weight: bold\"> Layer (type)                         </span>┃<span style=\"font-weight: bold\"> Output Shape                </span>┃<span style=\"font-weight: bold\">         Param # </span>┃\n",
       "┡━━━━━━━━━━━━━━━━━━━━━━━━━━━━━━━━━━━━━━╇━━━━━━━━━━━━━━━━━━━━━━━━━━━━━╇━━━━━━━━━━━━━━━━━┩\n",
       "│ conv1d (<span style=\"color: #0087ff; text-decoration-color: #0087ff\">Conv1D</span>)                      │ (<span style=\"color: #00d7ff; text-decoration-color: #00d7ff\">None</span>, <span style=\"color: #00af00; text-decoration-color: #00af00\">4</span>, <span style=\"color: #00af00; text-decoration-color: #00af00\">64</span>)               │             <span style=\"color: #00af00; text-decoration-color: #00af00\">192</span> │\n",
       "├──────────────────────────────────────┼─────────────────────────────┼─────────────────┤\n",
       "│ flatten (<span style=\"color: #0087ff; text-decoration-color: #0087ff\">Flatten</span>)                    │ (<span style=\"color: #00d7ff; text-decoration-color: #00d7ff\">None</span>, <span style=\"color: #00af00; text-decoration-color: #00af00\">256</span>)                 │               <span style=\"color: #00af00; text-decoration-color: #00af00\">0</span> │\n",
       "├──────────────────────────────────────┼─────────────────────────────┼─────────────────┤\n",
       "│ dense_4 (<span style=\"color: #0087ff; text-decoration-color: #0087ff\">Dense</span>)                      │ (<span style=\"color: #00d7ff; text-decoration-color: #00d7ff\">None</span>, <span style=\"color: #00af00; text-decoration-color: #00af00\">8</span>)                   │           <span style=\"color: #00af00; text-decoration-color: #00af00\">2,056</span> │\n",
       "├──────────────────────────────────────┼─────────────────────────────┼─────────────────┤\n",
       "│ dense_5 (<span style=\"color: #0087ff; text-decoration-color: #0087ff\">Dense</span>)                      │ (<span style=\"color: #00d7ff; text-decoration-color: #00d7ff\">None</span>, <span style=\"color: #00af00; text-decoration-color: #00af00\">1</span>)                   │               <span style=\"color: #00af00; text-decoration-color: #00af00\">9</span> │\n",
       "└──────────────────────────────────────┴─────────────────────────────┴─────────────────┘\n",
       "</pre>\n"
      ],
      "text/plain": [
       "┏━━━━━━━━━━━━━━━━━━━━━━━━━━━━━━━━━━━━━━┳━━━━━━━━━━━━━━━━━━━━━━━━━━━━━┳━━━━━━━━━━━━━━━━━┓\n",
       "┃\u001b[1m \u001b[0m\u001b[1mLayer (type)                        \u001b[0m\u001b[1m \u001b[0m┃\u001b[1m \u001b[0m\u001b[1mOutput Shape               \u001b[0m\u001b[1m \u001b[0m┃\u001b[1m \u001b[0m\u001b[1m        Param #\u001b[0m\u001b[1m \u001b[0m┃\n",
       "┡━━━━━━━━━━━━━━━━━━━━━━━━━━━━━━━━━━━━━━╇━━━━━━━━━━━━━━━━━━━━━━━━━━━━━╇━━━━━━━━━━━━━━━━━┩\n",
       "│ conv1d (\u001b[38;5;33mConv1D\u001b[0m)                      │ (\u001b[38;5;45mNone\u001b[0m, \u001b[38;5;34m4\u001b[0m, \u001b[38;5;34m64\u001b[0m)               │             \u001b[38;5;34m192\u001b[0m │\n",
       "├──────────────────────────────────────┼─────────────────────────────┼─────────────────┤\n",
       "│ flatten (\u001b[38;5;33mFlatten\u001b[0m)                    │ (\u001b[38;5;45mNone\u001b[0m, \u001b[38;5;34m256\u001b[0m)                 │               \u001b[38;5;34m0\u001b[0m │\n",
       "├──────────────────────────────────────┼─────────────────────────────┼─────────────────┤\n",
       "│ dense_4 (\u001b[38;5;33mDense\u001b[0m)                      │ (\u001b[38;5;45mNone\u001b[0m, \u001b[38;5;34m8\u001b[0m)                   │           \u001b[38;5;34m2,056\u001b[0m │\n",
       "├──────────────────────────────────────┼─────────────────────────────┼─────────────────┤\n",
       "│ dense_5 (\u001b[38;5;33mDense\u001b[0m)                      │ (\u001b[38;5;45mNone\u001b[0m, \u001b[38;5;34m1\u001b[0m)                   │               \u001b[38;5;34m9\u001b[0m │\n",
       "└──────────────────────────────────────┴─────────────────────────────┴─────────────────┘\n"
      ]
     },
     "metadata": {},
     "output_type": "display_data"
    },
    {
     "data": {
      "text/html": [
       "<pre style=\"white-space:pre;overflow-x:auto;line-height:normal;font-family:Menlo,'DejaVu Sans Mono',consolas,'Courier New',monospace\"><span style=\"font-weight: bold\"> Total params: </span><span style=\"color: #00af00; text-decoration-color: #00af00\">2,257</span> (8.82 KB)\n",
       "</pre>\n"
      ],
      "text/plain": [
       "\u001b[1m Total params: \u001b[0m\u001b[38;5;34m2,257\u001b[0m (8.82 KB)\n"
      ]
     },
     "metadata": {},
     "output_type": "display_data"
    },
    {
     "data": {
      "text/html": [
       "<pre style=\"white-space:pre;overflow-x:auto;line-height:normal;font-family:Menlo,'DejaVu Sans Mono',consolas,'Courier New',monospace\"><span style=\"font-weight: bold\"> Trainable params: </span><span style=\"color: #00af00; text-decoration-color: #00af00\">2,257</span> (8.82 KB)\n",
       "</pre>\n"
      ],
      "text/plain": [
       "\u001b[1m Trainable params: \u001b[0m\u001b[38;5;34m2,257\u001b[0m (8.82 KB)\n"
      ]
     },
     "metadata": {},
     "output_type": "display_data"
    },
    {
     "data": {
      "text/html": [
       "<pre style=\"white-space:pre;overflow-x:auto;line-height:normal;font-family:Menlo,'DejaVu Sans Mono',consolas,'Courier New',monospace\"><span style=\"font-weight: bold\"> Non-trainable params: </span><span style=\"color: #00af00; text-decoration-color: #00af00\">0</span> (0.00 B)\n",
       "</pre>\n"
      ],
      "text/plain": [
       "\u001b[1m Non-trainable params: \u001b[0m\u001b[38;5;34m0\u001b[0m (0.00 B)\n"
      ]
     },
     "metadata": {},
     "output_type": "display_data"
    }
   ],
   "source": [
    "model2 = Sequential()\n",
    "model2.add(InputLayer((5, 1)))\n",
    "model2.add(Conv1D(64, kernel_size=2, activation='relu'))\n",
    "model2.add(Flatten())\n",
    "model2.add(Dense(8, 'relu'))\n",
    "model2.add(Dense(1, 'linear'))\n",
    "model2.summary()"
   ]
  },
  {
   "cell_type": "code",
   "execution_count": 38,
   "id": "f5bccc6e",
   "metadata": {},
   "outputs": [],
   "source": [
    "cp2 = ModelCheckpoint('model2/model2.keras', save_best_only=True)\n",
    "model2.compile(loss=MeanSquaredError(), optimizer=Adam(learning_rate=0.0001), metrics=[RootMeanSquaredError()])"
   ]
  },
  {
   "cell_type": "code",
   "execution_count": 39,
   "id": "1a8f2751",
   "metadata": {},
   "outputs": [
    {
     "name": "stdout",
     "output_type": "stream",
     "text": [
      "Epoch 1/10\n",
      "\u001b[1m1875/1875\u001b[0m \u001b[32m━━━━━━━━━━━━━━━━━━━━\u001b[0m\u001b[37m\u001b[0m \u001b[1m10s\u001b[0m 4ms/step - loss: 57.2974 - root_mean_squared_error: 6.9808 - val_loss: 1.2959 - val_root_mean_squared_error: 1.1384\n",
      "Epoch 2/10\n",
      "\u001b[1m1875/1875\u001b[0m \u001b[32m━━━━━━━━━━━━━━━━━━━━\u001b[0m\u001b[37m\u001b[0m \u001b[1m8s\u001b[0m 4ms/step - loss: 1.5015 - root_mean_squared_error: 1.2239 - val_loss: 0.7856 - val_root_mean_squared_error: 0.8863\n",
      "Epoch 3/10\n",
      "\u001b[1m1875/1875\u001b[0m \u001b[32m━━━━━━━━━━━━━━━━━━━━\u001b[0m\u001b[37m\u001b[0m \u001b[1m8s\u001b[0m 4ms/step - loss: 1.0088 - root_mean_squared_error: 1.0042 - val_loss: 0.6564 - val_root_mean_squared_error: 0.8102\n",
      "Epoch 4/10\n",
      "\u001b[1m1875/1875\u001b[0m \u001b[32m━━━━━━━━━━━━━━━━━━━━\u001b[0m\u001b[37m\u001b[0m \u001b[1m8s\u001b[0m 4ms/step - loss: 0.8115 - root_mean_squared_error: 0.9006 - val_loss: 0.5395 - val_root_mean_squared_error: 0.7345\n",
      "Epoch 5/10\n",
      "\u001b[1m1875/1875\u001b[0m \u001b[32m━━━━━━━━━━━━━━━━━━━━\u001b[0m\u001b[37m\u001b[0m \u001b[1m8s\u001b[0m 4ms/step - loss: 0.7134 - root_mean_squared_error: 0.8446 - val_loss: 0.5098 - val_root_mean_squared_error: 0.7140\n",
      "Epoch 6/10\n",
      "\u001b[1m1875/1875\u001b[0m \u001b[32m━━━━━━━━━━━━━━━━━━━━\u001b[0m\u001b[37m\u001b[0m \u001b[1m8s\u001b[0m 4ms/step - loss: 0.6819 - root_mean_squared_error: 0.8257 - val_loss: 0.5125 - val_root_mean_squared_error: 0.7159\n",
      "Epoch 7/10\n",
      "\u001b[1m1875/1875\u001b[0m \u001b[32m━━━━━━━━━━━━━━━━━━━━\u001b[0m\u001b[37m\u001b[0m \u001b[1m8s\u001b[0m 4ms/step - loss: 0.6734 - root_mean_squared_error: 0.8205 - val_loss: 0.4956 - val_root_mean_squared_error: 0.7040\n",
      "Epoch 8/10\n",
      "\u001b[1m1875/1875\u001b[0m \u001b[32m━━━━━━━━━━━━━━━━━━━━\u001b[0m\u001b[37m\u001b[0m \u001b[1m7s\u001b[0m 4ms/step - loss: 0.6535 - root_mean_squared_error: 0.8083 - val_loss: 0.4973 - val_root_mean_squared_error: 0.7052\n",
      "Epoch 9/10\n",
      "\u001b[1m1875/1875\u001b[0m \u001b[32m━━━━━━━━━━━━━━━━━━━━\u001b[0m\u001b[37m\u001b[0m \u001b[1m8s\u001b[0m 4ms/step - loss: 0.6734 - root_mean_squared_error: 0.8204 - val_loss: 0.4942 - val_root_mean_squared_error: 0.7030\n",
      "Epoch 10/10\n",
      "\u001b[1m1875/1875\u001b[0m \u001b[32m━━━━━━━━━━━━━━━━━━━━\u001b[0m\u001b[37m\u001b[0m \u001b[1m8s\u001b[0m 4ms/step - loss: 0.6603 - root_mean_squared_error: 0.8125 - val_loss: 0.4938 - val_root_mean_squared_error: 0.7027\n"
     ]
    },
    {
     "data": {
      "text/plain": [
       "<keras.src.callbacks.history.History at 0x2a327b3bed0>"
      ]
     },
     "execution_count": 39,
     "metadata": {},
     "output_type": "execute_result"
    }
   ],
   "source": [
    "model2.fit(X_train1, y_train1, validation_data=(X_val1, y_val1), epochs=10, callbacks=[cp2])"
   ]
  },
  {
   "cell_type": "code",
   "execution_count": 40,
   "id": "6cbdd324",
   "metadata": {},
   "outputs": [
    {
     "name": "stdout",
     "output_type": "stream",
     "text": [
      "\u001b[1m159/159\u001b[0m \u001b[32m━━━━━━━━━━━━━━━━━━━━\u001b[0m\u001b[37m\u001b[0m \u001b[1m1s\u001b[0m 4ms/step\n"
     ]
    },
    {
     "data": {
      "text/plain": [
       "(      Predictions  Actuals\n",
       " 0       14.475713    13.99\n",
       " 1       13.343412    13.46\n",
       " 2       12.980897    12.93\n",
       " 3       12.528324    12.43\n",
       " 4       12.077067    12.17\n",
       " ...           ...      ...\n",
       " 5081    -1.084416    -0.98\n",
       " 5082    -1.553733    -1.40\n",
       " 5083    -1.748661    -2.75\n",
       " 5084    -2.993657    -2.89\n",
       " 5085    -3.114424    -3.93\n",
       " \n",
       " [5086 rows x 2 columns],\n",
       " 0.632441295556362)"
      ]
     },
     "execution_count": 40,
     "metadata": {},
     "output_type": "execute_result"
    },
    {
     "data": {
      "image/png": "[encoded data removed]",
      "text/plain": [
       "<Figure size 640x480 with 1 Axes>"
      ]
     },
     "metadata": {},
     "output_type": "display_data"
    }
   ],
   "source": [
    "plot_predictions1(model2, X_test1, y_test1)"
   ]
  },
  {
   "cell_type": "code",
   "execution_count": 41,
   "id": "6a02e981",
   "metadata": {},
   "outputs": [
    {
     "data": {
      "text/html": [
       "<pre style=\"white-space:pre;overflow-x:auto;line-height:normal;font-family:Menlo,'DejaVu Sans Mono',consolas,'Courier New',monospace\"><span style=\"font-weight: bold\">Model: \"sequential_3\"</span>\n",
       "</pre>\n"
      ],
      "text/plain": [
       "\u001b[1mModel: \"sequential_3\"\u001b[0m\n"
      ]
     },
     "metadata": {},
     "output_type": "display_data"
    },
    {
     "data": {
      "text/html": [
       "<pre style=\"white-space:pre;overflow-x:auto;line-height:normal;font-family:Menlo,'DejaVu Sans Mono',consolas,'Courier New',monospace\">┏━━━━━━━━━━━━━━━━━━━━━━━━━━━━━━━━━━━━━━┳━━━━━━━━━━━━━━━━━━━━━━━━━━━━━┳━━━━━━━━━━━━━━━━━┓\n",
       "┃<span style=\"font-weight: bold\"> Layer (type)                         </span>┃<span style=\"font-weight: bold\"> Output Shape                </span>┃<span style=\"font-weight: bold\">         Param # </span>┃\n",
       "┡━━━━━━━━━━━━━━━━━━━━━━━━━━━━━━━━━━━━━━╇━━━━━━━━━━━━━━━━━━━━━━━━━━━━━╇━━━━━━━━━━━━━━━━━┩\n",
       "│ gru (<span style=\"color: #0087ff; text-decoration-color: #0087ff\">GRU</span>)                            │ (<span style=\"color: #00d7ff; text-decoration-color: #00d7ff\">None</span>, <span style=\"color: #00af00; text-decoration-color: #00af00\">64</span>)                  │          <span style=\"color: #00af00; text-decoration-color: #00af00\">12,864</span> │\n",
       "├──────────────────────────────────────┼─────────────────────────────┼─────────────────┤\n",
       "│ dense_6 (<span style=\"color: #0087ff; text-decoration-color: #0087ff\">Dense</span>)                      │ (<span style=\"color: #00d7ff; text-decoration-color: #00d7ff\">None</span>, <span style=\"color: #00af00; text-decoration-color: #00af00\">8</span>)                   │             <span style=\"color: #00af00; text-decoration-color: #00af00\">520</span> │\n",
       "├──────────────────────────────────────┼─────────────────────────────┼─────────────────┤\n",
       "│ dense_7 (<span style=\"color: #0087ff; text-decoration-color: #0087ff\">Dense</span>)                      │ (<span style=\"color: #00d7ff; text-decoration-color: #00d7ff\">None</span>, <span style=\"color: #00af00; text-decoration-color: #00af00\">1</span>)                   │               <span style=\"color: #00af00; text-decoration-color: #00af00\">9</span> │\n",
       "└──────────────────────────────────────┴─────────────────────────────┴─────────────────┘\n",
       "</pre>\n"
      ],
      "text/plain": [
       "┏━━━━━━━━━━━━━━━━━━━━━━━━━━━━━━━━━━━━━━┳━━━━━━━━━━━━━━━━━━━━━━━━━━━━━┳━━━━━━━━━━━━━━━━━┓\n",
       "┃\u001b[1m \u001b[0m\u001b[1mLayer (type)                        \u001b[0m\u001b[1m \u001b[0m┃\u001b[1m \u001b[0m\u001b[1mOutput Shape               \u001b[0m\u001b[1m \u001b[0m┃\u001b[1m \u001b[0m\u001b[1m        Param #\u001b[0m\u001b[1m \u001b[0m┃\n",
       "┡━━━━━━━━━━━━━━━━━━━━━━━━━━━━━━━━━━━━━━╇━━━━━━━━━━━━━━━━━━━━━━━━━━━━━╇━━━━━━━━━━━━━━━━━┩\n",
       "│ gru (\u001b[38;5;33mGRU\u001b[0m)                            │ (\u001b[38;5;45mNone\u001b[0m, \u001b[38;5;34m64\u001b[0m)                  │          \u001b[38;5;34m12,864\u001b[0m │\n",
       "├──────────────────────────────────────┼─────────────────────────────┼─────────────────┤\n",
       "│ dense_6 (\u001b[38;5;33mDense\u001b[0m)                      │ (\u001b[38;5;45mNone\u001b[0m, \u001b[38;5;34m8\u001b[0m)                   │             \u001b[38;5;34m520\u001b[0m │\n",
       "├──────────────────────────────────────┼─────────────────────────────┼─────────────────┤\n",
       "│ dense_7 (\u001b[38;5;33mDense\u001b[0m)                      │ (\u001b[38;5;45mNone\u001b[0m, \u001b[38;5;34m1\u001b[0m)                   │               \u001b[38;5;34m9\u001b[0m │\n",
       "└──────────────────────────────────────┴─────────────────────────────┴─────────────────┘\n"
      ]
     },
     "metadata": {},
     "output_type": "display_data"
    },
    {
     "data": {
      "text/html": [
       "<pre style=\"white-space:pre;overflow-x:auto;line-height:normal;font-family:Menlo,'DejaVu Sans Mono',consolas,'Courier New',monospace\"><span style=\"font-weight: bold\"> Total params: </span><span style=\"color: #00af00; text-decoration-color: #00af00\">13,393</span> (52.32 KB)\n",
       "</pre>\n"
      ],
      "text/plain": [
       "\u001b[1m Total params: \u001b[0m\u001b[38;5;34m13,393\u001b[0m (52.32 KB)\n"
      ]
     },
     "metadata": {},
     "output_type": "display_data"
    },
    {
     "data": {
      "text/html": [
       "<pre style=\"white-space:pre;overflow-x:auto;line-height:normal;font-family:Menlo,'DejaVu Sans Mono',consolas,'Courier New',monospace\"><span style=\"font-weight: bold\"> Trainable params: </span><span style=\"color: #00af00; text-decoration-color: #00af00\">13,393</span> (52.32 KB)\n",
       "</pre>\n"
      ],
      "text/plain": [
       "\u001b[1m Trainable params: \u001b[0m\u001b[38;5;34m13,393\u001b[0m (52.32 KB)\n"
      ]
     },
     "metadata": {},
     "output_type": "display_data"
    },
    {
     "data": {
      "text/html": [
       "<pre style=\"white-space:pre;overflow-x:auto;line-height:normal;font-family:Menlo,'DejaVu Sans Mono',consolas,'Courier New',monospace\"><span style=\"font-weight: bold\"> Non-trainable params: </span><span style=\"color: #00af00; text-decoration-color: #00af00\">0</span> (0.00 B)\n",
       "</pre>\n"
      ],
      "text/plain": [
       "\u001b[1m Non-trainable params: \u001b[0m\u001b[38;5;34m0\u001b[0m (0.00 B)\n"
      ]
     },
     "metadata": {},
     "output_type": "display_data"
    }
   ],
   "source": [
    "model3 = Sequential()\n",
    "model3.add(InputLayer((5, 1)))\n",
    "model3.add(GRU(64))\n",
    "model3.add(Dense(8, 'relu'))\n",
    "model3.add(Dense(1, 'linear'))\n",
    "model3.summary()"
   ]
  },
  {
   "cell_type": "code",
   "execution_count": 44,
   "id": "4f366302",
   "metadata": {},
   "outputs": [],
   "source": [
    "cp3 = ModelCheckpoint('model3/model3.keras', save_best_only=True)\n",
    "model3.compile(loss=MeanSquaredError(), optimizer=Adam(learning_rate=0.0001), metrics=[RootMeanSquaredError()])"
   ]
  },
  {
   "cell_type": "code",
   "execution_count": 45,
   "id": "91276634",
   "metadata": {},
   "outputs": [
    {
     "name": "stdout",
     "output_type": "stream",
     "text": [
      "Epoch 1/10\n",
      "\u001b[1m1875/1875\u001b[0m \u001b[32m━━━━━━━━━━━━━━━━━━━━\u001b[0m\u001b[37m\u001b[0m \u001b[1m15s\u001b[0m 6ms/step - loss: 77.7787 - root_mean_squared_error: 8.5785 - val_loss: 1.0276 - val_root_mean_squared_error: 1.0137\n",
      "Epoch 2/10\n",
      "\u001b[1m1875/1875\u001b[0m \u001b[32m━━━━━━━━━━━━━━━━━━━━\u001b[0m\u001b[37m\u001b[0m \u001b[1m10s\u001b[0m 5ms/step - loss: 2.5365 - root_mean_squared_error: 1.5835 - val_loss: 0.6057 - val_root_mean_squared_error: 0.7783\n",
      "Epoch 3/10\n",
      "\u001b[1m1875/1875\u001b[0m \u001b[32m━━━━━━━━━━━━━━━━━━━━\u001b[0m\u001b[37m\u001b[0m \u001b[1m10s\u001b[0m 5ms/step - loss: 0.9754 - root_mean_squared_error: 0.9869 - val_loss: 0.5332 - val_root_mean_squared_error: 0.7302\n",
      "Epoch 4/10\n",
      "\u001b[1m1875/1875\u001b[0m \u001b[32m━━━━━━━━━━━━━━━━━━━━\u001b[0m\u001b[37m\u001b[0m \u001b[1m10s\u001b[0m 5ms/step - loss: 0.7190 - root_mean_squared_error: 0.8479 - val_loss: 0.5117 - val_root_mean_squared_error: 0.7153\n",
      "Epoch 5/10\n",
      "\u001b[1m1875/1875\u001b[0m \u001b[32m━━━━━━━━━━━━━━━━━━━━\u001b[0m\u001b[37m\u001b[0m \u001b[1m10s\u001b[0m 5ms/step - loss: 0.6839 - root_mean_squared_error: 0.8269 - val_loss: 0.5017 - val_root_mean_squared_error: 0.7083\n",
      "Epoch 6/10\n",
      "\u001b[1m1875/1875\u001b[0m \u001b[32m━━━━━━━━━━━━━━━━━━━━\u001b[0m\u001b[37m\u001b[0m \u001b[1m10s\u001b[0m 5ms/step - loss: 0.6572 - root_mean_squared_error: 0.8105 - val_loss: 0.5012 - val_root_mean_squared_error: 0.7080\n",
      "Epoch 7/10\n",
      "\u001b[1m1875/1875\u001b[0m \u001b[32m━━━━━━━━━━━━━━━━━━━━\u001b[0m\u001b[37m\u001b[0m \u001b[1m10s\u001b[0m 5ms/step - loss: 0.6436 - root_mean_squared_error: 0.8019 - val_loss: 0.4918 - val_root_mean_squared_error: 0.7013\n",
      "Epoch 8/10\n",
      "\u001b[1m1875/1875\u001b[0m \u001b[32m━━━━━━━━━━━━━━━━━━━━\u001b[0m\u001b[37m\u001b[0m \u001b[1m10s\u001b[0m 5ms/step - loss: 0.6437 - root_mean_squared_error: 0.8023 - val_loss: 0.4989 - val_root_mean_squared_error: 0.7063\n",
      "Epoch 9/10\n",
      "\u001b[1m1875/1875\u001b[0m \u001b[32m━━━━━━━━━━━━━━━━━━━━\u001b[0m\u001b[37m\u001b[0m \u001b[1m10s\u001b[0m 5ms/step - loss: 0.6449 - root_mean_squared_error: 0.8029 - val_loss: 0.4949 - val_root_mean_squared_error: 0.7035\n",
      "Epoch 10/10\n",
      "\u001b[1m1875/1875\u001b[0m \u001b[32m━━━━━━━━━━━━━━━━━━━━\u001b[0m\u001b[37m\u001b[0m \u001b[1m10s\u001b[0m 5ms/step - loss: 0.6387 - root_mean_squared_error: 0.7991 - val_loss: 0.4908 - val_root_mean_squared_error: 0.7006\n"
     ]
    },
    {
     "data": {
      "text/plain": [
       "<keras.src.callbacks.history.History at 0x2a32d78e490>"
      ]
     },
     "execution_count": 45,
     "metadata": {},
     "output_type": "execute_result"
    }
   ],
   "source": [
    "model3.fit(X_train1, y_train1, validation_data=(X_val1, y_val1), epochs=10, callbacks=[cp3])"
   ]
  },
  {
   "cell_type": "code",
   "execution_count": 46,
   "id": "36e9f25a",
   "metadata": {},
   "outputs": [
    {
     "data": {
      "text/plain": [
       "Date Time\n",
       "2009-01-01 01:00:00   -8.05\n",
       "2009-01-01 02:00:00   -8.88\n",
       "2009-01-01 03:00:00   -8.81\n",
       "2009-01-01 04:00:00   -9.05\n",
       "2009-01-01 05:00:00   -9.63\n",
       "                       ... \n",
       "2016-12-31 19:10:00   -0.98\n",
       "2016-12-31 20:10:00   -1.40\n",
       "2016-12-31 21:10:00   -2.75\n",
       "2016-12-31 22:10:00   -2.89\n",
       "2016-12-31 23:10:00   -3.93\n",
       "Name: T (degC), Length: 70091, dtype: float64"
      ]
     },
     "execution_count": 46,
     "metadata": {},
     "output_type": "execute_result"
    }
   ],
   "source": [
    "temp"
   ]
  },
  {
   "cell_type": "code",
   "execution_count": 47,
   "id": "343686fb",
   "metadata": {},
   "outputs": [
    {
     "data": {
      "text/html": [
       "<div>\n",
       "<style scoped>\n",
       "    .dataframe tbody tr th:only-of-type {\n",
       "        vertical-align: middle;\n",
       "    }\n",
       "\n",
       "    .dataframe tbody tr th {\n",
       "        vertical-align: top;\n",
       "    }\n",
       "\n",
       "    .dataframe thead th {\n",
       "        text-align: right;\n",
       "    }\n",
       "</style>\n",
       "<table border=\"1\" class=\"dataframe\">\n",
       "  <thead>\n",
       "    <tr style=\"text-align: right;\">\n",
       "      <th></th>\n",
       "      <th>Temperature</th>\n",
       "      <th>Seconds</th>\n",
       "    </tr>\n",
       "    <tr>\n",
       "      <th>Date Time</th>\n",
       "      <th></th>\n",
       "      <th></th>\n",
       "    </tr>\n",
       "  </thead>\n",
       "  <tbody>\n",
       "    <tr>\n",
       "      <th>2009-01-01 01:00:00</th>\n",
       "      <td>-8.05</td>\n",
       "      <td>1.230772e+09</td>\n",
       "    </tr>\n",
       "    <tr>\n",
       "      <th>2009-01-01 02:00:00</th>\n",
       "      <td>-8.88</td>\n",
       "      <td>1.230775e+09</td>\n",
       "    </tr>\n",
       "    <tr>\n",
       "      <th>2009-01-01 03:00:00</th>\n",
       "      <td>-8.81</td>\n",
       "      <td>1.230779e+09</td>\n",
       "    </tr>\n",
       "    <tr>\n",
       "      <th>2009-01-01 04:00:00</th>\n",
       "      <td>-9.05</td>\n",
       "      <td>1.230782e+09</td>\n",
       "    </tr>\n",
       "    <tr>\n",
       "      <th>2009-01-01 05:00:00</th>\n",
       "      <td>-9.63</td>\n",
       "      <td>1.230786e+09</td>\n",
       "    </tr>\n",
       "    <tr>\n",
       "      <th>...</th>\n",
       "      <td>...</td>\n",
       "      <td>...</td>\n",
       "    </tr>\n",
       "    <tr>\n",
       "      <th>2016-12-31 19:10:00</th>\n",
       "      <td>-0.98</td>\n",
       "      <td>1.483211e+09</td>\n",
       "    </tr>\n",
       "    <tr>\n",
       "      <th>2016-12-31 20:10:00</th>\n",
       "      <td>-1.40</td>\n",
       "      <td>1.483215e+09</td>\n",
       "    </tr>\n",
       "    <tr>\n",
       "      <th>2016-12-31 21:10:00</th>\n",
       "      <td>-2.75</td>\n",
       "      <td>1.483219e+09</td>\n",
       "    </tr>\n",
       "    <tr>\n",
       "      <th>2016-12-31 22:10:00</th>\n",
       "      <td>-2.89</td>\n",
       "      <td>1.483222e+09</td>\n",
       "    </tr>\n",
       "    <tr>\n",
       "      <th>2016-12-31 23:10:00</th>\n",
       "      <td>-3.93</td>\n",
       "      <td>1.483226e+09</td>\n",
       "    </tr>\n",
       "  </tbody>\n",
       "</table>\n",
       "<p>70091 rows × 2 columns</p>\n",
       "</div>"
      ],
      "text/plain": [
       "                     Temperature       Seconds\n",
       "Date Time                                     \n",
       "2009-01-01 01:00:00        -8.05  1.230772e+09\n",
       "2009-01-01 02:00:00        -8.88  1.230775e+09\n",
       "2009-01-01 03:00:00        -8.81  1.230779e+09\n",
       "2009-01-01 04:00:00        -9.05  1.230782e+09\n",
       "2009-01-01 05:00:00        -9.63  1.230786e+09\n",
       "...                          ...           ...\n",
       "2016-12-31 19:10:00        -0.98  1.483211e+09\n",
       "2016-12-31 20:10:00        -1.40  1.483215e+09\n",
       "2016-12-31 21:10:00        -2.75  1.483219e+09\n",
       "2016-12-31 22:10:00        -2.89  1.483222e+09\n",
       "2016-12-31 23:10:00        -3.93  1.483226e+09\n",
       "\n",
       "[70091 rows x 2 columns]"
      ]
     },
     "execution_count": 47,
     "metadata": {},
     "output_type": "execute_result"
    }
   ],
   "source": [
    "temp_df = pd.DataFrame({'Temperature':temp})\n",
    "temp_df['Seconds'] = temp_df.index.map(pd.Timestamp.timestamp)\n",
    "temp_df"
   ]
  },
  {
   "cell_type": "code",
   "execution_count": 48,
   "id": "87c647f6",
   "metadata": {},
   "outputs": [
    {
     "data": {
      "text/html": [
       "<div>\n",
       "<style scoped>\n",
       "    .dataframe tbody tr th:only-of-type {\n",
       "        vertical-align: middle;\n",
       "    }\n",
       "\n",
       "    .dataframe tbody tr th {\n",
       "        vertical-align: top;\n",
       "    }\n",
       "\n",
       "    .dataframe thead th {\n",
       "        text-align: right;\n",
       "    }\n",
       "</style>\n",
       "<table border=\"1\" class=\"dataframe\">\n",
       "  <thead>\n",
       "    <tr style=\"text-align: right;\">\n",
       "      <th></th>\n",
       "      <th>Temperature</th>\n",
       "      <th>Seconds</th>\n",
       "      <th>Day sin</th>\n",
       "      <th>Day cos</th>\n",
       "      <th>Year sin</th>\n",
       "      <th>Year cos</th>\n",
       "    </tr>\n",
       "    <tr>\n",
       "      <th>Date Time</th>\n",
       "      <th></th>\n",
       "      <th></th>\n",
       "      <th></th>\n",
       "      <th></th>\n",
       "      <th></th>\n",
       "      <th></th>\n",
       "    </tr>\n",
       "  </thead>\n",
       "  <tbody>\n",
       "    <tr>\n",
       "      <th>2009-01-01 01:00:00</th>\n",
       "      <td>-8.05</td>\n",
       "      <td>1.230772e+09</td>\n",
       "      <td>0.258819</td>\n",
       "      <td>0.965926</td>\n",
       "      <td>0.010049</td>\n",
       "      <td>0.999950</td>\n",
       "    </tr>\n",
       "    <tr>\n",
       "      <th>2009-01-01 02:00:00</th>\n",
       "      <td>-8.88</td>\n",
       "      <td>1.230775e+09</td>\n",
       "      <td>0.500000</td>\n",
       "      <td>0.866025</td>\n",
       "      <td>0.010766</td>\n",
       "      <td>0.999942</td>\n",
       "    </tr>\n",
       "    <tr>\n",
       "      <th>2009-01-01 03:00:00</th>\n",
       "      <td>-8.81</td>\n",
       "      <td>1.230779e+09</td>\n",
       "      <td>0.707107</td>\n",
       "      <td>0.707107</td>\n",
       "      <td>0.011483</td>\n",
       "      <td>0.999934</td>\n",
       "    </tr>\n",
       "    <tr>\n",
       "      <th>2009-01-01 04:00:00</th>\n",
       "      <td>-9.05</td>\n",
       "      <td>1.230782e+09</td>\n",
       "      <td>0.866025</td>\n",
       "      <td>0.500000</td>\n",
       "      <td>0.012199</td>\n",
       "      <td>0.999926</td>\n",
       "    </tr>\n",
       "    <tr>\n",
       "      <th>2009-01-01 05:00:00</th>\n",
       "      <td>-9.63</td>\n",
       "      <td>1.230786e+09</td>\n",
       "      <td>0.965926</td>\n",
       "      <td>0.258819</td>\n",
       "      <td>0.012916</td>\n",
       "      <td>0.999917</td>\n",
       "    </tr>\n",
       "    <tr>\n",
       "      <th>...</th>\n",
       "      <td>...</td>\n",
       "      <td>...</td>\n",
       "      <td>...</td>\n",
       "      <td>...</td>\n",
       "      <td>...</td>\n",
       "      <td>...</td>\n",
       "    </tr>\n",
       "    <tr>\n",
       "      <th>2016-12-31 19:10:00</th>\n",
       "      <td>-0.98</td>\n",
       "      <td>1.483211e+09</td>\n",
       "      <td>-0.953717</td>\n",
       "      <td>0.300706</td>\n",
       "      <td>0.006900</td>\n",
       "      <td>0.999976</td>\n",
       "    </tr>\n",
       "    <tr>\n",
       "      <th>2016-12-31 20:10:00</th>\n",
       "      <td>-1.40</td>\n",
       "      <td>1.483215e+09</td>\n",
       "      <td>-0.843391</td>\n",
       "      <td>0.537300</td>\n",
       "      <td>0.007617</td>\n",
       "      <td>0.999971</td>\n",
       "    </tr>\n",
       "    <tr>\n",
       "      <th>2016-12-31 21:10:00</th>\n",
       "      <td>-2.75</td>\n",
       "      <td>1.483219e+09</td>\n",
       "      <td>-0.675590</td>\n",
       "      <td>0.737277</td>\n",
       "      <td>0.008334</td>\n",
       "      <td>0.999965</td>\n",
       "    </tr>\n",
       "    <tr>\n",
       "      <th>2016-12-31 22:10:00</th>\n",
       "      <td>-2.89</td>\n",
       "      <td>1.483222e+09</td>\n",
       "      <td>-0.461749</td>\n",
       "      <td>0.887011</td>\n",
       "      <td>0.009050</td>\n",
       "      <td>0.999959</td>\n",
       "    </tr>\n",
       "    <tr>\n",
       "      <th>2016-12-31 23:10:00</th>\n",
       "      <td>-3.93</td>\n",
       "      <td>1.483226e+09</td>\n",
       "      <td>-0.216440</td>\n",
       "      <td>0.976296</td>\n",
       "      <td>0.009767</td>\n",
       "      <td>0.999952</td>\n",
       "    </tr>\n",
       "  </tbody>\n",
       "</table>\n",
       "<p>70091 rows × 6 columns</p>\n",
       "</div>"
      ],
      "text/plain": [
       "                     Temperature       Seconds   Day sin   Day cos  Year sin  \\\n",
       "Date Time                                                                      \n",
       "2009-01-01 01:00:00        -8.05  1.230772e+09  0.258819  0.965926  0.010049   \n",
       "2009-01-01 02:00:00        -8.88  1.230775e+09  0.500000  0.866025  0.010766   \n",
       "2009-01-01 03:00:00        -8.81  1.230779e+09  0.707107  0.707107  0.011483   \n",
       "2009-01-01 04:00:00        -9.05  1.230782e+09  0.866025  0.500000  0.012199   \n",
       "2009-01-01 05:00:00        -9.63  1.230786e+09  0.965926  0.258819  0.012916   \n",
       "...                          ...           ...       ...       ...       ...   \n",
       "2016-12-31 19:10:00        -0.98  1.483211e+09 -0.953717  0.300706  0.006900   \n",
       "2016-12-31 20:10:00        -1.40  1.483215e+09 -0.843391  0.537300  0.007617   \n",
       "2016-12-31 21:10:00        -2.75  1.483219e+09 -0.675590  0.737277  0.008334   \n",
       "2016-12-31 22:10:00        -2.89  1.483222e+09 -0.461749  0.887011  0.009050   \n",
       "2016-12-31 23:10:00        -3.93  1.483226e+09 -0.216440  0.976296  0.009767   \n",
       "\n",
       "                     Year cos  \n",
       "Date Time                      \n",
       "2009-01-01 01:00:00  0.999950  \n",
       "2009-01-01 02:00:00  0.999942  \n",
       "2009-01-01 03:00:00  0.999934  \n",
       "2009-01-01 04:00:00  0.999926  \n",
       "2009-01-01 05:00:00  0.999917  \n",
       "...                       ...  \n",
       "2016-12-31 19:10:00  0.999976  \n",
       "2016-12-31 20:10:00  0.999971  \n",
       "2016-12-31 21:10:00  0.999965  \n",
       "2016-12-31 22:10:00  0.999959  \n",
       "2016-12-31 23:10:00  0.999952  \n",
       "\n",
       "[70091 rows x 6 columns]"
      ]
     },
     "execution_count": 48,
     "metadata": {},
     "output_type": "execute_result"
    }
   ],
   "source": [
    "day = 24*60*60\n",
    "year = (365.2425)*day\n",
    "temp_df['Day sin'] = np.sin(temp_df['Seconds'] * (2 * np.pi / day))\n",
    "temp_df['Day cos'] = np.cos(temp_df['Seconds'] * (2 * np.pi / day))\n",
    "temp_df['Year sin'] = np.sin(temp_df['Seconds'] * (2 * np.pi / year))\n",
    "temp_df['Year cos'] = np.cos(temp_df['Seconds'] * (2 * np.pi / year))\n",
    "temp_df"
   ]
  },
  {
   "cell_type": "code",
   "execution_count": 49,
   "id": "54c95b97",
   "metadata": {},
   "outputs": [
    {
     "data": {
      "text/html": [
       "<div>\n",
       "<style scoped>\n",
       "    .dataframe tbody tr th:only-of-type {\n",
       "        vertical-align: middle;\n",
       "    }\n",
       "\n",
       "    .dataframe tbody tr th {\n",
       "        vertical-align: top;\n",
       "    }\n",
       "\n",
       "    .dataframe thead th {\n",
       "        text-align: right;\n",
       "    }\n",
       "</style>\n",
       "<table border=\"1\" class=\"dataframe\">\n",
       "  <thead>\n",
       "    <tr style=\"text-align: right;\">\n",
       "      <th></th>\n",
       "      <th>Temperature</th>\n",
       "      <th>Day sin</th>\n",
       "      <th>Day cos</th>\n",
       "      <th>Year sin</th>\n",
       "      <th>Year cos</th>\n",
       "    </tr>\n",
       "    <tr>\n",
       "      <th>Date Time</th>\n",
       "      <th></th>\n",
       "      <th></th>\n",
       "      <th></th>\n",
       "      <th></th>\n",
       "      <th></th>\n",
       "    </tr>\n",
       "  </thead>\n",
       "  <tbody>\n",
       "    <tr>\n",
       "      <th>2009-01-01 01:00:00</th>\n",
       "      <td>-8.05</td>\n",
       "      <td>0.258819</td>\n",
       "      <td>0.965926</td>\n",
       "      <td>0.010049</td>\n",
       "      <td>0.999950</td>\n",
       "    </tr>\n",
       "    <tr>\n",
       "      <th>2009-01-01 02:00:00</th>\n",
       "      <td>-8.88</td>\n",
       "      <td>0.500000</td>\n",
       "      <td>0.866025</td>\n",
       "      <td>0.010766</td>\n",
       "      <td>0.999942</td>\n",
       "    </tr>\n",
       "    <tr>\n",
       "      <th>2009-01-01 03:00:00</th>\n",
       "      <td>-8.81</td>\n",
       "      <td>0.707107</td>\n",
       "      <td>0.707107</td>\n",
       "      <td>0.011483</td>\n",
       "      <td>0.999934</td>\n",
       "    </tr>\n",
       "    <tr>\n",
       "      <th>2009-01-01 04:00:00</th>\n",
       "      <td>-9.05</td>\n",
       "      <td>0.866025</td>\n",
       "      <td>0.500000</td>\n",
       "      <td>0.012199</td>\n",
       "      <td>0.999926</td>\n",
       "    </tr>\n",
       "    <tr>\n",
       "      <th>2009-01-01 05:00:00</th>\n",
       "      <td>-9.63</td>\n",
       "      <td>0.965926</td>\n",
       "      <td>0.258819</td>\n",
       "      <td>0.012916</td>\n",
       "      <td>0.999917</td>\n",
       "    </tr>\n",
       "    <tr>\n",
       "      <th>...</th>\n",
       "      <td>...</td>\n",
       "      <td>...</td>\n",
       "      <td>...</td>\n",
       "      <td>...</td>\n",
       "      <td>...</td>\n",
       "    </tr>\n",
       "    <tr>\n",
       "      <th>2016-12-31 19:10:00</th>\n",
       "      <td>-0.98</td>\n",
       "      <td>-0.953717</td>\n",
       "      <td>0.300706</td>\n",
       "      <td>0.006900</td>\n",
       "      <td>0.999976</td>\n",
       "    </tr>\n",
       "    <tr>\n",
       "      <th>2016-12-31 20:10:00</th>\n",
       "      <td>-1.40</td>\n",
       "      <td>-0.843391</td>\n",
       "      <td>0.537300</td>\n",
       "      <td>0.007617</td>\n",
       "      <td>0.999971</td>\n",
       "    </tr>\n",
       "    <tr>\n",
       "      <th>2016-12-31 21:10:00</th>\n",
       "      <td>-2.75</td>\n",
       "      <td>-0.675590</td>\n",
       "      <td>0.737277</td>\n",
       "      <td>0.008334</td>\n",
       "      <td>0.999965</td>\n",
       "    </tr>\n",
       "    <tr>\n",
       "      <th>2016-12-31 22:10:00</th>\n",
       "      <td>-2.89</td>\n",
       "      <td>-0.461749</td>\n",
       "      <td>0.887011</td>\n",
       "      <td>0.009050</td>\n",
       "      <td>0.999959</td>\n",
       "    </tr>\n",
       "    <tr>\n",
       "      <th>2016-12-31 23:10:00</th>\n",
       "      <td>-3.93</td>\n",
       "      <td>-0.216440</td>\n",
       "      <td>0.976296</td>\n",
       "      <td>0.009767</td>\n",
       "      <td>0.999952</td>\n",
       "    </tr>\n",
       "  </tbody>\n",
       "</table>\n",
       "<p>70091 rows × 5 columns</p>\n",
       "</div>"
      ],
      "text/plain": [
       "                     Temperature   Day sin   Day cos  Year sin  Year cos\n",
       "Date Time                                                               \n",
       "2009-01-01 01:00:00        -8.05  0.258819  0.965926  0.010049  0.999950\n",
       "2009-01-01 02:00:00        -8.88  0.500000  0.866025  0.010766  0.999942\n",
       "2009-01-01 03:00:00        -8.81  0.707107  0.707107  0.011483  0.999934\n",
       "2009-01-01 04:00:00        -9.05  0.866025  0.500000  0.012199  0.999926\n",
       "2009-01-01 05:00:00        -9.63  0.965926  0.258819  0.012916  0.999917\n",
       "...                          ...       ...       ...       ...       ...\n",
       "2016-12-31 19:10:00        -0.98 -0.953717  0.300706  0.006900  0.999976\n",
       "2016-12-31 20:10:00        -1.40 -0.843391  0.537300  0.007617  0.999971\n",
       "2016-12-31 21:10:00        -2.75 -0.675590  0.737277  0.008334  0.999965\n",
       "2016-12-31 22:10:00        -2.89 -0.461749  0.887011  0.009050  0.999959\n",
       "2016-12-31 23:10:00        -3.93 -0.216440  0.976296  0.009767  0.999952\n",
       "\n",
       "[70091 rows x 5 columns]"
      ]
     },
     "execution_count": 49,
     "metadata": {},
     "output_type": "execute_result"
    }
   ],
   "source": [
    "temp_df = temp_df.drop('Seconds', axis=1)\n",
    "temp_df"
   ]
  },
  {
   "cell_type": "code",
   "execution_count": 51,
   "id": "2659c64e",
   "metadata": {},
   "outputs": [],
   "source": [
    "def df_to_X_y2(df, window_size=6):\n",
    "    df_as_np = df.to_numpy()\n",
    "    X = []\n",
    "    y = []\n",
    "    for i in range(len(df_as_np)-window_size):\n",
    "        row = [r for r in df_as_np[i:i+window_size]]\n",
    "        X.append(row)\n",
    "        label = df_as_np[i+window_size][0]\n",
    "        y.append(label)\n",
    "    return np.array(X), np.array(y)"
   ]
  },
  {
   "cell_type": "code",
   "execution_count": 52,
   "id": "4a05e27d",
   "metadata": {},
   "outputs": [
    {
     "data": {
      "text/plain": [
       "((70085, 6, 5), (70085,))"
      ]
     },
     "execution_count": 52,
     "metadata": {},
     "output_type": "execute_result"
    }
   ],
   "source": [
    "X2, y2 = df_to_X_y2(temp_df)\n",
    "X2.shape, y2.shape"
   ]
  },
  {
   "cell_type": "code",
   "execution_count": 53,
   "id": "2c74aaf2",
   "metadata": {},
   "outputs": [
    {
     "data": {
      "text/plain": [
       "((60000, 6, 5), (60000,), (5000, 6, 5), (5000,), (5085, 6, 5), (5085,))"
      ]
     },
     "execution_count": 53,
     "metadata": {},
     "output_type": "execute_result"
    }
   ],
   "source": [
    "X2_train, y2_train = X2[:60000], y2[:60000]\n",
    "X2_val, y2_val = X2[60000:65000], y2[60000:65000]\n",
    "X2_test, y2_test = X2[65000:], y2[65000:]\n",
    "X2_train.shape, y2_train.shape, X2_val.shape, y2_val.shape, X2_test.shape, y2_test.shape"
   ]
  },
  {
   "cell_type": "code",
   "execution_count": 54,
   "id": "37dd8be5",
   "metadata": {},
   "outputs": [],
   "source": [
    "temp_training_mean = np.mean(X2_train[:, :, 0])\n",
    "temp_training_std = np.std(X2_train[:, :, 0])\n",
    "\n",
    "def preprocess(X):\n",
    "    X[:, :, 0] = (X[:, :, 0] - temp_training_mean) / temp_training_std \n",
    "    return X"
   ]
  },
  {
   "cell_type": "code",
   "execution_count": 55,
   "id": "045e214d",
   "metadata": {},
   "outputs": [
    {
     "data": {
      "text/plain": [
       "array([[[ 1.04009706e+00, -9.65925826e-01,  2.58819045e-01,\n",
       "          5.22877889e-01, -8.52407598e-01],\n",
       "        [ 9.90732794e-01, -8.66025404e-01,  5.00000000e-01,\n",
       "          5.22266764e-01, -8.52782169e-01],\n",
       "        [ 8.49692028e-01, -7.07106781e-01,  7.07106781e-01,\n",
       "          5.21655371e-01, -8.53156301e-01],\n",
       "        [ 7.55664851e-01, -5.00000000e-01,  8.66025404e-01,\n",
       "          5.21043709e-01, -8.53529995e-01],\n",
       "        [ 6.66339032e-01, -2.58819045e-01,  9.65925826e-01,\n",
       "          5.20431780e-01, -8.53903251e-01],\n",
       "        [ 5.37051663e-01, -7.16474371e-12,  1.00000000e+00,\n",
       "          5.19819584e-01, -8.54276068e-01]],\n",
       "\n",
       "       [[ 9.90732794e-01, -8.66025404e-01,  5.00000000e-01,\n",
       "          5.22266764e-01, -8.52782169e-01],\n",
       "        [ 8.49692028e-01, -7.07106781e-01,  7.07106781e-01,\n",
       "          5.21655371e-01, -8.53156301e-01],\n",
       "        [ 7.55664851e-01, -5.00000000e-01,  8.66025404e-01,\n",
       "          5.21043709e-01, -8.53529995e-01],\n",
       "        [ 6.66339032e-01, -2.58819045e-01,  9.65925826e-01,\n",
       "          5.20431780e-01, -8.53903251e-01],\n",
       "        [ 5.37051663e-01, -7.16474371e-12,  1.00000000e+00,\n",
       "          5.19819584e-01, -8.54276068e-01],\n",
       "        [ 4.74758658e-01,  2.58819045e-01,  9.65925826e-01,\n",
       "          5.19207120e-01, -8.54648446e-01]],\n",
       "\n",
       "       [[ 8.49692028e-01, -7.07106781e-01,  7.07106781e-01,\n",
       "          5.21655371e-01, -8.53156301e-01],\n",
       "        [ 7.55664851e-01, -5.00000000e-01,  8.66025404e-01,\n",
       "          5.21043709e-01, -8.53529995e-01],\n",
       "        [ 6.66339032e-01, -2.58819045e-01,  9.65925826e-01,\n",
       "          5.20431780e-01, -8.53903251e-01],\n",
       "        [ 5.37051663e-01, -7.16474371e-12,  1.00000000e+00,\n",
       "          5.19819584e-01, -8.54276068e-01],\n",
       "        [ 4.74758658e-01,  2.58819045e-01,  9.65925826e-01,\n",
       "          5.19207120e-01, -8.54648446e-01],\n",
       "        [ 4.12465653e-01,  5.00000000e-01,  8.66025404e-01,\n",
       "          5.18594390e-01, -8.55020385e-01]],\n",
       "\n",
       "       ...,\n",
       "\n",
       "       [[-5.23104762e-01, -7.37277337e-01, -6.75590208e-01,\n",
       "          4.03308458e-03,  9.99991867e-01],\n",
       "        [-8.20465711e-01, -8.87010833e-01, -4.61748613e-01,\n",
       "          4.74986003e-03,  9.99988719e-01],\n",
       "        [-9.55629779e-01, -9.76296007e-01, -2.16439614e-01,\n",
       "          5.46663304e-03,  9.99985058e-01],\n",
       "        [-1.15661287e+00, -9.99048222e-01,  4.36193874e-02,\n",
       "          6.18340325e-03,  9.99980883e-01],\n",
       "        [-1.22243189e+00, -9.53716951e-01,  3.00705799e-01,\n",
       "          6.90017027e-03,  9.99976194e-01],\n",
       "        [-1.27179616e+00, -8.43391446e-01,  5.37299608e-01,\n",
       "          7.61693375e-03,  9.99970991e-01]],\n",
       "\n",
       "       [[-8.20465711e-01, -8.87010833e-01, -4.61748613e-01,\n",
       "          4.74986003e-03,  9.99988719e-01],\n",
       "        [-9.55629779e-01, -9.76296007e-01, -2.16439614e-01,\n",
       "          5.46663304e-03,  9.99985058e-01],\n",
       "        [-1.15661287e+00, -9.99048222e-01,  4.36193874e-02,\n",
       "          6.18340325e-03,  9.99980883e-01],\n",
       "        [-1.22243189e+00, -9.53716951e-01,  3.00705799e-01,\n",
       "          6.90017027e-03,  9.99976194e-01],\n",
       "        [-1.27179616e+00, -8.43391446e-01,  5.37299608e-01,\n",
       "          7.61693375e-03,  9.99970991e-01],\n",
       "        [-1.43046702e+00, -6.75590208e-01,  7.37277337e-01,\n",
       "          8.33369332e-03,  9.99965274e-01]],\n",
       "\n",
       "       [[-9.55629779e-01, -9.76296007e-01, -2.16439614e-01,\n",
       "          5.46663304e-03,  9.99985058e-01],\n",
       "        [-1.15661287e+00, -9.99048222e-01,  4.36193874e-02,\n",
       "          6.18340325e-03,  9.99980883e-01],\n",
       "        [-1.22243189e+00, -9.53716951e-01,  3.00705799e-01,\n",
       "          6.90017027e-03,  9.99976194e-01],\n",
       "        [-1.27179616e+00, -8.43391446e-01,  5.37299608e-01,\n",
       "          7.61693375e-03,  9.99970991e-01],\n",
       "        [-1.43046702e+00, -6.75590208e-01,  7.37277337e-01,\n",
       "          8.33369332e-03,  9.99965274e-01],\n",
       "        [-1.44692178e+00, -4.61748613e-01,  8.87010833e-01,\n",
       "          9.05044860e-03,  9.99959044e-01]]])"
      ]
     },
     "execution_count": 55,
     "metadata": {},
     "output_type": "execute_result"
    }
   ],
   "source": [
    "preprocess(X2_train)\n",
    "preprocess(X2_val)\n",
    "preprocess(X2_test)"
   ]
  },
  {
   "cell_type": "code",
   "execution_count": 56,
   "id": "56cc2717",
   "metadata": {},
   "outputs": [
    {
     "data": {
      "text/html": [
       "<pre style=\"white-space:pre;overflow-x:auto;line-height:normal;font-family:Menlo,'DejaVu Sans Mono',consolas,'Courier New',monospace\"><span style=\"font-weight: bold\">Model: \"sequential_4\"</span>\n",
       "</pre>\n"
      ],
      "text/plain": [
       "\u001b[1mModel: \"sequential_4\"\u001b[0m\n"
      ]
     },
     "metadata": {},
     "output_type": "display_data"
    },
    {
     "data": {
      "text/html": [
       "<pre style=\"white-space:pre;overflow-x:auto;line-height:normal;font-family:Menlo,'DejaVu Sans Mono',consolas,'Courier New',monospace\">┏━━━━━━━━━━━━━━━━━━━━━━━━━━━━━━━━━━━━━━┳━━━━━━━━━━━━━━━━━━━━━━━━━━━━━┳━━━━━━━━━━━━━━━━━┓\n",
       "┃<span style=\"font-weight: bold\"> Layer (type)                         </span>┃<span style=\"font-weight: bold\"> Output Shape                </span>┃<span style=\"font-weight: bold\">         Param # </span>┃\n",
       "┡━━━━━━━━━━━━━━━━━━━━━━━━━━━━━━━━━━━━━━╇━━━━━━━━━━━━━━━━━━━━━━━━━━━━━╇━━━━━━━━━━━━━━━━━┩\n",
       "│ lstm_2 (<span style=\"color: #0087ff; text-decoration-color: #0087ff\">LSTM</span>)                        │ (<span style=\"color: #00d7ff; text-decoration-color: #00d7ff\">None</span>, <span style=\"color: #00af00; text-decoration-color: #00af00\">64</span>)                  │          <span style=\"color: #00af00; text-decoration-color: #00af00\">17,920</span> │\n",
       "├──────────────────────────────────────┼─────────────────────────────┼─────────────────┤\n",
       "│ dense_8 (<span style=\"color: #0087ff; text-decoration-color: #0087ff\">Dense</span>)                      │ (<span style=\"color: #00d7ff; text-decoration-color: #00d7ff\">None</span>, <span style=\"color: #00af00; text-decoration-color: #00af00\">8</span>)                   │             <span style=\"color: #00af00; text-decoration-color: #00af00\">520</span> │\n",
       "├──────────────────────────────────────┼─────────────────────────────┼─────────────────┤\n",
       "│ dense_9 (<span style=\"color: #0087ff; text-decoration-color: #0087ff\">Dense</span>)                      │ (<span style=\"color: #00d7ff; text-decoration-color: #00d7ff\">None</span>, <span style=\"color: #00af00; text-decoration-color: #00af00\">1</span>)                   │               <span style=\"color: #00af00; text-decoration-color: #00af00\">9</span> │\n",
       "└──────────────────────────────────────┴─────────────────────────────┴─────────────────┘\n",
       "</pre>\n"
      ],
      "text/plain": [
       "┏━━━━━━━━━━━━━━━━━━━━━━━━━━━━━━━━━━━━━━┳━━━━━━━━━━━━━━━━━━━━━━━━━━━━━┳━━━━━━━━━━━━━━━━━┓\n",
       "┃\u001b[1m \u001b[0m\u001b[1mLayer (type)                        \u001b[0m\u001b[1m \u001b[0m┃\u001b[1m \u001b[0m\u001b[1mOutput Shape               \u001b[0m\u001b[1m \u001b[0m┃\u001b[1m \u001b[0m\u001b[1m        Param #\u001b[0m\u001b[1m \u001b[0m┃\n",
       "┡━━━━━━━━━━━━━━━━━━━━━━━━━━━━━━━━━━━━━━╇━━━━━━━━━━━━━━━━━━━━━━━━━━━━━╇━━━━━━━━━━━━━━━━━┩\n",
       "│ lstm_2 (\u001b[38;5;33mLSTM\u001b[0m)                        │ (\u001b[38;5;45mNone\u001b[0m, \u001b[38;5;34m64\u001b[0m)                  │          \u001b[38;5;34m17,920\u001b[0m │\n",
       "├──────────────────────────────────────┼─────────────────────────────┼─────────────────┤\n",
       "│ dense_8 (\u001b[38;5;33mDense\u001b[0m)                      │ (\u001b[38;5;45mNone\u001b[0m, \u001b[38;5;34m8\u001b[0m)                   │             \u001b[38;5;34m520\u001b[0m │\n",
       "├──────────────────────────────────────┼─────────────────────────────┼─────────────────┤\n",
       "│ dense_9 (\u001b[38;5;33mDense\u001b[0m)                      │ (\u001b[38;5;45mNone\u001b[0m, \u001b[38;5;34m1\u001b[0m)                   │               \u001b[38;5;34m9\u001b[0m │\n",
       "└──────────────────────────────────────┴─────────────────────────────┴─────────────────┘\n"
      ]
     },
     "metadata": {},
     "output_type": "display_data"
    },
    {
     "data": {
      "text/html": [
       "<pre style=\"white-space:pre;overflow-x:auto;line-height:normal;font-family:Menlo,'DejaVu Sans Mono',consolas,'Courier New',monospace\"><span style=\"font-weight: bold\"> Total params: </span><span style=\"color: #00af00; text-decoration-color: #00af00\">18,449</span> (72.07 KB)\n",
       "</pre>\n"
      ],
      "text/plain": [
       "\u001b[1m Total params: \u001b[0m\u001b[38;5;34m18,449\u001b[0m (72.07 KB)\n"
      ]
     },
     "metadata": {},
     "output_type": "display_data"
    },
    {
     "data": {
      "text/html": [
       "<pre style=\"white-space:pre;overflow-x:auto;line-height:normal;font-family:Menlo,'DejaVu Sans Mono',consolas,'Courier New',monospace\"><span style=\"font-weight: bold\"> Trainable params: </span><span style=\"color: #00af00; text-decoration-color: #00af00\">18,449</span> (72.07 KB)\n",
       "</pre>\n"
      ],
      "text/plain": [
       "\u001b[1m Trainable params: \u001b[0m\u001b[38;5;34m18,449\u001b[0m (72.07 KB)\n"
      ]
     },
     "metadata": {},
     "output_type": "display_data"
    },
    {
     "data": {
      "text/html": [
       "<pre style=\"white-space:pre;overflow-x:auto;line-height:normal;font-family:Menlo,'DejaVu Sans Mono',consolas,'Courier New',monospace\"><span style=\"font-weight: bold\"> Non-trainable params: </span><span style=\"color: #00af00; text-decoration-color: #00af00\">0</span> (0.00 B)\n",
       "</pre>\n"
      ],
      "text/plain": [
       "\u001b[1m Non-trainable params: \u001b[0m\u001b[38;5;34m0\u001b[0m (0.00 B)\n"
      ]
     },
     "metadata": {},
     "output_type": "display_data"
    }
   ],
   "source": [
    "model4 = Sequential()\n",
    "model4.add(InputLayer((6, 5)))\n",
    "model4.add(LSTM(64))\n",
    "model4.add(Dense(8, 'relu'))\n",
    "model4.add(Dense(1, 'linear'))\n",
    "model4.summary()"
   ]
  },
  {
   "cell_type": "code",
   "execution_count": 57,
   "id": "584a599f",
   "metadata": {},
   "outputs": [],
   "source": [
    "cp4 = ModelCheckpoint('model4/model4.keras', save_best_only=True)\n",
    "model4.compile(loss=MeanSquaredError(), optimizer=Adam(learning_rate=0.0001), metrics=[RootMeanSquaredError()])"
   ]
  },
  {
   "cell_type": "code",
   "execution_count": 58,
   "id": "adaee586",
   "metadata": {},
   "outputs": [
    {
     "name": "stdout",
     "output_type": "stream",
     "text": [
      "Epoch 1/10\n",
      "\u001b[1m1875/1875\u001b[0m \u001b[32m━━━━━━━━━━━━━━━━━━━━\u001b[0m\u001b[37m\u001b[0m \u001b[1m15s\u001b[0m 6ms/step - loss: 70.4814 - root_mean_squared_error: 8.1065 - val_loss: 3.9424 - val_root_mean_squared_error: 1.9856\n",
      "Epoch 2/10\n",
      "\u001b[1m1875/1875\u001b[0m \u001b[32m━━━━━━━━━━━━━━━━━━━━\u001b[0m\u001b[37m\u001b[0m \u001b[1m10s\u001b[0m 5ms/step - loss: 5.5032 - root_mean_squared_error: 2.3425 - val_loss: 2.0233 - val_root_mean_squared_error: 1.4224\n",
      "Epoch 3/10\n",
      "\u001b[1m1875/1875\u001b[0m \u001b[32m━━━━━━━━━━━━━━━━━━━━\u001b[0m\u001b[37m\u001b[0m \u001b[1m11s\u001b[0m 6ms/step - loss: 2.3069 - root_mean_squared_error: 1.5156 - val_loss: 0.9345 - val_root_mean_squared_error: 0.9667\n",
      "Epoch 4/10\n",
      "\u001b[1m1875/1875\u001b[0m \u001b[32m━━━━━━━━━━━━━━━━━━━━\u001b[0m\u001b[37m\u001b[0m \u001b[1m10s\u001b[0m 5ms/step - loss: 1.0574 - root_mean_squared_error: 1.0280 - val_loss: 0.7000 - val_root_mean_squared_error: 0.8367\n",
      "Epoch 5/10\n",
      "\u001b[1m1875/1875\u001b[0m \u001b[32m━━━━━━━━━━━━━━━━━━━━\u001b[0m\u001b[37m\u001b[0m \u001b[1m10s\u001b[0m 5ms/step - loss: 0.8076 - root_mean_squared_error: 0.8984 - val_loss: 0.5422 - val_root_mean_squared_error: 0.7363\n",
      "Epoch 6/10\n",
      "\u001b[1m1875/1875\u001b[0m \u001b[32m━━━━━━━━━━━━━━━━━━━━\u001b[0m\u001b[37m\u001b[0m \u001b[1m11s\u001b[0m 6ms/step - loss: 0.6476 - root_mean_squared_error: 0.8047 - val_loss: 0.4662 - val_root_mean_squared_error: 0.6828\n",
      "Epoch 7/10\n",
      "\u001b[1m1875/1875\u001b[0m \u001b[32m━━━━━━━━━━━━━━━━━━━━\u001b[0m\u001b[37m\u001b[0m \u001b[1m11s\u001b[0m 6ms/step - loss: 0.5816 - root_mean_squared_error: 0.7626 - val_loss: 0.4364 - val_root_mean_squared_error: 0.6606\n",
      "Epoch 8/10\n",
      "\u001b[1m1875/1875\u001b[0m \u001b[32m━━━━━━━━━━━━━━━━━━━━\u001b[0m\u001b[37m\u001b[0m \u001b[1m11s\u001b[0m 6ms/step - loss: 0.5494 - root_mean_squared_error: 0.7410 - val_loss: 0.4419 - val_root_mean_squared_error: 0.6648\n",
      "Epoch 9/10\n",
      "\u001b[1m1875/1875\u001b[0m \u001b[32m━━━━━━━━━━━━━━━━━━━━\u001b[0m\u001b[37m\u001b[0m \u001b[1m11s\u001b[0m 6ms/step - loss: 0.5423 - root_mean_squared_error: 0.7363 - val_loss: 0.4224 - val_root_mean_squared_error: 0.6499\n",
      "Epoch 10/10\n",
      "\u001b[1m1875/1875\u001b[0m \u001b[32m━━━━━━━━━━━━━━━━━━━━\u001b[0m\u001b[37m\u001b[0m \u001b[1m11s\u001b[0m 6ms/step - loss: 0.5233 - root_mean_squared_error: 0.7232 - val_loss: 0.4179 - val_root_mean_squared_error: 0.6465\n"
     ]
    },
    {
     "data": {
      "text/plain": [
       "<keras.src.callbacks.history.History at 0x2a334a10dd0>"
      ]
     },
     "execution_count": 58,
     "metadata": {},
     "output_type": "execute_result"
    }
   ],
   "source": [
    "model4.fit(X2_train, y2_train, validation_data=(X2_val, y2_val), epochs=10, callbacks=[cp4])"
   ]
  },
  {
   "cell_type": "code",
   "execution_count": 87,
   "id": "7a3e8f23",
   "metadata": {},
   "outputs": [
    {
     "name": "stdout",
     "output_type": "stream",
     "text": [
      "\u001b[1m159/159\u001b[0m \u001b[32m━━━━━━━━━━━━━━━━━━━━\u001b[0m\u001b[37m\u001b[0m \u001b[1m1s\u001b[0m 5ms/step\n"
     ]
    },
    {
     "data": {
      "text/plain": [
       "(      Predictions  Actuals\n",
       " 0       13.302400    13.46\n",
       " 1       12.902340    12.93\n",
       " 2       12.512992    12.43\n",
       " 3       12.216094    12.17\n",
       " 4       12.327739    11.55\n",
       " ...           ...      ...\n",
       " 5080    -1.115304    -0.98\n",
       " 5081    -1.423587    -1.40\n",
       " 5082    -1.657754    -2.75\n",
       " 5083    -3.032233    -2.89\n",
       " 5084    -3.074175    -3.93\n",
       " \n",
       " [5085 rows x 2 columns],\n",
       " 0.48199443686513815)"
      ]
     },
     "execution_count": 87,
     "metadata": {},
     "output_type": "execute_result"
    },
    {
     "data": {
      "image/png": "[encoded data removed]",
      "text/plain": [
       "<Figure size 640x480 with 1 Axes>"
      ]
     },
     "metadata": {},
     "output_type": "display_data"
    }
   ],
   "source": [
    "plot_predictions1(model4, X2_test, y2_test)"
   ]
  },
  {
   "cell_type": "code",
   "execution_count": 60,
   "id": "3f37e0da",
   "metadata": {},
   "outputs": [
    {
     "data": {
      "text/html": [
       "<div>\n",
       "<style scoped>\n",
       "    .dataframe tbody tr th:only-of-type {\n",
       "        vertical-align: middle;\n",
       "    }\n",
       "\n",
       "    .dataframe tbody tr th {\n",
       "        vertical-align: top;\n",
       "    }\n",
       "\n",
       "    .dataframe thead th {\n",
       "        text-align: right;\n",
       "    }\n",
       "</style>\n",
       "<table border=\"1\" class=\"dataframe\">\n",
       "  <thead>\n",
       "    <tr style=\"text-align: right;\">\n",
       "      <th></th>\n",
       "      <th>p (mbar)</th>\n",
       "      <th>Temperature</th>\n",
       "      <th>Day sin</th>\n",
       "      <th>Day cos</th>\n",
       "      <th>Year sin</th>\n",
       "      <th>Year cos</th>\n",
       "    </tr>\n",
       "    <tr>\n",
       "      <th>Date Time</th>\n",
       "      <th></th>\n",
       "      <th></th>\n",
       "      <th></th>\n",
       "      <th></th>\n",
       "      <th></th>\n",
       "      <th></th>\n",
       "    </tr>\n",
       "  </thead>\n",
       "  <tbody>\n",
       "    <tr>\n",
       "      <th>2009-01-01 01:00:00</th>\n",
       "      <td>996.50</td>\n",
       "      <td>-8.05</td>\n",
       "      <td>0.258819</td>\n",
       "      <td>0.965926</td>\n",
       "      <td>0.010049</td>\n",
       "      <td>0.999950</td>\n",
       "    </tr>\n",
       "    <tr>\n",
       "      <th>2009-01-01 02:00:00</th>\n",
       "      <td>996.62</td>\n",
       "      <td>-8.88</td>\n",
       "      <td>0.500000</td>\n",
       "      <td>0.866025</td>\n",
       "      <td>0.010766</td>\n",
       "      <td>0.999942</td>\n",
       "    </tr>\n",
       "    <tr>\n",
       "      <th>2009-01-01 03:00:00</th>\n",
       "      <td>996.84</td>\n",
       "      <td>-8.81</td>\n",
       "      <td>0.707107</td>\n",
       "      <td>0.707107</td>\n",
       "      <td>0.011483</td>\n",
       "      <td>0.999934</td>\n",
       "    </tr>\n",
       "    <tr>\n",
       "      <th>2009-01-01 04:00:00</th>\n",
       "      <td>996.99</td>\n",
       "      <td>-9.05</td>\n",
       "      <td>0.866025</td>\n",
       "      <td>0.500000</td>\n",
       "      <td>0.012199</td>\n",
       "      <td>0.999926</td>\n",
       "    </tr>\n",
       "    <tr>\n",
       "      <th>2009-01-01 05:00:00</th>\n",
       "      <td>997.46</td>\n",
       "      <td>-9.63</td>\n",
       "      <td>0.965926</td>\n",
       "      <td>0.258819</td>\n",
       "      <td>0.012916</td>\n",
       "      <td>0.999917</td>\n",
       "    </tr>\n",
       "    <tr>\n",
       "      <th>...</th>\n",
       "      <td>...</td>\n",
       "      <td>...</td>\n",
       "      <td>...</td>\n",
       "      <td>...</td>\n",
       "      <td>...</td>\n",
       "      <td>...</td>\n",
       "    </tr>\n",
       "    <tr>\n",
       "      <th>2016-12-31 19:10:00</th>\n",
       "      <td>1002.18</td>\n",
       "      <td>-0.98</td>\n",
       "      <td>-0.953717</td>\n",
       "      <td>0.300706</td>\n",
       "      <td>0.006900</td>\n",
       "      <td>0.999976</td>\n",
       "    </tr>\n",
       "    <tr>\n",
       "      <th>2016-12-31 20:10:00</th>\n",
       "      <td>1001.40</td>\n",
       "      <td>-1.40</td>\n",
       "      <td>-0.843391</td>\n",
       "      <td>0.537300</td>\n",
       "      <td>0.007617</td>\n",
       "      <td>0.999971</td>\n",
       "    </tr>\n",
       "    <tr>\n",
       "      <th>2016-12-31 21:10:00</th>\n",
       "      <td>1001.19</td>\n",
       "      <td>-2.75</td>\n",
       "      <td>-0.675590</td>\n",
       "      <td>0.737277</td>\n",
       "      <td>0.008334</td>\n",
       "      <td>0.999965</td>\n",
       "    </tr>\n",
       "    <tr>\n",
       "      <th>2016-12-31 22:10:00</th>\n",
       "      <td>1000.65</td>\n",
       "      <td>-2.89</td>\n",
       "      <td>-0.461749</td>\n",
       "      <td>0.887011</td>\n",
       "      <td>0.009050</td>\n",
       "      <td>0.999959</td>\n",
       "    </tr>\n",
       "    <tr>\n",
       "      <th>2016-12-31 23:10:00</th>\n",
       "      <td>1000.11</td>\n",
       "      <td>-3.93</td>\n",
       "      <td>-0.216440</td>\n",
       "      <td>0.976296</td>\n",
       "      <td>0.009767</td>\n",
       "      <td>0.999952</td>\n",
       "    </tr>\n",
       "  </tbody>\n",
       "</table>\n",
       "<p>70091 rows × 6 columns</p>\n",
       "</div>"
      ],
      "text/plain": [
       "                     p (mbar)  Temperature   Day sin   Day cos  Year sin  \\\n",
       "Date Time                                                                  \n",
       "2009-01-01 01:00:00    996.50        -8.05  0.258819  0.965926  0.010049   \n",
       "2009-01-01 02:00:00    996.62        -8.88  0.500000  0.866025  0.010766   \n",
       "2009-01-01 03:00:00    996.84        -8.81  0.707107  0.707107  0.011483   \n",
       "2009-01-01 04:00:00    996.99        -9.05  0.866025  0.500000  0.012199   \n",
       "2009-01-01 05:00:00    997.46        -9.63  0.965926  0.258819  0.012916   \n",
       "...                       ...          ...       ...       ...       ...   \n",
       "2016-12-31 19:10:00   1002.18        -0.98 -0.953717  0.300706  0.006900   \n",
       "2016-12-31 20:10:00   1001.40        -1.40 -0.843391  0.537300  0.007617   \n",
       "2016-12-31 21:10:00   1001.19        -2.75 -0.675590  0.737277  0.008334   \n",
       "2016-12-31 22:10:00   1000.65        -2.89 -0.461749  0.887011  0.009050   \n",
       "2016-12-31 23:10:00   1000.11        -3.93 -0.216440  0.976296  0.009767   \n",
       "\n",
       "                     Year cos  \n",
       "Date Time                      \n",
       "2009-01-01 01:00:00  0.999950  \n",
       "2009-01-01 02:00:00  0.999942  \n",
       "2009-01-01 03:00:00  0.999934  \n",
       "2009-01-01 04:00:00  0.999926  \n",
       "2009-01-01 05:00:00  0.999917  \n",
       "...                       ...  \n",
       "2016-12-31 19:10:00  0.999976  \n",
       "2016-12-31 20:10:00  0.999971  \n",
       "2016-12-31 21:10:00  0.999965  \n",
       "2016-12-31 22:10:00  0.999959  \n",
       "2016-12-31 23:10:00  0.999952  \n",
       "\n",
       "[70091 rows x 6 columns]"
      ]
     },
     "execution_count": 60,
     "metadata": {},
     "output_type": "execute_result"
    }
   ],
   "source": [
    "p_temp_df = pd.concat([df['p (mbar)'], temp_df], axis=1)\n",
    "p_temp_df"
   ]
  },
  {
   "cell_type": "code",
   "execution_count": 62,
   "id": "2cca8208",
   "metadata": {},
   "outputs": [],
   "source": [
    "def df_to_X_y3(df, window_size=7):\n",
    "    df_as_np = df.to_numpy()\n",
    "    X = []\n",
    "    y = []\n",
    "    for i in range(len(df_as_np)-window_size):\n",
    "        row = [r for r in df_as_np[i:i+window_size]]\n",
    "        X.append(row)\n",
    "        label = [df_as_np[i+window_size][0], df_as_np[i+window_size][1]]\n",
    "        y.append(label)\n",
    "    return np.array(X), np.array(y)"
   ]
  },
  {
   "cell_type": "code",
   "execution_count": 63,
   "id": "85d0e080",
   "metadata": {},
   "outputs": [
    {
     "data": {
      "text/plain": [
       "((70084, 7, 6), (70084, 2))"
      ]
     },
     "execution_count": 63,
     "metadata": {},
     "output_type": "execute_result"
    }
   ],
   "source": [
    "X3, y3 = df_to_X_y3(p_temp_df)\n",
    "X3.shape, y3.shape"
   ]
  },
  {
   "cell_type": "code",
   "execution_count": 64,
   "id": "61432fd5",
   "metadata": {},
   "outputs": [
    {
     "data": {
      "text/plain": [
       "((60000, 7, 6), (60000, 2), (5000, 7, 6), (5000, 2), (5084, 7, 6), (5084, 2))"
      ]
     },
     "execution_count": 64,
     "metadata": {},
     "output_type": "execute_result"
    }
   ],
   "source": [
    "X3_train, y3_train = X3[:60000], y3[:60000]\n",
    "X3_val, y3_val = X3[60000:65000], y3[60000:65000]\n",
    "X3_test, y3_test = X3[65000:], y3[65000:]\n",
    "X3_train.shape, y3_train.shape, X3_val.shape, y3_val.shape, X3_test.shape, y3_test.shape"
   ]
  },
  {
   "cell_type": "code",
   "execution_count": 65,
   "id": "b7eae0b0",
   "metadata": {},
   "outputs": [],
   "source": [
    "p_training_mean3 = np.mean(X3_train[:, :, 0])\n",
    "p_training_std3 = np.std(X3_train[:, :, 0])\n",
    "\n",
    "temp_training_mean3 = np.mean(X3_train[:, :, 1])\n",
    "temp_training_std3 = np.std(X3_train[:, :, 1])\n",
    "\n",
    "def preprocess3(X):\n",
    "    X[:, :, 0] = (X[:, :, 0] - p_training_mean3) / p_training_std3\n",
    "    X[:, :, 1] = (X[:, :, 1] - temp_training_mean3) / temp_training_std3 \n",
    "    return X\n",
    "\n",
    "def preprocess_output(y):\n",
    "    y[:, 0] = (y[:, 0] - p_training_mean3) / p_training_std3\n",
    "    y[:, 1] = (y[:, 1] - temp_training_mean3) / temp_training_std3\n",
    "    return y"
   ]
  },
  {
   "cell_type": "code",
   "execution_count": 66,
   "id": "f4cd7e96",
   "metadata": {},
   "outputs": [
    {
     "data": {
      "text/plain": [
       "array([[[-1.07355644e+00,  1.04009390e+00, -9.65925826e-01,\n",
       "          2.58819045e-01,  5.22877889e-01, -8.52407598e-01],\n",
       "        [-1.00807435e+00,  9.90728707e-01, -8.66025404e-01,\n",
       "          5.00000000e-01,  5.22266764e-01, -8.52782169e-01],\n",
       "        [-9.51080673e-01,  8.49685305e-01, -7.07106781e-01,\n",
       "          7.07106781e-01,  5.21655371e-01, -8.53156301e-01],\n",
       "        ...,\n",
       "        [-8.80748054e-01,  6.66328883e-01, -2.58819045e-01,\n",
       "          9.65925826e-01,  5.20431780e-01, -8.53903251e-01],\n",
       "        [-8.29817537e-01,  5.37039098e-01, -7.16474371e-12,\n",
       "          1.00000000e+00,  5.19819584e-01, -8.54276068e-01],\n",
       "        [-8.01927015e-01,  4.74744929e-01,  2.58819045e-01,\n",
       "          9.65925826e-01,  5.19207120e-01, -8.54648446e-01]],\n",
       "\n",
       "       [[-1.00807435e+00,  9.90728707e-01, -8.66025404e-01,\n",
       "          5.00000000e-01,  5.22266764e-01, -8.52782169e-01],\n",
       "        [-9.51080673e-01,  8.49685305e-01, -7.07106781e-01,\n",
       "          7.07106781e-01,  5.21655371e-01, -8.53156301e-01],\n",
       "        [-9.14701732e-01,  7.55656370e-01, -5.00000000e-01,\n",
       "          8.66025404e-01,  5.21043709e-01, -8.53529995e-01],\n",
       "        ...,\n",
       "        [-8.29817537e-01,  5.37039098e-01, -7.16474371e-12,\n",
       "          1.00000000e+00,  5.19819584e-01, -8.54276068e-01],\n",
       "        [-8.01927015e-01,  4.74744929e-01,  2.58819045e-01,\n",
       "          9.65925826e-01,  5.19207120e-01, -8.54648446e-01],\n",
       "        [-7.93438596e-01,  4.12450760e-01,  5.00000000e-01,\n",
       "          8.66025404e-01,  5.18594390e-01, -8.55020385e-01]],\n",
       "\n",
       "       [[-9.51080673e-01,  8.49685305e-01, -7.07106781e-01,\n",
       "          7.07106781e-01,  5.21655371e-01, -8.53156301e-01],\n",
       "        [-9.14701732e-01,  7.55656370e-01, -5.00000000e-01,\n",
       "          8.66025404e-01,  5.21043709e-01, -8.53529995e-01],\n",
       "        [-8.80748054e-01,  6.66328883e-01, -2.58819045e-01,\n",
       "          9.65925826e-01,  5.20431780e-01, -8.53903251e-01],\n",
       "        ...,\n",
       "        [-8.01927015e-01,  4.74744929e-01,  2.58819045e-01,\n",
       "          9.65925826e-01,  5.19207120e-01, -8.54648446e-01],\n",
       "        [-7.93438596e-01,  4.12450760e-01,  5.00000000e-01,\n",
       "          8.66025404e-01,  5.18594390e-01, -8.55020385e-01],\n",
       "        [-7.63122812e-01,  3.53682676e-01,  7.07106781e-01,\n",
       "          7.07106781e-01,  5.17981393e-01, -8.55391885e-01]],\n",
       "\n",
       "       ...,\n",
       "\n",
       "       [[ 1.73125990e+00, -6.19516796e-01, -5.37299608e-01,\n",
       "         -8.43391446e-01,  3.31630706e-03,  9.99994501e-01],\n",
       "        [ 1.71185780e+00, -5.23137138e-01, -7.37277337e-01,\n",
       "         -6.75590208e-01,  4.03308458e-03,  9.99991867e-01],\n",
       "        [ 1.64516307e+00, -8.20503643e-01, -8.87010833e-01,\n",
       "         -4.61748613e-01,  4.74986003e-03,  9.99988719e-01],\n",
       "        ...,\n",
       "        [ 1.61242203e+00, -1.15665708e+00, -9.99048222e-01,\n",
       "          4.36193874e-02,  6.18340325e-03,  9.99980883e-01],\n",
       "        [ 1.60150834e+00, -1.22247734e+00, -9.53716951e-01,\n",
       "          3.00705799e-01,  6.90017027e-03,  9.99976194e-01],\n",
       "        [ 1.50692310e+00, -1.27184253e+00, -8.43391446e-01,\n",
       "          5.37299608e-01,  7.61693375e-03,  9.99970991e-01]],\n",
       "\n",
       "       [[ 1.71185780e+00, -5.23137138e-01, -7.37277337e-01,\n",
       "         -6.75590208e-01,  4.03308458e-03,  9.99991867e-01],\n",
       "        [ 1.64516307e+00, -8.20503643e-01, -8.87010833e-01,\n",
       "         -4.61748613e-01,  4.74986003e-03,  9.99988719e-01],\n",
       "        [ 1.63182413e+00, -9.55670237e-01, -9.76296007e-01,\n",
       "         -2.16439614e-01,  5.46663304e-03,  9.99985058e-01],\n",
       "        ...,\n",
       "        [ 1.60150834e+00, -1.22247734e+00, -9.53716951e-01,\n",
       "          3.00705799e-01,  6.90017027e-03,  9.99976194e-01],\n",
       "        [ 1.50692310e+00, -1.27184253e+00, -8.43391446e-01,\n",
       "          5.37299608e-01,  7.61693375e-03,  9.99970991e-01],\n",
       "        [ 1.48145784e+00, -1.43051636e+00, -6.75590208e-01,\n",
       "          7.37277337e-01,  8.33369332e-03,  9.99965274e-01]],\n",
       "\n",
       "       [[ 1.64516307e+00, -8.20503643e-01, -8.87010833e-01,\n",
       "         -4.61748613e-01,  4.74986003e-03,  9.99988719e-01],\n",
       "        [ 1.63182413e+00, -9.55670237e-01, -9.76296007e-01,\n",
       "         -2.16439614e-01,  5.46663304e-03,  9.99985058e-01],\n",
       "        [ 1.61242203e+00, -1.15665708e+00, -9.99048222e-01,\n",
       "          4.36193874e-02,  6.18340325e-03,  9.99980883e-01],\n",
       "        ...,\n",
       "        [ 1.50692310e+00, -1.27184253e+00, -8.43391446e-01,\n",
       "          5.37299608e-01,  7.61693375e-03,  9.99970991e-01],\n",
       "        [ 1.48145784e+00, -1.43051636e+00, -6.75590208e-01,\n",
       "          7.37277337e-01,  8.33369332e-03,  9.99965274e-01],\n",
       "        [ 1.41597574e+00, -1.44697142e+00, -4.61748613e-01,\n",
       "          8.87010833e-01,  9.05044860e-03,  9.99959044e-01]]])"
      ]
     },
     "execution_count": 66,
     "metadata": {},
     "output_type": "execute_result"
    }
   ],
   "source": [
    "preprocess3(X3_train)\n",
    "preprocess3(X3_val)\n",
    "preprocess3(X3_test)"
   ]
  },
  {
   "cell_type": "code",
   "execution_count": 67,
   "id": "4f259927",
   "metadata": {},
   "outputs": [
    {
     "data": {
      "text/plain": [
       "array([[-0.7934386 ,  0.41245076],\n",
       "       [-0.76312281,  0.35368268],\n",
       "       [-0.72189335,  0.32312327],\n",
       "       ...,\n",
       "       [ 1.48145784, -1.43051636],\n",
       "       [ 1.41597574, -1.44697142],\n",
       "       [ 1.35049365, -1.56920903]])"
      ]
     },
     "execution_count": 67,
     "metadata": {},
     "output_type": "execute_result"
    }
   ],
   "source": [
    "preprocess_output(y3_train)\n",
    "preprocess_output(y3_val)\n",
    "preprocess_output(y3_test)"
   ]
  },
  {
   "cell_type": "code",
   "execution_count": 68,
   "id": "378a6983",
   "metadata": {},
   "outputs": [
    {
     "data": {
      "text/html": [
       "<pre style=\"white-space:pre;overflow-x:auto;line-height:normal;font-family:Menlo,'DejaVu Sans Mono',consolas,'Courier New',monospace\"><span style=\"font-weight: bold\">Model: \"sequential_5\"</span>\n",
       "</pre>\n"
      ],
      "text/plain": [
       "\u001b[1mModel: \"sequential_5\"\u001b[0m\n"
      ]
     },
     "metadata": {},
     "output_type": "display_data"
    },
    {
     "data": {
      "text/html": [
       "<pre style=\"white-space:pre;overflow-x:auto;line-height:normal;font-family:Menlo,'DejaVu Sans Mono',consolas,'Courier New',monospace\">┏━━━━━━━━━━━━━━━━━━━━━━━━━━━━━━━━━━━━━━┳━━━━━━━━━━━━━━━━━━━━━━━━━━━━━┳━━━━━━━━━━━━━━━━━┓\n",
       "┃<span style=\"font-weight: bold\"> Layer (type)                         </span>┃<span style=\"font-weight: bold\"> Output Shape                </span>┃<span style=\"font-weight: bold\">         Param # </span>┃\n",
       "┡━━━━━━━━━━━━━━━━━━━━━━━━━━━━━━━━━━━━━━╇━━━━━━━━━━━━━━━━━━━━━━━━━━━━━╇━━━━━━━━━━━━━━━━━┩\n",
       "│ lstm_3 (<span style=\"color: #0087ff; text-decoration-color: #0087ff\">LSTM</span>)                        │ (<span style=\"color: #00d7ff; text-decoration-color: #00d7ff\">None</span>, <span style=\"color: #00af00; text-decoration-color: #00af00\">64</span>)                  │          <span style=\"color: #00af00; text-decoration-color: #00af00\">18,176</span> │\n",
       "├──────────────────────────────────────┼─────────────────────────────┼─────────────────┤\n",
       "│ dense_10 (<span style=\"color: #0087ff; text-decoration-color: #0087ff\">Dense</span>)                     │ (<span style=\"color: #00d7ff; text-decoration-color: #00d7ff\">None</span>, <span style=\"color: #00af00; text-decoration-color: #00af00\">8</span>)                   │             <span style=\"color: #00af00; text-decoration-color: #00af00\">520</span> │\n",
       "├──────────────────────────────────────┼─────────────────────────────┼─────────────────┤\n",
       "│ dense_11 (<span style=\"color: #0087ff; text-decoration-color: #0087ff\">Dense</span>)                     │ (<span style=\"color: #00d7ff; text-decoration-color: #00d7ff\">None</span>, <span style=\"color: #00af00; text-decoration-color: #00af00\">2</span>)                   │              <span style=\"color: #00af00; text-decoration-color: #00af00\">18</span> │\n",
       "└──────────────────────────────────────┴─────────────────────────────┴─────────────────┘\n",
       "</pre>\n"
      ],
      "text/plain": [
       "┏━━━━━━━━━━━━━━━━━━━━━━━━━━━━━━━━━━━━━━┳━━━━━━━━━━━━━━━━━━━━━━━━━━━━━┳━━━━━━━━━━━━━━━━━┓\n",
       "┃\u001b[1m \u001b[0m\u001b[1mLayer (type)                        \u001b[0m\u001b[1m \u001b[0m┃\u001b[1m \u001b[0m\u001b[1mOutput Shape               \u001b[0m\u001b[1m \u001b[0m┃\u001b[1m \u001b[0m\u001b[1m        Param #\u001b[0m\u001b[1m \u001b[0m┃\n",
       "┡━━━━━━━━━━━━━━━━━━━━━━━━━━━━━━━━━━━━━━╇━━━━━━━━━━━━━━━━━━━━━━━━━━━━━╇━━━━━━━━━━━━━━━━━┩\n",
       "│ lstm_3 (\u001b[38;5;33mLSTM\u001b[0m)                        │ (\u001b[38;5;45mNone\u001b[0m, \u001b[38;5;34m64\u001b[0m)                  │          \u001b[38;5;34m18,176\u001b[0m │\n",
       "├──────────────────────────────────────┼─────────────────────────────┼─────────────────┤\n",
       "│ dense_10 (\u001b[38;5;33mDense\u001b[0m)                     │ (\u001b[38;5;45mNone\u001b[0m, \u001b[38;5;34m8\u001b[0m)                   │             \u001b[38;5;34m520\u001b[0m │\n",
       "├──────────────────────────────────────┼─────────────────────────────┼─────────────────┤\n",
       "│ dense_11 (\u001b[38;5;33mDense\u001b[0m)                     │ (\u001b[38;5;45mNone\u001b[0m, \u001b[38;5;34m2\u001b[0m)                   │              \u001b[38;5;34m18\u001b[0m │\n",
       "└──────────────────────────────────────┴─────────────────────────────┴─────────────────┘\n"
      ]
     },
     "metadata": {},
     "output_type": "display_data"
    },
    {
     "data": {
      "text/html": [
       "<pre style=\"white-space:pre;overflow-x:auto;line-height:normal;font-family:Menlo,'DejaVu Sans Mono',consolas,'Courier New',monospace\"><span style=\"font-weight: bold\"> Total params: </span><span style=\"color: #00af00; text-decoration-color: #00af00\">18,714</span> (73.10 KB)\n",
       "</pre>\n"
      ],
      "text/plain": [
       "\u001b[1m Total params: \u001b[0m\u001b[38;5;34m18,714\u001b[0m (73.10 KB)\n"
      ]
     },
     "metadata": {},
     "output_type": "display_data"
    },
    {
     "data": {
      "text/html": [
       "<pre style=\"white-space:pre;overflow-x:auto;line-height:normal;font-family:Menlo,'DejaVu Sans Mono',consolas,'Courier New',monospace\"><span style=\"font-weight: bold\"> Trainable params: </span><span style=\"color: #00af00; text-decoration-color: #00af00\">18,714</span> (73.10 KB)\n",
       "</pre>\n"
      ],
      "text/plain": [
       "\u001b[1m Trainable params: \u001b[0m\u001b[38;5;34m18,714\u001b[0m (73.10 KB)\n"
      ]
     },
     "metadata": {},
     "output_type": "display_data"
    },
    {
     "data": {
      "text/html": [
       "<pre style=\"white-space:pre;overflow-x:auto;line-height:normal;font-family:Menlo,'DejaVu Sans Mono',consolas,'Courier New',monospace\"><span style=\"font-weight: bold\"> Non-trainable params: </span><span style=\"color: #00af00; text-decoration-color: #00af00\">0</span> (0.00 B)\n",
       "</pre>\n"
      ],
      "text/plain": [
       "\u001b[1m Non-trainable params: \u001b[0m\u001b[38;5;34m0\u001b[0m (0.00 B)\n"
      ]
     },
     "metadata": {},
     "output_type": "display_data"
    }
   ],
   "source": [
    "model5 = Sequential()\n",
    "model5.add(InputLayer((7, 6)))\n",
    "model5.add(LSTM(64))\n",
    "model5.add(Dense(8, 'relu'))\n",
    "model5.add(Dense(2, 'linear'))\n",
    "\n",
    "model5.summary()"
   ]
  },
  {
   "cell_type": "code",
   "execution_count": 71,
   "id": "82482d9a",
   "metadata": {},
   "outputs": [],
   "source": [
    "cp5 = ModelCheckpoint('model5/model5.keras', save_best_only=True)\n",
    "model5.compile(loss=MeanSquaredError(), optimizer=Adam(learning_rate=0.0001), metrics=[RootMeanSquaredError()])"
   ]
  },
  {
   "cell_type": "code",
   "execution_count": 72,
   "id": "57a95be4",
   "metadata": {},
   "outputs": [
    {
     "name": "stdout",
     "output_type": "stream",
     "text": [
      "Epoch 1/10\n",
      "\u001b[1m1875/1875\u001b[0m \u001b[32m━━━━━━━━━━━━━━━━━━━━\u001b[0m\u001b[37m\u001b[0m \u001b[1m16s\u001b[0m 7ms/step - loss: 0.2870 - root_mean_squared_error: 0.5096 - val_loss: 0.0286 - val_root_mean_squared_error: 0.1691\n",
      "Epoch 2/10\n",
      "\u001b[1m1875/1875\u001b[0m \u001b[32m━━━━━━━━━━━━━━━━━━━━\u001b[0m\u001b[37m\u001b[0m \u001b[1m11s\u001b[0m 6ms/step - loss: 0.0251 - root_mean_squared_error: 0.1584 - val_loss: 0.0151 - val_root_mean_squared_error: 0.1228\n",
      "Epoch 3/10\n",
      "\u001b[1m1875/1875\u001b[0m \u001b[32m━━━━━━━━━━━━━━━━━━━━\u001b[0m\u001b[37m\u001b[0m \u001b[1m11s\u001b[0m 6ms/step - loss: 0.0129 - root_mean_squared_error: 0.1135 - val_loss: 0.0078 - val_root_mean_squared_error: 0.0883\n",
      "Epoch 4/10\n",
      "\u001b[1m1875/1875\u001b[0m \u001b[32m━━━━━━━━━━━━━━━━━━━━\u001b[0m\u001b[37m\u001b[0m \u001b[1m12s\u001b[0m 6ms/step - loss: 0.0083 - root_mean_squared_error: 0.0908 - val_loss: 0.0059 - val_root_mean_squared_error: 0.0770\n",
      "Epoch 5/10\n",
      "\u001b[1m1875/1875\u001b[0m \u001b[32m━━━━━━━━━━━━━━━━━━━━\u001b[0m\u001b[37m\u001b[0m \u001b[1m11s\u001b[0m 6ms/step - loss: 0.0070 - root_mean_squared_error: 0.0839 - val_loss: 0.0047 - val_root_mean_squared_error: 0.0689\n",
      "Epoch 6/10\n",
      "\u001b[1m1875/1875\u001b[0m \u001b[32m━━━━━━━━━━━━━━━━━━━━\u001b[0m\u001b[37m\u001b[0m \u001b[1m11s\u001b[0m 6ms/step - loss: 0.0058 - root_mean_squared_error: 0.0760 - val_loss: 0.0043 - val_root_mean_squared_error: 0.0658\n",
      "Epoch 7/10\n",
      "\u001b[1m1875/1875\u001b[0m \u001b[32m━━━━━━━━━━━━━━━━━━━━\u001b[0m\u001b[37m\u001b[0m \u001b[1m11s\u001b[0m 6ms/step - loss: 0.0049 - root_mean_squared_error: 0.0703 - val_loss: 0.0040 - val_root_mean_squared_error: 0.0630\n",
      "Epoch 8/10\n",
      "\u001b[1m1875/1875\u001b[0m \u001b[32m━━━━━━━━━━━━━━━━━━━━\u001b[0m\u001b[37m\u001b[0m \u001b[1m11s\u001b[0m 6ms/step - loss: 0.0049 - root_mean_squared_error: 0.0697 - val_loss: 0.0040 - val_root_mean_squared_error: 0.0633\n",
      "Epoch 9/10\n",
      "\u001b[1m1875/1875\u001b[0m \u001b[32m━━━━━━━━━━━━━━━━━━━━\u001b[0m\u001b[37m\u001b[0m \u001b[1m11s\u001b[0m 6ms/step - loss: 0.0046 - root_mean_squared_error: 0.0679 - val_loss: 0.0037 - val_root_mean_squared_error: 0.0612\n",
      "Epoch 10/10\n",
      "\u001b[1m1875/1875\u001b[0m \u001b[32m━━━━━━━━━━━━━━━━━━━━\u001b[0m\u001b[37m\u001b[0m \u001b[1m11s\u001b[0m 6ms/step - loss: 0.0044 - root_mean_squared_error: 0.0665 - val_loss: 0.0036 - val_root_mean_squared_error: 0.0603\n"
     ]
    },
    {
     "data": {
      "text/plain": [
       "<keras.src.callbacks.history.History at 0x2a339c50790>"
      ]
     },
     "execution_count": 72,
     "metadata": {},
     "output_type": "execute_result"
    }
   ],
   "source": [
    "model5.fit(X3_train, y3_train, validation_data=(X3_val, y3_val), epochs=10, callbacks=[cp5])"
   ]
  },
  {
   "cell_type": "code",
   "execution_count": 73,
   "id": "984c8d9f",
   "metadata": {},
   "outputs": [],
   "source": [
    "def plot_predictions2(model, X, y, start=0, end=100):\n",
    "    predictions = model.predict(X)\n",
    "    p_preds, temp_preds = predictions[:, 0], predictions[:, 1]\n",
    "    p_actuals, temp_actuals = y[:, 0], y[:, 1]\n",
    "    df = pd.DataFrame(data={'Temperature Predictions': temp_preds,\n",
    "                          'Temperature Actuals':temp_actuals,\n",
    "                          'Pressure Predictions': p_preds,\n",
    "                          'Pressure Actuals': p_actuals\n",
    "                          })\n",
    "    plt.plot(df['Temperature Predictions'][start:end])\n",
    "    plt.plot(df['Temperature Actuals'][start:end])\n",
    "    plt.plot(df['Pressure Predictions'][start:end])\n",
    "    plt.plot(df['Pressure Actuals'][start:end])\n",
    "    return df"
   ]
  },
  {
   "cell_type": "code",
   "execution_count": 74,
   "id": "db09c675",
   "metadata": {},
   "outputs": [
    {
     "name": "stdout",
     "output_type": "stream",
     "text": [
      "\u001b[1m159/159\u001b[0m \u001b[32m━━━━━━━━━━━━━━━━━━━━\u001b[0m\u001b[37m\u001b[0m \u001b[1m2s\u001b[0m 8ms/step\n"
     ]
    },
    {
     "data": {
      "text/html": [
       "<div>\n",
       "<style scoped>\n",
       "    .dataframe tbody tr th:only-of-type {\n",
       "        vertical-align: middle;\n",
       "    }\n",
       "\n",
       "    .dataframe tbody tr th {\n",
       "        vertical-align: top;\n",
       "    }\n",
       "\n",
       "    .dataframe thead th {\n",
       "        text-align: right;\n",
       "    }\n",
       "</style>\n",
       "<table border=\"1\" class=\"dataframe\">\n",
       "  <thead>\n",
       "    <tr style=\"text-align: right;\">\n",
       "      <th></th>\n",
       "      <th>Temperature Predictions</th>\n",
       "      <th>Temperature Actuals</th>\n",
       "      <th>Pressure Predictions</th>\n",
       "      <th>Pressure Actuals</th>\n",
       "    </tr>\n",
       "  </thead>\n",
       "  <tbody>\n",
       "    <tr>\n",
       "      <th>0</th>\n",
       "      <td>0.403470</td>\n",
       "      <td>0.412451</td>\n",
       "      <td>-0.806178</td>\n",
       "      <td>-0.793439</td>\n",
       "    </tr>\n",
       "    <tr>\n",
       "      <th>1</th>\n",
       "      <td>0.356700</td>\n",
       "      <td>0.353683</td>\n",
       "      <td>-0.792220</td>\n",
       "      <td>-0.763123</td>\n",
       "    </tr>\n",
       "    <tr>\n",
       "      <th>2</th>\n",
       "      <td>0.316044</td>\n",
       "      <td>0.323123</td>\n",
       "      <td>-0.756483</td>\n",
       "      <td>-0.721893</td>\n",
       "    </tr>\n",
       "    <tr>\n",
       "      <th>3</th>\n",
       "      <td>0.318720</td>\n",
       "      <td>0.250251</td>\n",
       "      <td>-0.702984</td>\n",
       "      <td>-0.652773</td>\n",
       "    </tr>\n",
       "    <tr>\n",
       "      <th>4</th>\n",
       "      <td>0.274688</td>\n",
       "      <td>0.254952</td>\n",
       "      <td>-0.617793</td>\n",
       "      <td>-0.652773</td>\n",
       "    </tr>\n",
       "    <tr>\n",
       "      <th>...</th>\n",
       "      <td>...</td>\n",
       "      <td>...</td>\n",
       "      <td>...</td>\n",
       "      <td>...</td>\n",
       "    </tr>\n",
       "    <tr>\n",
       "      <th>5079</th>\n",
       "      <td>-1.273046</td>\n",
       "      <td>-1.222477</td>\n",
       "      <td>1.587551</td>\n",
       "      <td>1.601508</td>\n",
       "    </tr>\n",
       "    <tr>\n",
       "      <th>5080</th>\n",
       "      <td>-1.291281</td>\n",
       "      <td>-1.271843</td>\n",
       "      <td>1.563459</td>\n",
       "      <td>1.506923</td>\n",
       "    </tr>\n",
       "    <tr>\n",
       "      <th>5081</th>\n",
       "      <td>-1.301966</td>\n",
       "      <td>-1.430516</td>\n",
       "      <td>1.463753</td>\n",
       "      <td>1.481458</td>\n",
       "    </tr>\n",
       "    <tr>\n",
       "      <th>5082</th>\n",
       "      <td>-1.468584</td>\n",
       "      <td>-1.446971</td>\n",
       "      <td>1.419857</td>\n",
       "      <td>1.415976</td>\n",
       "    </tr>\n",
       "    <tr>\n",
       "      <th>5083</th>\n",
       "      <td>-1.465407</td>\n",
       "      <td>-1.569209</td>\n",
       "      <td>1.341966</td>\n",
       "      <td>1.350494</td>\n",
       "    </tr>\n",
       "  </tbody>\n",
       "</table>\n",
       "<p>5084 rows × 4 columns</p>\n",
       "</div>"
      ],
      "text/plain": [
       "      Temperature Predictions  Temperature Actuals  Pressure Predictions  \\\n",
       "0                    0.403470             0.412451             -0.806178   \n",
       "1                    0.356700             0.353683             -0.792220   \n",
       "2                    0.316044             0.323123             -0.756483   \n",
       "3                    0.318720             0.250251             -0.702984   \n",
       "4                    0.274688             0.254952             -0.617793   \n",
       "...                       ...                  ...                   ...   \n",
       "5079                -1.273046            -1.222477              1.587551   \n",
       "5080                -1.291281            -1.271843              1.563459   \n",
       "5081                -1.301966            -1.430516              1.463753   \n",
       "5082                -1.468584            -1.446971              1.419857   \n",
       "5083                -1.465407            -1.569209              1.341966   \n",
       "\n",
       "      Pressure Actuals  \n",
       "0            -0.793439  \n",
       "1            -0.763123  \n",
       "2            -0.721893  \n",
       "3            -0.652773  \n",
       "4            -0.652773  \n",
       "...                ...  \n",
       "5079          1.601508  \n",
       "5080          1.506923  \n",
       "5081          1.481458  \n",
       "5082          1.415976  \n",
       "5083          1.350494  \n",
       "\n",
       "[5084 rows x 4 columns]"
      ]
     },
     "execution_count": 74,
     "metadata": {},
     "output_type": "execute_result"
    },
    {
     "data": {
      "image/png": "[encoded data removed]",
      "text/plain": [
       "<Figure size 640x480 with 1 Axes>"
      ]
     },
     "metadata": {},
     "output_type": "display_data"
    }
   ],
   "source": [
    "plot_predictions2(model5, X3_test, y3_test)"
   ]
  },
  {
   "cell_type": "code",
   "execution_count": 75,
   "id": "d9d00734",
   "metadata": {},
   "outputs": [],
   "source": [
    "def postprocess_temp(arr):\n",
    "    arr = (arr*temp_training_std3) + temp_training_mean3\n",
    "    return arr\n",
    "\n",
    "def postprocess_p(arr):\n",
    "    arr = (arr*p_training_std3) + p_training_mean3\n",
    "    return arr"
   ]
  },
  {
   "cell_type": "code",
   "execution_count": 76,
   "id": "7148e9e8",
   "metadata": {},
   "outputs": [],
   "source": [
    "def get_predictions_postprocessed(model, X, y):\n",
    "    predictions = model.predict(X)\n",
    "    p_preds, temp_preds = postprocess_p(predictions[:, 0]), postprocess_temp(predictions[:, 1])\n",
    "    p_actuals, temp_actuals = postprocess_p(y[:, 0]), postprocess_temp(y[:, 1])\n",
    "    df = pd.DataFrame(data={'Temperature Predictions': temp_preds,\n",
    "                          'Temperature Actuals':temp_actuals,\n",
    "                          'Pressure Predictions': p_preds,\n",
    "                          'Pressure Actuals': p_actuals\n",
    "                          })\n",
    "    return df"
   ]
  },
  {
   "cell_type": "code",
   "execution_count": 77,
   "id": "f57f33c1",
   "metadata": {},
   "outputs": [
    {
     "name": "stdout",
     "output_type": "stream",
     "text": [
      "\u001b[1m159/159\u001b[0m \u001b[32m━━━━━━━━━━━━━━━━━━━━\u001b[0m\u001b[37m\u001b[0m \u001b[1m1s\u001b[0m 5ms/step\n"
     ]
    },
    {
     "data": {
      "text/html": [
       "<div>\n",
       "<style scoped>\n",
       "    .dataframe tbody tr th:only-of-type {\n",
       "        vertical-align: middle;\n",
       "    }\n",
       "\n",
       "    .dataframe tbody tr th {\n",
       "        vertical-align: top;\n",
       "    }\n",
       "\n",
       "    .dataframe thead th {\n",
       "        text-align: right;\n",
       "    }\n",
       "</style>\n",
       "<table border=\"1\" class=\"dataframe\">\n",
       "  <thead>\n",
       "    <tr style=\"text-align: right;\">\n",
       "      <th></th>\n",
       "      <th>Temperature Predictions</th>\n",
       "      <th>Temperature Actuals</th>\n",
       "      <th>Pressure Predictions</th>\n",
       "      <th>Pressure Actuals</th>\n",
       "    </tr>\n",
       "  </thead>\n",
       "  <tbody>\n",
       "    <tr>\n",
       "      <th>0</th>\n",
       "      <td>12.853588</td>\n",
       "      <td>12.93</td>\n",
       "      <td>982.324951</td>\n",
       "      <td>982.43</td>\n",
       "    </tr>\n",
       "    <tr>\n",
       "      <th>1</th>\n",
       "      <td>12.455674</td>\n",
       "      <td>12.43</td>\n",
       "      <td>982.440063</td>\n",
       "      <td>982.68</td>\n",
       "    </tr>\n",
       "    <tr>\n",
       "      <th>2</th>\n",
       "      <td>12.109774</td>\n",
       "      <td>12.17</td>\n",
       "      <td>982.734802</td>\n",
       "      <td>983.02</td>\n",
       "    </tr>\n",
       "    <tr>\n",
       "      <th>3</th>\n",
       "      <td>12.132536</td>\n",
       "      <td>11.55</td>\n",
       "      <td>983.175964</td>\n",
       "      <td>983.59</td>\n",
       "    </tr>\n",
       "    <tr>\n",
       "      <th>4</th>\n",
       "      <td>11.757912</td>\n",
       "      <td>11.59</td>\n",
       "      <td>983.878479</td>\n",
       "      <td>983.59</td>\n",
       "    </tr>\n",
       "    <tr>\n",
       "      <th>...</th>\n",
       "      <td>...</td>\n",
       "      <td>...</td>\n",
       "      <td>...</td>\n",
       "      <td>...</td>\n",
       "    </tr>\n",
       "    <tr>\n",
       "      <th>5079</th>\n",
       "      <td>-1.410242</td>\n",
       "      <td>-0.98</td>\n",
       "      <td>1002.064941</td>\n",
       "      <td>1002.18</td>\n",
       "    </tr>\n",
       "    <tr>\n",
       "      <th>5080</th>\n",
       "      <td>-1.565378</td>\n",
       "      <td>-1.40</td>\n",
       "      <td>1001.866272</td>\n",
       "      <td>1001.40</td>\n",
       "    </tr>\n",
       "    <tr>\n",
       "      <th>5081</th>\n",
       "      <td>-1.656295</td>\n",
       "      <td>-2.75</td>\n",
       "      <td>1001.044006</td>\n",
       "      <td>1001.19</td>\n",
       "    </tr>\n",
       "    <tr>\n",
       "      <th>5082</th>\n",
       "      <td>-3.073878</td>\n",
       "      <td>-2.89</td>\n",
       "      <td>1000.682007</td>\n",
       "      <td>1000.65</td>\n",
       "    </tr>\n",
       "    <tr>\n",
       "      <th>5083</th>\n",
       "      <td>-3.046853</td>\n",
       "      <td>-3.93</td>\n",
       "      <td>1000.039734</td>\n",
       "      <td>1000.11</td>\n",
       "    </tr>\n",
       "  </tbody>\n",
       "</table>\n",
       "<p>5084 rows × 4 columns</p>\n",
       "</div>"
      ],
      "text/plain": [
       "      Temperature Predictions  Temperature Actuals  Pressure Predictions  \\\n",
       "0                   12.853588                12.93            982.324951   \n",
       "1                   12.455674                12.43            982.440063   \n",
       "2                   12.109774                12.17            982.734802   \n",
       "3                   12.132536                11.55            983.175964   \n",
       "4                   11.757912                11.59            983.878479   \n",
       "...                       ...                  ...                   ...   \n",
       "5079                -1.410242                -0.98           1002.064941   \n",
       "5080                -1.565378                -1.40           1001.866272   \n",
       "5081                -1.656295                -2.75           1001.044006   \n",
       "5082                -3.073878                -2.89           1000.682007   \n",
       "5083                -3.046853                -3.93           1000.039734   \n",
       "\n",
       "      Pressure Actuals  \n",
       "0               982.43  \n",
       "1               982.68  \n",
       "2               983.02  \n",
       "3               983.59  \n",
       "4               983.59  \n",
       "...                ...  \n",
       "5079           1002.18  \n",
       "5080           1001.40  \n",
       "5081           1001.19  \n",
       "5082           1000.65  \n",
       "5083           1000.11  \n",
       "\n",
       "[5084 rows x 4 columns]"
      ]
     },
     "execution_count": 77,
     "metadata": {},
     "output_type": "execute_result"
    }
   ],
   "source": [
    "post_processed_df = get_predictions_postprocessed(model5, X3_test, y3_test)\n",
    "post_processed_df"
   ]
  },
  {
   "cell_type": "code",
   "execution_count": 78,
   "id": "c6d891a3",
   "metadata": {},
   "outputs": [
    {
     "data": {
      "text/plain": [
       "[<matplotlib.lines.Line2D at 0x2a3361bf3d0>]"
      ]
     },
     "execution_count": 78,
     "metadata": {},
     "output_type": "execute_result"
    },
    {
     "data": {
      "image/png": "[encoded data removed]",
      "text/plain": [
       "<Figure size 640x480 with 1 Axes>"
      ]
     },
     "metadata": {},
     "output_type": "display_data"
    }
   ],
   "source": [
    "start, end = 0, 100\n",
    "plt.plot(post_processed_df['Temperature Predictions'][start:end])\n",
    "plt.plot(post_processed_df['Temperature Actuals'][start:end])"
   ]
  },
  {
   "cell_type": "code",
   "execution_count": 79,
   "id": "c3c0e2df",
   "metadata": {},
   "outputs": [
    {
     "data": {
      "text/plain": [
       "[<matplotlib.lines.Line2D at 0x2a3361ce3d0>]"
      ]
     },
     "execution_count": 79,
     "metadata": {},
     "output_type": "execute_result"
    },
    {
     "data": {
      "image/png": "[encoded data removed]",
      "text/plain": [
       "<Figure size 640x480 with 1 Axes>"
      ]
     },
     "metadata": {},
     "output_type": "display_data"
    }
   ],
   "source": [
    "plt.plot(post_processed_df['Pressure Predictions'][start:end])\n",
    "plt.plot(post_processed_df['Pressure Actuals'][start:end])"
   ]
  },
  {
   "cell_type": "code",
   "execution_count": 80,
   "id": "37b66dab",
   "metadata": {},
   "outputs": [
    {
     "data": {
      "text/html": [
       "<pre style=\"white-space:pre;overflow-x:auto;line-height:normal;font-family:Menlo,'DejaVu Sans Mono',consolas,'Courier New',monospace\"><span style=\"font-weight: bold\">Model: \"sequential_6\"</span>\n",
       "</pre>\n"
      ],
      "text/plain": [
       "\u001b[1mModel: \"sequential_6\"\u001b[0m\n"
      ]
     },
     "metadata": {},
     "output_type": "display_data"
    },
    {
     "data": {
      "text/html": [
       "<pre style=\"white-space:pre;overflow-x:auto;line-height:normal;font-family:Menlo,'DejaVu Sans Mono',consolas,'Courier New',monospace\">┏━━━━━━━━━━━━━━━━━━━━━━━━━━━━━━━━━━━━━━┳━━━━━━━━━━━━━━━━━━━━━━━━━━━━━┳━━━━━━━━━━━━━━━━━┓\n",
       "┃<span style=\"font-weight: bold\"> Layer (type)                         </span>┃<span style=\"font-weight: bold\"> Output Shape                </span>┃<span style=\"font-weight: bold\">         Param # </span>┃\n",
       "┡━━━━━━━━━━━━━━━━━━━━━━━━━━━━━━━━━━━━━━╇━━━━━━━━━━━━━━━━━━━━━━━━━━━━━╇━━━━━━━━━━━━━━━━━┩\n",
       "│ lstm_4 (<span style=\"color: #0087ff; text-decoration-color: #0087ff\">LSTM</span>)                        │ (<span style=\"color: #00d7ff; text-decoration-color: #00d7ff\">None</span>, <span style=\"color: #00af00; text-decoration-color: #00af00\">7</span>, <span style=\"color: #00af00; text-decoration-color: #00af00\">32</span>)               │           <span style=\"color: #00af00; text-decoration-color: #00af00\">4,992</span> │\n",
       "├──────────────────────────────────────┼─────────────────────────────┼─────────────────┤\n",
       "│ lstm_5 (<span style=\"color: #0087ff; text-decoration-color: #0087ff\">LSTM</span>)                        │ (<span style=\"color: #00d7ff; text-decoration-color: #00d7ff\">None</span>, <span style=\"color: #00af00; text-decoration-color: #00af00\">16</span>)                  │           <span style=\"color: #00af00; text-decoration-color: #00af00\">3,136</span> │\n",
       "├──────────────────────────────────────┼─────────────────────────────┼─────────────────┤\n",
       "│ dense_12 (<span style=\"color: #0087ff; text-decoration-color: #0087ff\">Dense</span>)                     │ (<span style=\"color: #00d7ff; text-decoration-color: #00d7ff\">None</span>, <span style=\"color: #00af00; text-decoration-color: #00af00\">8</span>)                   │             <span style=\"color: #00af00; text-decoration-color: #00af00\">136</span> │\n",
       "├──────────────────────────────────────┼─────────────────────────────┼─────────────────┤\n",
       "│ dense_13 (<span style=\"color: #0087ff; text-decoration-color: #0087ff\">Dense</span>)                     │ (<span style=\"color: #00d7ff; text-decoration-color: #00d7ff\">None</span>, <span style=\"color: #00af00; text-decoration-color: #00af00\">2</span>)                   │              <span style=\"color: #00af00; text-decoration-color: #00af00\">18</span> │\n",
       "└──────────────────────────────────────┴─────────────────────────────┴─────────────────┘\n",
       "</pre>\n"
      ],
      "text/plain": [
       "┏━━━━━━━━━━━━━━━━━━━━━━━━━━━━━━━━━━━━━━┳━━━━━━━━━━━━━━━━━━━━━━━━━━━━━┳━━━━━━━━━━━━━━━━━┓\n",
       "┃\u001b[1m \u001b[0m\u001b[1mLayer (type)                        \u001b[0m\u001b[1m \u001b[0m┃\u001b[1m \u001b[0m\u001b[1mOutput Shape               \u001b[0m\u001b[1m \u001b[0m┃\u001b[1m \u001b[0m\u001b[1m        Param #\u001b[0m\u001b[1m \u001b[0m┃\n",
       "┡━━━━━━━━━━━━━━━━━━━━━━━━━━━━━━━━━━━━━━╇━━━━━━━━━━━━━━━━━━━━━━━━━━━━━╇━━━━━━━━━━━━━━━━━┩\n",
       "│ lstm_4 (\u001b[38;5;33mLSTM\u001b[0m)                        │ (\u001b[38;5;45mNone\u001b[0m, \u001b[38;5;34m7\u001b[0m, \u001b[38;5;34m32\u001b[0m)               │           \u001b[38;5;34m4,992\u001b[0m │\n",
       "├──────────────────────────────────────┼─────────────────────────────┼─────────────────┤\n",
       "│ lstm_5 (\u001b[38;5;33mLSTM\u001b[0m)                        │ (\u001b[38;5;45mNone\u001b[0m, \u001b[38;5;34m16\u001b[0m)                  │           \u001b[38;5;34m3,136\u001b[0m │\n",
       "├──────────────────────────────────────┼─────────────────────────────┼─────────────────┤\n",
       "│ dense_12 (\u001b[38;5;33mDense\u001b[0m)                     │ (\u001b[38;5;45mNone\u001b[0m, \u001b[38;5;34m8\u001b[0m)                   │             \u001b[38;5;34m136\u001b[0m │\n",
       "├──────────────────────────────────────┼─────────────────────────────┼─────────────────┤\n",
       "│ dense_13 (\u001b[38;5;33mDense\u001b[0m)                     │ (\u001b[38;5;45mNone\u001b[0m, \u001b[38;5;34m2\u001b[0m)                   │              \u001b[38;5;34m18\u001b[0m │\n",
       "└──────────────────────────────────────┴─────────────────────────────┴─────────────────┘\n"
      ]
     },
     "metadata": {},
     "output_type": "display_data"
    },
    {
     "data": {
      "text/html": [
       "<pre style=\"white-space:pre;overflow-x:auto;line-height:normal;font-family:Menlo,'DejaVu Sans Mono',consolas,'Courier New',monospace\"><span style=\"font-weight: bold\"> Total params: </span><span style=\"color: #00af00; text-decoration-color: #00af00\">8,282</span> (32.35 KB)\n",
       "</pre>\n"
      ],
      "text/plain": [
       "\u001b[1m Total params: \u001b[0m\u001b[38;5;34m8,282\u001b[0m (32.35 KB)\n"
      ]
     },
     "metadata": {},
     "output_type": "display_data"
    },
    {
     "data": {
      "text/html": [
       "<pre style=\"white-space:pre;overflow-x:auto;line-height:normal;font-family:Menlo,'DejaVu Sans Mono',consolas,'Courier New',monospace\"><span style=\"font-weight: bold\"> Trainable params: </span><span style=\"color: #00af00; text-decoration-color: #00af00\">8,282</span> (32.35 KB)\n",
       "</pre>\n"
      ],
      "text/plain": [
       "\u001b[1m Trainable params: \u001b[0m\u001b[38;5;34m8,282\u001b[0m (32.35 KB)\n"
      ]
     },
     "metadata": {},
     "output_type": "display_data"
    },
    {
     "data": {
      "text/html": [
       "<pre style=\"white-space:pre;overflow-x:auto;line-height:normal;font-family:Menlo,'DejaVu Sans Mono',consolas,'Courier New',monospace\"><span style=\"font-weight: bold\"> Non-trainable params: </span><span style=\"color: #00af00; text-decoration-color: #00af00\">0</span> (0.00 B)\n",
       "</pre>\n"
      ],
      "text/plain": [
       "\u001b[1m Non-trainable params: \u001b[0m\u001b[38;5;34m0\u001b[0m (0.00 B)\n"
      ]
     },
     "metadata": {},
     "output_type": "display_data"
    }
   ],
   "source": [
    "model6 = Sequential()\n",
    "model6.add(InputLayer((7, 6)))\n",
    "model6.add(LSTM(32, return_sequences=True))\n",
    "model6.add(LSTM(16))\n",
    "model6.add(Dense(8, 'relu'))\n",
    "model6.add(Dense(2, 'linear'))\n",
    "\n",
    "model6.summary()"
   ]
  },
  {
   "cell_type": "code",
   "execution_count": 82,
   "id": "df52a538",
   "metadata": {},
   "outputs": [],
   "source": [
    "cp6 = ModelCheckpoint('model6/model6.keras', save_best_only=True)\n",
    "model6.compile(loss=MeanSquaredError(), optimizer=Adam(learning_rate=0.0001), metrics=[RootMeanSquaredError()])"
   ]
  },
  {
   "cell_type": "code",
   "execution_count": 83,
   "id": "872270ba",
   "metadata": {},
   "outputs": [
    {
     "name": "stdout",
     "output_type": "stream",
     "text": [
      "Epoch 1/10\n",
      "\u001b[1m1875/1875\u001b[0m \u001b[32m━━━━━━━━━━━━━━━━━━━━\u001b[0m\u001b[37m\u001b[0m \u001b[1m22s\u001b[0m 9ms/step - loss: 0.4246 - root_mean_squared_error: 0.6355 - val_loss: 0.0517 - val_root_mean_squared_error: 0.2275\n",
      "Epoch 2/10\n",
      "\u001b[1m1875/1875\u001b[0m \u001b[32m━━━━━━━━━━━━━━━━━━━━\u001b[0m\u001b[37m\u001b[0m \u001b[1m14s\u001b[0m 8ms/step - loss: 0.0466 - root_mean_squared_error: 0.2156 - val_loss: 0.0325 - val_root_mean_squared_error: 0.1803\n",
      "Epoch 3/10\n",
      "\u001b[1m1875/1875\u001b[0m \u001b[32m━━━━━━━━━━━━━━━━━━━━\u001b[0m\u001b[37m\u001b[0m \u001b[1m15s\u001b[0m 8ms/step - loss: 0.0290 - root_mean_squared_error: 0.1704 - val_loss: 0.0203 - val_root_mean_squared_error: 0.1424\n",
      "Epoch 4/10\n",
      "\u001b[1m1875/1875\u001b[0m \u001b[32m━━━━━━━━━━━━━━━━━━━━\u001b[0m\u001b[37m\u001b[0m \u001b[1m15s\u001b[0m 8ms/step - loss: 0.0185 - root_mean_squared_error: 0.1360 - val_loss: 0.0132 - val_root_mean_squared_error: 0.1148\n",
      "Epoch 5/10\n",
      "\u001b[1m1875/1875\u001b[0m \u001b[32m━━━━━━━━━━━━━━━━━━━━\u001b[0m\u001b[37m\u001b[0m \u001b[1m14s\u001b[0m 8ms/step - loss: 0.0135 - root_mean_squared_error: 0.1162 - val_loss: 0.0087 - val_root_mean_squared_error: 0.0935\n",
      "Epoch 6/10\n",
      "\u001b[1m1875/1875\u001b[0m \u001b[32m━━━━━━━━━━━━━━━━━━━━\u001b[0m\u001b[37m\u001b[0m \u001b[1m14s\u001b[0m 8ms/step - loss: 0.0100 - root_mean_squared_error: 0.1001 - val_loss: 0.0070 - val_root_mean_squared_error: 0.0837\n",
      "Epoch 7/10\n",
      "\u001b[1m1875/1875\u001b[0m \u001b[32m━━━━━━━━━━━━━━━━━━━━\u001b[0m\u001b[37m\u001b[0m \u001b[1m15s\u001b[0m 8ms/step - loss: 0.0078 - root_mean_squared_error: 0.0882 - val_loss: 0.0059 - val_root_mean_squared_error: 0.0765\n",
      "Epoch 8/10\n",
      "\u001b[1m1875/1875\u001b[0m \u001b[32m━━━━━━━━━━━━━━━━━━━━\u001b[0m\u001b[37m\u001b[0m \u001b[1m15s\u001b[0m 8ms/step - loss: 0.0067 - root_mean_squared_error: 0.0819 - val_loss: 0.0049 - val_root_mean_squared_error: 0.0702\n",
      "Epoch 9/10\n",
      "\u001b[1m1875/1875\u001b[0m \u001b[32m━━━━━━━━━━━━━━━━━━━━\u001b[0m\u001b[37m\u001b[0m \u001b[1m15s\u001b[0m 8ms/step - loss: 0.0055 - root_mean_squared_error: 0.0739 - val_loss: 0.0060 - val_root_mean_squared_error: 0.0775\n",
      "Epoch 10/10\n",
      "\u001b[1m1875/1875\u001b[0m \u001b[32m━━━━━━━━━━━━━━━━━━━━\u001b[0m\u001b[37m\u001b[0m \u001b[1m15s\u001b[0m 8ms/step - loss: 0.0053 - root_mean_squared_error: 0.0729 - val_loss: 0.0043 - val_root_mean_squared_error: 0.0659\n"
     ]
    },
    {
     "data": {
      "text/plain": [
       "<keras.src.callbacks.history.History at 0x2a33680e910>"
      ]
     },
     "execution_count": 83,
     "metadata": {},
     "output_type": "execute_result"
    }
   ],
   "source": [
    "model6.fit(X3_train, y3_train, validation_data=(X3_val, y3_val), epochs=10, callbacks=[cp6])"
   ]
  },
  {
   "cell_type": "code",
   "execution_count": 84,
   "id": "a092f000",
   "metadata": {},
   "outputs": [
    {
     "data": {
      "text/html": [
       "<pre style=\"white-space:pre;overflow-x:auto;line-height:normal;font-family:Menlo,'DejaVu Sans Mono',consolas,'Courier New',monospace\"><span style=\"font-weight: bold\">Model: \"sequential_7\"</span>\n",
       "</pre>\n"
      ],
      "text/plain": [
       "\u001b[1mModel: \"sequential_7\"\u001b[0m\n"
      ]
     },
     "metadata": {},
     "output_type": "display_data"
    },
    {
     "data": {
      "text/html": [
       "<pre style=\"white-space:pre;overflow-x:auto;line-height:normal;font-family:Menlo,'DejaVu Sans Mono',consolas,'Courier New',monospace\">┏━━━━━━━━━━━━━━━━━━━━━━━━━━━━━━━━━━━━━━┳━━━━━━━━━━━━━━━━━━━━━━━━━━━━━┳━━━━━━━━━━━━━━━━━┓\n",
       "┃<span style=\"font-weight: bold\"> Layer (type)                         </span>┃<span style=\"font-weight: bold\"> Output Shape                </span>┃<span style=\"font-weight: bold\">         Param # </span>┃\n",
       "┡━━━━━━━━━━━━━━━━━━━━━━━━━━━━━━━━━━━━━━╇━━━━━━━━━━━━━━━━━━━━━━━━━━━━━╇━━━━━━━━━━━━━━━━━┩\n",
       "│ conv1d_1 (<span style=\"color: #0087ff; text-decoration-color: #0087ff\">Conv1D</span>)                    │ (<span style=\"color: #00d7ff; text-decoration-color: #00d7ff\">None</span>, <span style=\"color: #00af00; text-decoration-color: #00af00\">6</span>, <span style=\"color: #00af00; text-decoration-color: #00af00\">64</span>)               │             <span style=\"color: #00af00; text-decoration-color: #00af00\">832</span> │\n",
       "├──────────────────────────────────────┼─────────────────────────────┼─────────────────┤\n",
       "│ flatten_1 (<span style=\"color: #0087ff; text-decoration-color: #0087ff\">Flatten</span>)                  │ (<span style=\"color: #00d7ff; text-decoration-color: #00d7ff\">None</span>, <span style=\"color: #00af00; text-decoration-color: #00af00\">384</span>)                 │               <span style=\"color: #00af00; text-decoration-color: #00af00\">0</span> │\n",
       "├──────────────────────────────────────┼─────────────────────────────┼─────────────────┤\n",
       "│ dense_14 (<span style=\"color: #0087ff; text-decoration-color: #0087ff\">Dense</span>)                     │ (<span style=\"color: #00d7ff; text-decoration-color: #00d7ff\">None</span>, <span style=\"color: #00af00; text-decoration-color: #00af00\">8</span>)                   │           <span style=\"color: #00af00; text-decoration-color: #00af00\">3,080</span> │\n",
       "├──────────────────────────────────────┼─────────────────────────────┼─────────────────┤\n",
       "│ dense_15 (<span style=\"color: #0087ff; text-decoration-color: #0087ff\">Dense</span>)                     │ (<span style=\"color: #00d7ff; text-decoration-color: #00d7ff\">None</span>, <span style=\"color: #00af00; text-decoration-color: #00af00\">2</span>)                   │              <span style=\"color: #00af00; text-decoration-color: #00af00\">18</span> │\n",
       "└──────────────────────────────────────┴─────────────────────────────┴─────────────────┘\n",
       "</pre>\n"
      ],
      "text/plain": [
       "┏━━━━━━━━━━━━━━━━━━━━━━━━━━━━━━━━━━━━━━┳━━━━━━━━━━━━━━━━━━━━━━━━━━━━━┳━━━━━━━━━━━━━━━━━┓\n",
       "┃\u001b[1m \u001b[0m\u001b[1mLayer (type)                        \u001b[0m\u001b[1m \u001b[0m┃\u001b[1m \u001b[0m\u001b[1mOutput Shape               \u001b[0m\u001b[1m \u001b[0m┃\u001b[1m \u001b[0m\u001b[1m        Param #\u001b[0m\u001b[1m \u001b[0m┃\n",
       "┡━━━━━━━━━━━━━━━━━━━━━━━━━━━━━━━━━━━━━━╇━━━━━━━━━━━━━━━━━━━━━━━━━━━━━╇━━━━━━━━━━━━━━━━━┩\n",
       "│ conv1d_1 (\u001b[38;5;33mConv1D\u001b[0m)                    │ (\u001b[38;5;45mNone\u001b[0m, \u001b[38;5;34m6\u001b[0m, \u001b[38;5;34m64\u001b[0m)               │             \u001b[38;5;34m832\u001b[0m │\n",
       "├──────────────────────────────────────┼─────────────────────────────┼─────────────────┤\n",
       "│ flatten_1 (\u001b[38;5;33mFlatten\u001b[0m)                  │ (\u001b[38;5;45mNone\u001b[0m, \u001b[38;5;34m384\u001b[0m)                 │               \u001b[38;5;34m0\u001b[0m │\n",
       "├──────────────────────────────────────┼─────────────────────────────┼─────────────────┤\n",
       "│ dense_14 (\u001b[38;5;33mDense\u001b[0m)                     │ (\u001b[38;5;45mNone\u001b[0m, \u001b[38;5;34m8\u001b[0m)                   │           \u001b[38;5;34m3,080\u001b[0m │\n",
       "├──────────────────────────────────────┼─────────────────────────────┼─────────────────┤\n",
       "│ dense_15 (\u001b[38;5;33mDense\u001b[0m)                     │ (\u001b[38;5;45mNone\u001b[0m, \u001b[38;5;34m2\u001b[0m)                   │              \u001b[38;5;34m18\u001b[0m │\n",
       "└──────────────────────────────────────┴─────────────────────────────┴─────────────────┘\n"
      ]
     },
     "metadata": {},
     "output_type": "display_data"
    },
    {
     "data": {
      "text/html": [
       "<pre style=\"white-space:pre;overflow-x:auto;line-height:normal;font-family:Menlo,'DejaVu Sans Mono',consolas,'Courier New',monospace\"><span style=\"font-weight: bold\"> Total params: </span><span style=\"color: #00af00; text-decoration-color: #00af00\">3,930</span> (15.35 KB)\n",
       "</pre>\n"
      ],
      "text/plain": [
       "\u001b[1m Total params: \u001b[0m\u001b[38;5;34m3,930\u001b[0m (15.35 KB)\n"
      ]
     },
     "metadata": {},
     "output_type": "display_data"
    },
    {
     "data": {
      "text/html": [
       "<pre style=\"white-space:pre;overflow-x:auto;line-height:normal;font-family:Menlo,'DejaVu Sans Mono',consolas,'Courier New',monospace\"><span style=\"font-weight: bold\"> Trainable params: </span><span style=\"color: #00af00; text-decoration-color: #00af00\">3,930</span> (15.35 KB)\n",
       "</pre>\n"
      ],
      "text/plain": [
       "\u001b[1m Trainable params: \u001b[0m\u001b[38;5;34m3,930\u001b[0m (15.35 KB)\n"
      ]
     },
     "metadata": {},
     "output_type": "display_data"
    },
    {
     "data": {
      "text/html": [
       "<pre style=\"white-space:pre;overflow-x:auto;line-height:normal;font-family:Menlo,'DejaVu Sans Mono',consolas,'Courier New',monospace\"><span style=\"font-weight: bold\"> Non-trainable params: </span><span style=\"color: #00af00; text-decoration-color: #00af00\">0</span> (0.00 B)\n",
       "</pre>\n"
      ],
      "text/plain": [
       "\u001b[1m Non-trainable params: \u001b[0m\u001b[38;5;34m0\u001b[0m (0.00 B)\n"
      ]
     },
     "metadata": {},
     "output_type": "display_data"
    }
   ],
   "source": [
    "model7 = Sequential()\n",
    "model7.add(InputLayer((7, 6)))\n",
    "model7.add(Conv1D(64, kernel_size=2, activation='relu'))\n",
    "model7.add(Flatten())\n",
    "model7.add(Dense(8, 'relu'))\n",
    "model7.add(Dense(2, 'linear'))\n",
    "model7.summary()"
   ]
  },
  {
   "cell_type": "code",
   "execution_count": 85,
   "id": "6cfacdad",
   "metadata": {},
   "outputs": [],
   "source": [
    "cp7 = ModelCheckpoint('model6/model6.keras', save_best_only=True)\n",
    "model7.compile(loss=MeanSquaredError(), optimizer=Adam(learning_rate=0.0001), metrics=[RootMeanSquaredError()])"
   ]
  },
  {
   "cell_type": "code",
   "execution_count": 86,
   "id": "45543318",
   "metadata": {},
   "outputs": [
    {
     "name": "stdout",
     "output_type": "stream",
     "text": [
      "Epoch 1/10\n",
      "\u001b[1m1875/1875\u001b[0m \u001b[32m━━━━━━━━━━━━━━━━━━━━\u001b[0m\u001b[37m\u001b[0m \u001b[1m11s\u001b[0m 4ms/step - loss: 0.2125 - root_mean_squared_error: 0.4323 - val_loss: 0.0190 - val_root_mean_squared_error: 0.1377\n",
      "Epoch 2/10\n",
      "\u001b[1m1875/1875\u001b[0m \u001b[32m━━━━━━━━━━━━━━━━━━━━\u001b[0m\u001b[37m\u001b[0m \u001b[1m8s\u001b[0m 4ms/step - loss: 0.0162 - root_mean_squared_error: 0.1272 - val_loss: 0.0100 - val_root_mean_squared_error: 0.0998\n",
      "Epoch 3/10\n",
      "\u001b[1m1875/1875\u001b[0m \u001b[32m━━━━━━━━━━━━━━━━━━━━\u001b[0m\u001b[37m\u001b[0m \u001b[1m8s\u001b[0m 4ms/step - loss: 0.0107 - root_mean_squared_error: 0.1034 - val_loss: 0.0077 - val_root_mean_squared_error: 0.0876\n",
      "Epoch 4/10\n",
      "\u001b[1m1875/1875\u001b[0m \u001b[32m━━━━━━━━━━━━━━━━━━━━\u001b[0m\u001b[37m\u001b[0m \u001b[1m8s\u001b[0m 4ms/step - loss: 0.0080 - root_mean_squared_error: 0.0891 - val_loss: 0.0063 - val_root_mean_squared_error: 0.0794\n",
      "Epoch 5/10\n",
      "\u001b[1m1875/1875\u001b[0m \u001b[32m━━━━━━━━━━━━━━━━━━━━\u001b[0m\u001b[37m\u001b[0m \u001b[1m7s\u001b[0m 4ms/step - loss: 0.0069 - root_mean_squared_error: 0.0828 - val_loss: 0.0057 - val_root_mean_squared_error: 0.0755\n",
      "Epoch 6/10\n",
      "\u001b[1m1875/1875\u001b[0m \u001b[32m━━━━━━━━━━━━━━━━━━━━\u001b[0m\u001b[37m\u001b[0m \u001b[1m8s\u001b[0m 4ms/step - loss: 0.0070 - root_mean_squared_error: 0.0834 - val_loss: 0.0051 - val_root_mean_squared_error: 0.0716\n",
      "Epoch 7/10\n",
      "\u001b[1m1875/1875\u001b[0m \u001b[32m━━━━━━━━━━━━━━━━━━━━\u001b[0m\u001b[37m\u001b[0m \u001b[1m8s\u001b[0m 4ms/step - loss: 0.0056 - root_mean_squared_error: 0.0747 - val_loss: 0.0050 - val_root_mean_squared_error: 0.0709\n",
      "Epoch 8/10\n",
      "\u001b[1m1875/1875\u001b[0m \u001b[32m━━━━━━━━━━━━━━━━━━━━\u001b[0m\u001b[37m\u001b[0m \u001b[1m9s\u001b[0m 5ms/step - loss: 0.0063 - root_mean_squared_error: 0.0796 - val_loss: 0.0048 - val_root_mean_squared_error: 0.0692\n",
      "Epoch 9/10\n",
      "\u001b[1m1875/1875\u001b[0m \u001b[32m━━━━━━━━━━━━━━━━━━━━\u001b[0m\u001b[37m\u001b[0m \u001b[1m7s\u001b[0m 4ms/step - loss: 0.0056 - root_mean_squared_error: 0.0747 - val_loss: 0.0046 - val_root_mean_squared_error: 0.0678\n",
      "Epoch 10/10\n",
      "\u001b[1m1875/1875\u001b[0m \u001b[32m━━━━━━━━━━━━━━━━━━━━\u001b[0m\u001b[37m\u001b[0m \u001b[1m7s\u001b[0m 4ms/step - loss: 0.0063 - root_mean_squared_error: 0.0790 - val_loss: 0.0045 - val_root_mean_squared_error: 0.0668\n"
     ]
    },
    {
     "data": {
      "text/plain": [
       "<keras.src.callbacks.history.History at 0x2a3366c72d0>"
      ]
     },
     "execution_count": 86,
     "metadata": {},
     "output_type": "execute_result"
    }
   ],
   "source": [
    "model7.fit(X3_train, y3_train, validation_data=(X3_val, y3_val), epochs=10, callbacks=[cp7])"
   ]
  },
  {
   "cell_type": "code",
   "execution_count": null,
   "id": "500084c2",
   "metadata": {},
   "outputs": [],
   "source": []
  }
 ],
 "metadata": {
  "kernelspec": {
   "display_name": "Python 3 (ipykernel)",
   "language": "python",
   "name": "python3"
  },
  "language_info": {
   "codemirror_mode": {
    "name": "ipython",
    "version": 3
   },
   "file_extension": ".py",
   "mimetype": "text/x-python",
   "name": "python",
   "nbconvert_exporter": "python",
   "pygments_lexer": "ipython3",
   "version": "3.11.5"
  }
 },
 "nbformat": 4,
 "nbformat_minor": 5
}
